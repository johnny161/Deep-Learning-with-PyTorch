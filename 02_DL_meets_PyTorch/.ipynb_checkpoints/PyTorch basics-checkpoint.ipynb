{
 "cells": [
  {
   "cell_type": "markdown",
   "metadata": {},
   "source": [
    "# 第二章 PyTorch简介"
   ]
  },
  {
   "cell_type": "markdown",
   "metadata": {},
   "source": [
    "## 一、有关Tensor和Autograd变量的练习\n",
    "### 1. Tensor\n",
    "#### a. 产生Tensor"
   ]
  },
  {
   "cell_type": "code",
   "execution_count": 1,
   "metadata": {},
   "outputs": [
    {
     "data": {
      "text/plain": [
       "'1.1.0'"
      ]
     },
     "execution_count": 1,
     "metadata": {},
     "output_type": "execute_result"
    }
   ],
   "source": [
    "import torch\n",
    "torch.__version__"
   ]
  },
  {
   "cell_type": "code",
   "execution_count": 2,
   "metadata": {},
   "outputs": [
    {
     "data": {
      "text/plain": [
       "tensor([[0.7409, 0.0130, 0.1231],\n",
       "        [0.8028, 0.8240, 0.4109],\n",
       "        [0.9044, 0.2082, 0.9312],\n",
       "        [0.9988, 0.9375, 0.5547],\n",
       "        [0.9289, 0.2690, 0.2895]])"
      ]
     },
     "execution_count": 2,
     "metadata": {},
     "output_type": "execute_result"
    }
   ],
   "source": [
    "x = torch.rand(5, 3)\n",
    "x"
   ]
  },
  {
   "cell_type": "code",
   "execution_count": 3,
   "metadata": {},
   "outputs": [
    {
     "data": {
      "text/plain": [
       "tensor([[1., 1., 1.],\n",
       "        [1., 1., 1.],\n",
       "        [1., 1., 1.],\n",
       "        [1., 1., 1.],\n",
       "        [1., 1., 1.]])"
      ]
     },
     "execution_count": 3,
     "metadata": {},
     "output_type": "execute_result"
    }
   ],
   "source": [
    "y = torch.ones(5, 3)\n",
    "y"
   ]
  },
  {
   "cell_type": "code",
   "execution_count": 4,
   "metadata": {},
   "outputs": [
    {
     "data": {
      "text/plain": [
       "tensor([[[0., 0., 0.],\n",
       "         [0., 0., 0.],\n",
       "         [0., 0., 0.],\n",
       "         [0., 0., 0.],\n",
       "         [0., 0., 0.]],\n",
       "\n",
       "        [[0., 0., 0.],\n",
       "         [0., 0., 0.],\n",
       "         [0., 0., 0.],\n",
       "         [0., 0., 0.],\n",
       "         [0., 0., 0.]]])"
      ]
     },
     "execution_count": 4,
     "metadata": {},
     "output_type": "execute_result"
    }
   ],
   "source": [
    "z = torch.zeros(2, 5, 3)\n",
    "z"
   ]
  },
  {
   "cell_type": "code",
   "execution_count": 5,
   "metadata": {},
   "outputs": [
    {
     "data": {
      "text/plain": [
       "tensor(0.4109)"
      ]
     },
     "execution_count": 5,
     "metadata": {},
     "output_type": "execute_result"
    }
   ],
   "source": [
    "x[1, 2]"
   ]
  },
  {
   "cell_type": "code",
   "execution_count": 6,
   "metadata": {},
   "outputs": [
    {
     "data": {
      "text/plain": [
       "tensor([0.1231, 0.4109, 0.9312, 0.5547, 0.2895])"
      ]
     },
     "execution_count": 6,
     "metadata": {},
     "output_type": "execute_result"
    }
   ],
   "source": [
    "x[:, 2]"
   ]
  },
  {
   "cell_type": "markdown",
   "metadata": {},
   "source": [
    "#### b. Tensor的运算"
   ]
  },
  {
   "cell_type": "code",
   "execution_count": 7,
   "metadata": {},
   "outputs": [
    {
     "data": {
      "text/plain": [
       "tensor([[1.7409, 1.0130, 1.1231],\n",
       "        [1.8028, 1.8240, 1.4109],\n",
       "        [1.9044, 1.2082, 1.9312],\n",
       "        [1.9988, 1.9375, 1.5547],\n",
       "        [1.9289, 1.2690, 1.2895]])"
      ]
     },
     "execution_count": 7,
     "metadata": {},
     "output_type": "execute_result"
    }
   ],
   "source": [
    "z = x + y\n",
    "z"
   ]
  },
  {
   "cell_type": "code",
   "execution_count": 10,
   "metadata": {},
   "outputs": [
    {
     "data": {
      "text/plain": [
       "tensor([[0.8770, 0.8770, 0.8770, 0.8770, 0.8770],\n",
       "        [2.0377, 2.0377, 2.0377, 2.0377, 2.0377],\n",
       "        [2.0437, 2.0437, 2.0437, 2.0437, 2.0437],\n",
       "        [2.4911, 2.4911, 2.4911, 2.4911, 2.4911],\n",
       "        [1.4874, 1.4874, 1.4874, 1.4874, 1.4874]])"
      ]
     },
     "execution_count": 10,
     "metadata": {},
     "output_type": "execute_result"
    }
   ],
   "source": [
    "q = x.mm(y.t())\n",
    "q"
   ]
  },
  {
   "cell_type": "markdown",
   "metadata": {},
   "source": [
    "#### c. Tensor与numpy.ndarray之间的转换"
   ]
  },
  {
   "cell_type": "code",
   "execution_count": 14,
   "metadata": {},
   "outputs": [
    {
     "name": "stdout",
     "output_type": "stream",
     "text": [
      "[[1. 1. 1.]\n",
      " [1. 1. 1.]\n",
      " [1. 1. 1.]\n",
      " [1. 1. 1.]\n",
      " [1. 1. 1.]]\n",
      "tensor([[1., 1., 1.],\n",
      "        [1., 1., 1.],\n",
      "        [1., 1., 1.],\n",
      "        [1., 1., 1.],\n",
      "        [1., 1., 1.]], dtype=torch.float64)\n"
     ]
    }
   ],
   "source": [
    "import numpy as np\n",
    "a = np.ones([5, 3])\n",
    "b = torch.from_numpy(a)\n",
    "print(a)\n",
    "print(b)"
   ]
  },
  {
   "cell_type": "code",
   "execution_count": 15,
   "metadata": {},
   "outputs": [
    {
     "data": {
      "text/plain": [
       "tensor([[1., 1., 1.],\n",
       "        [1., 1., 1.],\n",
       "        [1., 1., 1.],\n",
       "        [1., 1., 1.],\n",
       "        [1., 1., 1.]])"
      ]
     },
     "execution_count": 15,
     "metadata": {},
     "output_type": "execute_result"
    }
   ],
   "source": [
    "#另外一种转换为tensor的方法，类型为FloatTensor，还可以使LongTensor，整型数据类型\n",
    "c = torch.FloatTensor(a)\n",
    "c"
   ]
  },
  {
   "cell_type": "code",
   "execution_count": 16,
   "metadata": {},
   "outputs": [
    {
     "data": {
      "text/plain": [
       "array([[1., 1., 1.],\n",
       "       [1., 1., 1.],\n",
       "       [1., 1., 1.],\n",
       "       [1., 1., 1.],\n",
       "       [1., 1., 1.]])"
      ]
     },
     "execution_count": 16,
     "metadata": {},
     "output_type": "execute_result"
    }
   ],
   "source": [
    "b.numpy()"
   ]
  },
  {
   "cell_type": "markdown",
   "metadata": {},
   "source": [
    "#### d.tensor和numpy的最大区别在于tensor可以在GPU上运算"
   ]
  },
  {
   "cell_type": "code",
   "execution_count": 17,
   "metadata": {
    "collapsed": true
   },
   "outputs": [],
   "source": [
    "if torch.cuda.is_available():\n",
    "    x = x.cuda()\n",
    "    y = y.cuda()\n",
    "    print(x + y)"
   ]
  },
  {
   "cell_type": "code",
   "execution_count": 18,
   "metadata": {
    "collapsed": true
   },
   "outputs": [],
   "source": [
    "if torch.cuda.is_available():\n",
    "    device = torch.device(\"cuda\")\n",
    "    y = torch.ones_like(x, device=device)\n",
    "    x = x.to(device)\n",
    "    z = x + y\n",
    "    print(z)\n",
    "    print(z.to(\"cpu\", torch.double))"
   ]
  },
  {
   "cell_type": "markdown",
   "metadata": {},
   "source": [
    "### 2. 有关自动微分变量"
   ]
  },
  {
   "cell_type": "code",
   "execution_count": 19,
   "metadata": {},
   "outputs": [
    {
     "data": {
      "text/plain": [
       "tensor([[1., 1.],\n",
       "        [1., 1.]], requires_grad=True)"
      ]
     },
     "execution_count": 19,
     "metadata": {},
     "output_type": "execute_result"
    }
   ],
   "source": [
    "#创建一个Variable，包裹了一个2*2张量，将需要计算梯度属性置为True\n",
    "x = torch.ones((2, 2), requires_grad=True)\n",
    "x"
   ]
  },
  {
   "cell_type": "code",
   "execution_count": 20,
   "metadata": {},
   "outputs": [
    {
     "data": {
      "text/plain": [
       "<AddBackward0 at 0x7ad8748>"
      ]
     },
     "execution_count": 20,
     "metadata": {},
     "output_type": "execute_result"
    }
   ],
   "source": [
    "y = x + 2\n",
    "y.grad_fn # 父节点"
   ]
  },
  {
   "cell_type": "code",
   "execution_count": 21,
   "metadata": {},
   "outputs": [
    {
     "data": {
      "text/plain": [
       "<MulBackward0 at 0x7ad8908>"
      ]
     },
     "execution_count": 21,
     "metadata": {},
     "output_type": "execute_result"
    }
   ],
   "source": [
    "z = y * y\n",
    "z.grad_fn"
   ]
  },
  {
   "cell_type": "code",
   "execution_count": 22,
   "metadata": {},
   "outputs": [
    {
     "data": {
      "text/plain": [
       "tensor(9.)"
      ]
     },
     "execution_count": 22,
     "metadata": {},
     "output_type": "execute_result"
    }
   ],
   "source": [
    "# .data可以反回一个Variable所包裹的Tensor\n",
    "z = torch.mean(y * y)\n",
    "z.data"
   ]
  },
  {
   "cell_type": "code",
   "execution_count": 23,
   "metadata": {},
   "outputs": [
    {
     "name": "stdout",
     "output_type": "stream",
     "text": [
      "None\n",
      "None\n",
      "tensor([[1.5000, 1.5000],\n",
      "        [1.5000, 1.5000]])\n"
     ]
    }
   ],
   "source": [
    "# backward可以实施反向传播算法，并计算所有计算图上叶子节点的导数（梯度）信息。\n",
    "# 注意，由于z和y都不是叶子节点，所以都没有梯度信息）\n",
    "z.backward()\n",
    "print(z.grad)\n",
    "print(y.grad)\n",
    "print(x.grad)"
   ]
  },
  {
   "cell_type": "code",
   "execution_count": 24,
   "metadata": {
    "collapsed": true
   },
   "outputs": [],
   "source": [
    "s = torch.tensor([[0.01, 0.02]], requires_grad = True) #创建一个1*2的Variable（1维向量）\n",
    "x = torch.ones(2, 2, requires_grad = True) #创建一个2*2的矩阵型Variable\n",
    "for i in range(10):\n",
    "    s = s.mm(x)  #反复用s乘以x（矩阵乘法），注意s始终是1*2的Variable\n",
    "z = torch.mean(s) #对s中的各个元素求均值，得到一个1*1的scalar（标量，即1*1张量）"
   ]
  },
  {
   "cell_type": "code",
   "execution_count": 25,
   "metadata": {},
   "outputs": [
    {
     "name": "stdout",
     "output_type": "stream",
     "text": [
      "tensor([[37.1200, 37.1200],\n",
      "        [39.6800, 39.6800]])\n",
      "None\n"
     ]
    }
   ],
   "source": [
    "z.backward() #在具有很长的依赖路径的计算图上用反向传播算法计算叶节点的梯度\n",
    "print(x.grad)  #x作为叶节点可以获得这部分梯度信息\n",
    "print(s.grad)  #s不是叶节点，没有梯度信息"
   ]
  },
  {
   "cell_type": "markdown",
   "metadata": {},
   "source": [
    "## 二、利用PyTorch实现简单的线性回归算法"
   ]
  },
  {
   "cell_type": "markdown",
   "metadata": {},
   "source": [
    "### 1.准备数据"
   ]
  },
  {
   "cell_type": "code",
   "execution_count": 29,
   "metadata": {},
   "outputs": [],
   "source": [
    "x = torch.linspace(0, 100).type(torch.FloatTensor)\n",
    "rand = torch.randn(100) *  10\n",
    "y = x + rand"
   ]
  },
  {
   "cell_type": "code",
   "execution_count": 30,
   "metadata": {
    "collapsed": true
   },
   "outputs": [],
   "source": [
    "x_train = x[:-10]\n",
    "y_train = y[:-10]\n",
    "x_test = x[-10:]\n",
    "y_test = y[-10:]"
   ]
  },
  {
   "cell_type": "code",
   "execution_count": 32,
   "metadata": {},
   "outputs": [
    {
     "data": {
      "image/png": "[encoded data removed]",
      "text/plain": [
       "<Figure size 720x576 with 1 Axes>"
      ]
     },
     "metadata": {},
     "output_type": "display_data"
    }
   ],
   "source": [
    "import matplotlib.pyplot as plt\n",
    "plt.figure(figsize=(10,8))\n",
    "plt.plot(x_train.numpy(), y_train.numpy(), 'o')\n",
    "plt.xlabel('X')\n",
    "plt.ylabel('Y')\n",
    "plt.show()"
   ]
  },
  {
   "cell_type": "markdown",
   "metadata": {},
   "source": [
    "### 2. 构造模型，计算损失函数"
   ]
  },
  {
   "cell_type": "code",
   "execution_count": 37,
   "metadata": {},
   "outputs": [
    {
     "data": {
      "text/plain": [
       "tensor([  1.9261,   3.1393,   4.3526,   5.5658,   6.7790,   7.9923,   9.2055,\n",
       "         10.4188,  11.6320,  12.8452,  14.0585,  15.2717,  16.4849,  17.6982,\n",
       "         18.9114,  20.1247,  21.3379,  22.5511,  23.7644,  24.9776,  26.1909,\n",
       "         27.4041,  28.6173,  29.8306,  31.0438,  32.2571,  33.4703,  34.6835,\n",
       "         35.8968,  37.1100,  38.3232,  39.5365,  40.7497,  41.9630,  43.1762,\n",
       "         44.3894,  45.6027,  46.8159,  48.0292,  49.2424,  50.4556,  51.6689,\n",
       "         52.8821,  54.0954,  55.3086,  56.5218,  57.7351,  58.9483,  60.1616,\n",
       "         61.3748,  62.5880,  63.8013,  65.0145,  66.2277,  67.4410,  68.6542,\n",
       "         69.8675,  71.0807,  72.2939,  73.5072,  74.7204,  75.9336,  77.1469,\n",
       "         78.3601,  79.5734,  80.7866,  81.9998,  83.2131,  84.4263,  85.6396,\n",
       "         86.8528,  88.0660,  89.2793,  90.4925,  91.7058,  92.9190,  94.1322,\n",
       "         95.3455,  96.5587,  97.7719,  98.9852, 100.1984, 101.4117, 102.6249,\n",
       "        103.8381, 105.0514, 106.2646, 107.4779, 108.6911, 109.9043],\n",
       "       grad_fn=<AddBackward0>)"
      ]
     },
     "execution_count": 37,
     "metadata": {},
     "output_type": "execute_result"
    }
   ],
   "source": [
    "a = torch.randn(1, requires_grad = True)\n",
    "b = torch.randn(1, requires_grad = True)\n",
    "predictions = a.expand_as(x_train) * x_train + b.expand_as(x_train)\n",
    "predictions"
   ]
  },
  {
   "cell_type": "code",
   "execution_count": 38,
   "metadata": {
    "collapsed": true
   },
   "outputs": [],
   "source": [
    "loss = torch.mean((predictions - y_train) ** 2)\n",
    "loss.backward()"
   ]
  },
  {
   "cell_type": "code",
   "execution_count": 43,
   "metadata": {},
   "outputs": [
    {
     "data": {
      "text/plain": [
       "tensor([1.9017])"
      ]
     },
     "execution_count": 43,
     "metadata": {},
     "output_type": "execute_result"
    }
   ],
   "source": [
    "a.data.add_(- 0.001 * a.grad.data)\n",
    "b.data.add_(- 0.001 * b.grad.data)"
   ]
  },
  {
   "cell_type": "markdown",
   "metadata": {},
   "source": [
    "### 3. 训练模型的代码"
   ]
  },
  {
   "cell_type": "code",
   "execution_count": 71,
   "metadata": {},
   "outputs": [
    {
     "name": "stdout",
     "output_type": "stream",
     "text": [
      "Initial parameters: [tensor([0.2751], requires_grad=True), tensor([0.8945], requires_grad=True)]\n",
      "loss: tensor(1377.0356, grad_fn=<MeanBackward0>)\n",
      "loss: tensor(370.3481, grad_fn=<MeanBackward0>)\n",
      "loss: tensor(159.1487, grad_fn=<MeanBackward0>)\n",
      "loss: tensor(114.8398, grad_fn=<MeanBackward0>)\n",
      "loss: tensor(105.5439, grad_fn=<MeanBackward0>)\n",
      "loss: tensor(103.5936, grad_fn=<MeanBackward0>)\n",
      "loss: tensor(103.1844, grad_fn=<MeanBackward0>)\n",
      "loss: tensor(103.0985, grad_fn=<MeanBackward0>)\n",
      "loss: tensor(103.0804, grad_fn=<MeanBackward0>)\n",
      "loss: tensor(103.0766, grad_fn=<MeanBackward0>)\n",
      "loss: tensor(103.0757, grad_fn=<MeanBackward0>)\n",
      "loss: tensor(103.0755, grad_fn=<MeanBackward0>)\n",
      "loss: tensor(103.0754, grad_fn=<MeanBackward0>)\n",
      "loss: tensor(103.0753, grad_fn=<MeanBackward0>)\n",
      "loss: tensor(103.0753, grad_fn=<MeanBackward0>)\n",
      "loss: tensor(103.0752, grad_fn=<MeanBackward0>)\n",
      "loss: tensor(103.0752, grad_fn=<MeanBackward0>)\n",
      "loss: tensor(103.0751, grad_fn=<MeanBackward0>)\n",
      "loss: tensor(103.0751, grad_fn=<MeanBackward0>)\n",
      "loss: tensor(103.0750, grad_fn=<MeanBackward0>)\n",
      "loss: tensor(103.0749, grad_fn=<MeanBackward0>)\n",
      "loss: tensor(103.0749, grad_fn=<MeanBackward0>)\n",
      "loss: tensor(103.0748, grad_fn=<MeanBackward0>)\n",
      "loss: tensor(103.0748, grad_fn=<MeanBackward0>)\n",
      "loss: tensor(103.0747, grad_fn=<MeanBackward0>)\n",
      "loss: tensor(103.0747, grad_fn=<MeanBackward0>)\n",
      "loss: tensor(103.0746, grad_fn=<MeanBackward0>)\n",
      "loss: tensor(103.0745, grad_fn=<MeanBackward0>)\n",
      "loss: tensor(103.0745, grad_fn=<MeanBackward0>)\n",
      "loss: tensor(103.0744, grad_fn=<MeanBackward0>)\n",
      "loss: tensor(103.0744, grad_fn=<MeanBackward0>)\n",
      "loss: tensor(103.0743, grad_fn=<MeanBackward0>)\n",
      "loss: tensor(103.0743, grad_fn=<MeanBackward0>)\n",
      "loss: tensor(103.0742, grad_fn=<MeanBackward0>)\n",
      "loss: tensor(103.0742, grad_fn=<MeanBackward0>)\n",
      "loss: tensor(103.0741, grad_fn=<MeanBackward0>)\n",
      "loss: tensor(103.0740, grad_fn=<MeanBackward0>)\n",
      "loss: tensor(103.0740, grad_fn=<MeanBackward0>)\n",
      "loss: tensor(103.0739, grad_fn=<MeanBackward0>)\n",
      "loss: tensor(103.0739, grad_fn=<MeanBackward0>)\n",
      "loss: tensor(103.0738, grad_fn=<MeanBackward0>)\n",
      "loss: tensor(103.0738, grad_fn=<MeanBackward0>)\n",
      "loss: tensor(103.0737, grad_fn=<MeanBackward0>)\n",
      "loss: tensor(103.0736, grad_fn=<MeanBackward0>)\n",
      "loss: tensor(103.0736, grad_fn=<MeanBackward0>)\n",
      "loss: tensor(103.0735, grad_fn=<MeanBackward0>)\n",
      "loss: tensor(103.0735, grad_fn=<MeanBackward0>)\n",
      "loss: tensor(103.0734, grad_fn=<MeanBackward0>)\n",
      "loss: tensor(103.0734, grad_fn=<MeanBackward0>)\n",
      "loss: tensor(103.0733, grad_fn=<MeanBackward0>)\n",
      "loss: tensor(103.0732, grad_fn=<MeanBackward0>)\n",
      "loss: tensor(103.0732, grad_fn=<MeanBackward0>)\n",
      "loss: tensor(103.0731, grad_fn=<MeanBackward0>)\n",
      "loss: tensor(103.0731, grad_fn=<MeanBackward0>)\n",
      "loss: tensor(103.0730, grad_fn=<MeanBackward0>)\n",
      "loss: tensor(103.0730, grad_fn=<MeanBackward0>)\n",
      "loss: tensor(103.0729, grad_fn=<MeanBackward0>)\n",
      "loss: tensor(103.0729, grad_fn=<MeanBackward0>)\n",
      "loss: tensor(103.0728, grad_fn=<MeanBackward0>)\n",
      "loss: tensor(103.0727, grad_fn=<MeanBackward0>)\n",
      "loss: tensor(103.0727, grad_fn=<MeanBackward0>)\n",
      "loss: tensor(103.0726, grad_fn=<MeanBackward0>)\n",
      "loss: tensor(103.0726, grad_fn=<MeanBackward0>)\n",
      "loss: tensor(103.0725, grad_fn=<MeanBackward0>)\n",
      "loss: tensor(103.0724, grad_fn=<MeanBackward0>)\n",
      "loss: tensor(103.0724, grad_fn=<MeanBackward0>)\n",
      "loss: tensor(103.0723, grad_fn=<MeanBackward0>)\n",
      "loss: tensor(103.0723, grad_fn=<MeanBackward0>)\n",
      "loss: tensor(103.0722, grad_fn=<MeanBackward0>)\n",
      "loss: tensor(103.0722, grad_fn=<MeanBackward0>)\n",
      "loss: tensor(103.0721, grad_fn=<MeanBackward0>)\n",
      "loss: tensor(103.0721, grad_fn=<MeanBackward0>)\n",
      "loss: tensor(103.0720, grad_fn=<MeanBackward0>)\n",
      "loss: tensor(103.0720, grad_fn=<MeanBackward0>)\n",
      "loss: tensor(103.0719, grad_fn=<MeanBackward0>)\n",
      "loss: tensor(103.0718, grad_fn=<MeanBackward0>)\n",
      "loss: tensor(103.0718, grad_fn=<MeanBackward0>)\n",
      "loss: tensor(103.0717, grad_fn=<MeanBackward0>)\n",
      "loss: tensor(103.0716, grad_fn=<MeanBackward0>)\n",
      "loss: tensor(103.0716, grad_fn=<MeanBackward0>)\n",
      "loss: tensor(103.0715, grad_fn=<MeanBackward0>)\n",
      "loss: tensor(103.0715, grad_fn=<MeanBackward0>)\n",
      "loss: tensor(103.0714, grad_fn=<MeanBackward0>)\n",
      "loss: tensor(103.0714, grad_fn=<MeanBackward0>)\n",
      "loss: tensor(103.0713, grad_fn=<MeanBackward0>)\n",
      "loss: tensor(103.0713, grad_fn=<MeanBackward0>)\n",
      "loss: tensor(103.0712, grad_fn=<MeanBackward0>)\n",
      "loss: tensor(103.0712, grad_fn=<MeanBackward0>)\n",
      "loss: tensor(103.0711, grad_fn=<MeanBackward0>)\n",
      "loss: tensor(103.0711, grad_fn=<MeanBackward0>)\n",
      "loss: tensor(103.0710, grad_fn=<MeanBackward0>)\n",
      "loss: tensor(103.0709, grad_fn=<MeanBackward0>)\n",
      "loss: tensor(103.0709, grad_fn=<MeanBackward0>)\n",
      "loss: tensor(103.0708, grad_fn=<MeanBackward0>)\n",
      "loss: tensor(103.0708, grad_fn=<MeanBackward0>)\n",
      "loss: tensor(103.0707, grad_fn=<MeanBackward0>)\n",
      "loss: tensor(103.0706, grad_fn=<MeanBackward0>)\n",
      "loss: tensor(103.0706, grad_fn=<MeanBackward0>)\n",
      "loss: tensor(103.0705, grad_fn=<MeanBackward0>)\n",
      "loss: tensor(103.0705, grad_fn=<MeanBackward0>)\n",
      "loss: tensor(103.0704, grad_fn=<MeanBackward0>)\n",
      "loss: tensor(103.0704, grad_fn=<MeanBackward0>)\n",
      "loss: tensor(103.0703, grad_fn=<MeanBackward0>)\n",
      "loss: tensor(103.0702, grad_fn=<MeanBackward0>)\n",
      "loss: tensor(103.0702, grad_fn=<MeanBackward0>)\n",
      "loss: tensor(103.0702, grad_fn=<MeanBackward0>)\n",
      "loss: tensor(103.0701, grad_fn=<MeanBackward0>)\n",
      "loss: tensor(103.0700, grad_fn=<MeanBackward0>)\n",
      "loss: tensor(103.0700, grad_fn=<MeanBackward0>)\n",
      "loss: tensor(103.0699, grad_fn=<MeanBackward0>)\n",
      "loss: tensor(103.0699, grad_fn=<MeanBackward0>)\n",
      "loss: tensor(103.0698, grad_fn=<MeanBackward0>)\n",
      "loss: tensor(103.0698, grad_fn=<MeanBackward0>)\n",
      "loss: tensor(103.0697, grad_fn=<MeanBackward0>)\n",
      "loss: tensor(103.0696, grad_fn=<MeanBackward0>)\n",
      "loss: tensor(103.0696, grad_fn=<MeanBackward0>)\n",
      "loss: tensor(103.0695, grad_fn=<MeanBackward0>)\n",
      "loss: tensor(103.0695, grad_fn=<MeanBackward0>)\n",
      "loss: tensor(103.0694, grad_fn=<MeanBackward0>)\n",
      "loss: tensor(103.0694, grad_fn=<MeanBackward0>)\n",
      "loss: tensor(103.0693, grad_fn=<MeanBackward0>)\n",
      "loss: tensor(103.0693, grad_fn=<MeanBackward0>)\n",
      "loss: tensor(103.0692, grad_fn=<MeanBackward0>)\n",
      "loss: tensor(103.0691, grad_fn=<MeanBackward0>)\n",
      "loss: tensor(103.0691, grad_fn=<MeanBackward0>)\n",
      "loss: tensor(103.0690, grad_fn=<MeanBackward0>)\n",
      "loss: tensor(103.0690, grad_fn=<MeanBackward0>)\n",
      "loss: tensor(103.0689, grad_fn=<MeanBackward0>)\n",
      "loss: tensor(103.0689, grad_fn=<MeanBackward0>)\n",
      "loss: tensor(103.0688, grad_fn=<MeanBackward0>)\n",
      "loss: tensor(103.0687, grad_fn=<MeanBackward0>)\n",
      "loss: tensor(103.0687, grad_fn=<MeanBackward0>)\n",
      "loss: tensor(103.0686, grad_fn=<MeanBackward0>)\n",
      "loss: tensor(103.0686, grad_fn=<MeanBackward0>)\n",
      "loss: tensor(103.0685, grad_fn=<MeanBackward0>)\n",
      "loss: tensor(103.0685, grad_fn=<MeanBackward0>)\n",
      "loss: tensor(103.0684, grad_fn=<MeanBackward0>)\n",
      "loss: tensor(103.0684, grad_fn=<MeanBackward0>)\n",
      "loss: tensor(103.0683, grad_fn=<MeanBackward0>)\n",
      "loss: tensor(103.0682, grad_fn=<MeanBackward0>)\n",
      "loss: tensor(103.0682, grad_fn=<MeanBackward0>)\n",
      "loss: tensor(103.0681, grad_fn=<MeanBackward0>)\n",
      "loss: tensor(103.0681, grad_fn=<MeanBackward0>)\n",
      "loss: tensor(103.0680, grad_fn=<MeanBackward0>)\n",
      "loss: tensor(103.0680, grad_fn=<MeanBackward0>)\n",
      "loss: tensor(103.0679, grad_fn=<MeanBackward0>)\n",
      "loss: tensor(103.0678, grad_fn=<MeanBackward0>)\n",
      "loss: tensor(103.0678, grad_fn=<MeanBackward0>)\n",
      "loss: tensor(103.0677, grad_fn=<MeanBackward0>)\n",
      "loss: tensor(103.0677, grad_fn=<MeanBackward0>)\n",
      "loss: tensor(103.0676, grad_fn=<MeanBackward0>)\n",
      "loss: tensor(103.0675, grad_fn=<MeanBackward0>)\n",
      "loss: tensor(103.0675, grad_fn=<MeanBackward0>)\n",
      "loss: tensor(103.0675, grad_fn=<MeanBackward0>)\n",
      "loss: tensor(103.0674, grad_fn=<MeanBackward0>)\n",
      "loss: tensor(103.0674, grad_fn=<MeanBackward0>)\n",
      "loss: tensor(103.0673, grad_fn=<MeanBackward0>)\n",
      "loss: tensor(103.0672, grad_fn=<MeanBackward0>)\n",
      "loss: tensor(103.0672, grad_fn=<MeanBackward0>)\n",
      "loss: tensor(103.0671, grad_fn=<MeanBackward0>)\n",
      "loss: tensor(103.0671, grad_fn=<MeanBackward0>)\n",
      "loss: tensor(103.0670, grad_fn=<MeanBackward0>)\n",
      "loss: tensor(103.0670, grad_fn=<MeanBackward0>)\n",
      "loss: tensor(103.0669, grad_fn=<MeanBackward0>)\n",
      "loss: tensor(103.0668, grad_fn=<MeanBackward0>)\n",
      "loss: tensor(103.0668, grad_fn=<MeanBackward0>)\n",
      "loss: tensor(103.0667, grad_fn=<MeanBackward0>)\n",
      "loss: tensor(103.0667, grad_fn=<MeanBackward0>)\n",
      "loss: tensor(103.0666, grad_fn=<MeanBackward0>)\n",
      "loss: tensor(103.0666, grad_fn=<MeanBackward0>)\n",
      "loss: tensor(103.0665, grad_fn=<MeanBackward0>)\n",
      "loss: tensor(103.0665, grad_fn=<MeanBackward0>)\n",
      "loss: tensor(103.0664, grad_fn=<MeanBackward0>)\n",
      "loss: tensor(103.0663, grad_fn=<MeanBackward0>)\n",
      "loss: tensor(103.0663, grad_fn=<MeanBackward0>)\n",
      "loss: tensor(103.0662, grad_fn=<MeanBackward0>)\n",
      "loss: tensor(103.0662, grad_fn=<MeanBackward0>)\n",
      "loss: tensor(103.0661, grad_fn=<MeanBackward0>)\n",
      "loss: tensor(103.0661, grad_fn=<MeanBackward0>)\n",
      "loss: tensor(103.0660, grad_fn=<MeanBackward0>)\n",
      "loss: tensor(103.0660, grad_fn=<MeanBackward0>)\n",
      "loss: tensor(103.0659, grad_fn=<MeanBackward0>)\n",
      "loss: tensor(103.0658, grad_fn=<MeanBackward0>)\n",
      "loss: tensor(103.0658, grad_fn=<MeanBackward0>)\n",
      "loss: tensor(103.0657, grad_fn=<MeanBackward0>)\n",
      "loss: tensor(103.0657, grad_fn=<MeanBackward0>)\n",
      "loss: tensor(103.0656, grad_fn=<MeanBackward0>)\n",
      "loss: tensor(103.0656, grad_fn=<MeanBackward0>)\n",
      "loss: tensor(103.0655, grad_fn=<MeanBackward0>)\n",
      "loss: tensor(103.0655, grad_fn=<MeanBackward0>)\n",
      "loss: tensor(103.0654, grad_fn=<MeanBackward0>)\n",
      "loss: tensor(103.0654, grad_fn=<MeanBackward0>)\n",
      "loss: tensor(103.0653, grad_fn=<MeanBackward0>)\n",
      "loss: tensor(103.0652, grad_fn=<MeanBackward0>)\n",
      "loss: tensor(103.0652, grad_fn=<MeanBackward0>)\n",
      "loss: tensor(103.0651, grad_fn=<MeanBackward0>)\n",
      "loss: tensor(103.0651, grad_fn=<MeanBackward0>)\n",
      "loss: tensor(103.0650, grad_fn=<MeanBackward0>)\n",
      "loss: tensor(103.0649, grad_fn=<MeanBackward0>)\n",
      "loss: tensor(103.0649, grad_fn=<MeanBackward0>)\n",
      "loss: tensor(103.0648, grad_fn=<MeanBackward0>)\n",
      "loss: tensor(103.0648, grad_fn=<MeanBackward0>)\n",
      "loss: tensor(103.0647, grad_fn=<MeanBackward0>)\n",
      "loss: tensor(103.0647, grad_fn=<MeanBackward0>)\n",
      "loss: tensor(103.0646, grad_fn=<MeanBackward0>)\n",
      "loss: tensor(103.0645, grad_fn=<MeanBackward0>)\n",
      "loss: tensor(103.0645, grad_fn=<MeanBackward0>)\n",
      "loss: tensor(103.0644, grad_fn=<MeanBackward0>)\n",
      "loss: tensor(103.0644, grad_fn=<MeanBackward0>)\n",
      "loss: tensor(103.0643, grad_fn=<MeanBackward0>)\n",
      "loss: tensor(103.0643, grad_fn=<MeanBackward0>)\n",
      "loss: tensor(103.0642, grad_fn=<MeanBackward0>)\n",
      "loss: tensor(103.0642, grad_fn=<MeanBackward0>)\n",
      "loss: tensor(103.0641, grad_fn=<MeanBackward0>)\n",
      "loss: tensor(103.0641, grad_fn=<MeanBackward0>)\n",
      "loss: tensor(103.0640, grad_fn=<MeanBackward0>)\n",
      "loss: tensor(103.0639, grad_fn=<MeanBackward0>)\n",
      "loss: tensor(103.0639, grad_fn=<MeanBackward0>)\n",
      "loss: tensor(103.0638, grad_fn=<MeanBackward0>)\n",
      "loss: tensor(103.0638, grad_fn=<MeanBackward0>)\n",
      "loss: tensor(103.0637, grad_fn=<MeanBackward0>)\n",
      "loss: tensor(103.0637, grad_fn=<MeanBackward0>)\n",
      "loss: tensor(103.0636, grad_fn=<MeanBackward0>)\n",
      "loss: tensor(103.0635, grad_fn=<MeanBackward0>)\n"
     ]
    },
    {
     "name": "stdout",
     "output_type": "stream",
     "text": [
      "loss: tensor(103.0635, grad_fn=<MeanBackward0>)\n",
      "loss: tensor(103.0635, grad_fn=<MeanBackward0>)\n",
      "loss: tensor(103.0634, grad_fn=<MeanBackward0>)\n",
      "loss: tensor(103.0633, grad_fn=<MeanBackward0>)\n",
      "loss: tensor(103.0633, grad_fn=<MeanBackward0>)\n",
      "loss: tensor(103.0632, grad_fn=<MeanBackward0>)\n",
      "loss: tensor(103.0632, grad_fn=<MeanBackward0>)\n",
      "loss: tensor(103.0631, grad_fn=<MeanBackward0>)\n",
      "loss: tensor(103.0631, grad_fn=<MeanBackward0>)\n",
      "loss: tensor(103.0630, grad_fn=<MeanBackward0>)\n",
      "loss: tensor(103.0630, grad_fn=<MeanBackward0>)\n",
      "loss: tensor(103.0629, grad_fn=<MeanBackward0>)\n",
      "loss: tensor(103.0628, grad_fn=<MeanBackward0>)\n",
      "loss: tensor(103.0628, grad_fn=<MeanBackward0>)\n",
      "loss: tensor(103.0627, grad_fn=<MeanBackward0>)\n",
      "loss: tensor(103.0627, grad_fn=<MeanBackward0>)\n",
      "loss: tensor(103.0626, grad_fn=<MeanBackward0>)\n",
      "loss: tensor(103.0626, grad_fn=<MeanBackward0>)\n",
      "loss: tensor(103.0625, grad_fn=<MeanBackward0>)\n",
      "loss: tensor(103.0624, grad_fn=<MeanBackward0>)\n",
      "loss: tensor(103.0624, grad_fn=<MeanBackward0>)\n",
      "loss: tensor(103.0623, grad_fn=<MeanBackward0>)\n",
      "loss: tensor(103.0623, grad_fn=<MeanBackward0>)\n",
      "loss: tensor(103.0622, grad_fn=<MeanBackward0>)\n",
      "loss: tensor(103.0621, grad_fn=<MeanBackward0>)\n",
      "loss: tensor(103.0621, grad_fn=<MeanBackward0>)\n",
      "loss: tensor(103.0621, grad_fn=<MeanBackward0>)\n",
      "loss: tensor(103.0620, grad_fn=<MeanBackward0>)\n",
      "loss: tensor(103.0619, grad_fn=<MeanBackward0>)\n",
      "loss: tensor(103.0619, grad_fn=<MeanBackward0>)\n",
      "loss: tensor(103.0619, grad_fn=<MeanBackward0>)\n",
      "loss: tensor(103.0618, grad_fn=<MeanBackward0>)\n",
      "loss: tensor(103.0617, grad_fn=<MeanBackward0>)\n",
      "loss: tensor(103.0617, grad_fn=<MeanBackward0>)\n",
      "loss: tensor(103.0616, grad_fn=<MeanBackward0>)\n",
      "loss: tensor(103.0615, grad_fn=<MeanBackward0>)\n",
      "loss: tensor(103.0615, grad_fn=<MeanBackward0>)\n",
      "loss: tensor(103.0615, grad_fn=<MeanBackward0>)\n",
      "loss: tensor(103.0614, grad_fn=<MeanBackward0>)\n",
      "loss: tensor(103.0613, grad_fn=<MeanBackward0>)\n",
      "loss: tensor(103.0613, grad_fn=<MeanBackward0>)\n",
      "loss: tensor(103.0612, grad_fn=<MeanBackward0>)\n",
      "loss: tensor(103.0612, grad_fn=<MeanBackward0>)\n",
      "loss: tensor(103.0611, grad_fn=<MeanBackward0>)\n",
      "loss: tensor(103.0611, grad_fn=<MeanBackward0>)\n",
      "loss: tensor(103.0610, grad_fn=<MeanBackward0>)\n",
      "loss: tensor(103.0610, grad_fn=<MeanBackward0>)\n",
      "loss: tensor(103.0609, grad_fn=<MeanBackward0>)\n",
      "loss: tensor(103.0609, grad_fn=<MeanBackward0>)\n",
      "loss: tensor(103.0608, grad_fn=<MeanBackward0>)\n",
      "loss: tensor(103.0607, grad_fn=<MeanBackward0>)\n",
      "loss: tensor(103.0607, grad_fn=<MeanBackward0>)\n",
      "loss: tensor(103.0606, grad_fn=<MeanBackward0>)\n",
      "loss: tensor(103.0606, grad_fn=<MeanBackward0>)\n",
      "loss: tensor(103.0605, grad_fn=<MeanBackward0>)\n",
      "loss: tensor(103.0605, grad_fn=<MeanBackward0>)\n",
      "loss: tensor(103.0604, grad_fn=<MeanBackward0>)\n",
      "loss: tensor(103.0603, grad_fn=<MeanBackward0>)\n",
      "loss: tensor(103.0603, grad_fn=<MeanBackward0>)\n",
      "loss: tensor(103.0603, grad_fn=<MeanBackward0>)\n",
      "loss: tensor(103.0602, grad_fn=<MeanBackward0>)\n",
      "loss: tensor(103.0601, grad_fn=<MeanBackward0>)\n",
      "loss: tensor(103.0601, grad_fn=<MeanBackward0>)\n",
      "loss: tensor(103.0600, grad_fn=<MeanBackward0>)\n",
      "loss: tensor(103.0600, grad_fn=<MeanBackward0>)\n",
      "loss: tensor(103.0599, grad_fn=<MeanBackward0>)\n",
      "loss: tensor(103.0599, grad_fn=<MeanBackward0>)\n",
      "loss: tensor(103.0598, grad_fn=<MeanBackward0>)\n",
      "loss: tensor(103.0597, grad_fn=<MeanBackward0>)\n",
      "loss: tensor(103.0597, grad_fn=<MeanBackward0>)\n",
      "loss: tensor(103.0596, grad_fn=<MeanBackward0>)\n",
      "loss: tensor(103.0596, grad_fn=<MeanBackward0>)\n",
      "loss: tensor(103.0595, grad_fn=<MeanBackward0>)\n",
      "loss: tensor(103.0595, grad_fn=<MeanBackward0>)\n",
      "loss: tensor(103.0594, grad_fn=<MeanBackward0>)\n",
      "loss: tensor(103.0593, grad_fn=<MeanBackward0>)\n",
      "loss: tensor(103.0593, grad_fn=<MeanBackward0>)\n",
      "loss: tensor(103.0592, grad_fn=<MeanBackward0>)\n",
      "loss: tensor(103.0592, grad_fn=<MeanBackward0>)\n",
      "loss: tensor(103.0591, grad_fn=<MeanBackward0>)\n",
      "loss: tensor(103.0591, grad_fn=<MeanBackward0>)\n",
      "loss: tensor(103.0590, grad_fn=<MeanBackward0>)\n",
      "loss: tensor(103.0590, grad_fn=<MeanBackward0>)\n",
      "loss: tensor(103.0589, grad_fn=<MeanBackward0>)\n",
      "loss: tensor(103.0589, grad_fn=<MeanBackward0>)\n",
      "loss: tensor(103.0588, grad_fn=<MeanBackward0>)\n",
      "loss: tensor(103.0588, grad_fn=<MeanBackward0>)\n",
      "loss: tensor(103.0587, grad_fn=<MeanBackward0>)\n",
      "loss: tensor(103.0587, grad_fn=<MeanBackward0>)\n",
      "loss: tensor(103.0586, grad_fn=<MeanBackward0>)\n",
      "loss: tensor(103.0586, grad_fn=<MeanBackward0>)\n",
      "loss: tensor(103.0585, grad_fn=<MeanBackward0>)\n",
      "loss: tensor(103.0584, grad_fn=<MeanBackward0>)\n",
      "loss: tensor(103.0584, grad_fn=<MeanBackward0>)\n",
      "loss: tensor(103.0583, grad_fn=<MeanBackward0>)\n",
      "loss: tensor(103.0583, grad_fn=<MeanBackward0>)\n",
      "loss: tensor(103.0582, grad_fn=<MeanBackward0>)\n",
      "loss: tensor(103.0582, grad_fn=<MeanBackward0>)\n",
      "loss: tensor(103.0581, grad_fn=<MeanBackward0>)\n",
      "loss: tensor(103.0580, grad_fn=<MeanBackward0>)\n",
      "loss: tensor(103.0580, grad_fn=<MeanBackward0>)\n",
      "loss: tensor(103.0579, grad_fn=<MeanBackward0>)\n",
      "loss: tensor(103.0579, grad_fn=<MeanBackward0>)\n",
      "loss: tensor(103.0578, grad_fn=<MeanBackward0>)\n",
      "loss: tensor(103.0578, grad_fn=<MeanBackward0>)\n",
      "loss: tensor(103.0577, grad_fn=<MeanBackward0>)\n",
      "loss: tensor(103.0576, grad_fn=<MeanBackward0>)\n",
      "loss: tensor(103.0576, grad_fn=<MeanBackward0>)\n",
      "loss: tensor(103.0575, grad_fn=<MeanBackward0>)\n",
      "loss: tensor(103.0575, grad_fn=<MeanBackward0>)\n",
      "loss: tensor(103.0574, grad_fn=<MeanBackward0>)\n",
      "loss: tensor(103.0574, grad_fn=<MeanBackward0>)\n",
      "loss: tensor(103.0573, grad_fn=<MeanBackward0>)\n",
      "loss: tensor(103.0572, grad_fn=<MeanBackward0>)\n",
      "loss: tensor(103.0572, grad_fn=<MeanBackward0>)\n",
      "loss: tensor(103.0572, grad_fn=<MeanBackward0>)\n",
      "loss: tensor(103.0571, grad_fn=<MeanBackward0>)\n",
      "loss: tensor(103.0570, grad_fn=<MeanBackward0>)\n",
      "loss: tensor(103.0570, grad_fn=<MeanBackward0>)\n",
      "loss: tensor(103.0569, grad_fn=<MeanBackward0>)\n",
      "loss: tensor(103.0569, grad_fn=<MeanBackward0>)\n",
      "loss: tensor(103.0568, grad_fn=<MeanBackward0>)\n",
      "loss: tensor(103.0568, grad_fn=<MeanBackward0>)\n",
      "loss: tensor(103.0567, grad_fn=<MeanBackward0>)\n",
      "loss: tensor(103.0566, grad_fn=<MeanBackward0>)\n",
      "loss: tensor(103.0566, grad_fn=<MeanBackward0>)\n",
      "loss: tensor(103.0565, grad_fn=<MeanBackward0>)\n",
      "loss: tensor(103.0565, grad_fn=<MeanBackward0>)\n",
      "loss: tensor(103.0565, grad_fn=<MeanBackward0>)\n",
      "loss: tensor(103.0564, grad_fn=<MeanBackward0>)\n",
      "loss: tensor(103.0563, grad_fn=<MeanBackward0>)\n",
      "loss: tensor(103.0563, grad_fn=<MeanBackward0>)\n",
      "loss: tensor(103.0562, grad_fn=<MeanBackward0>)\n",
      "loss: tensor(103.0562, grad_fn=<MeanBackward0>)\n",
      "loss: tensor(103.0561, grad_fn=<MeanBackward0>)\n",
      "loss: tensor(103.0561, grad_fn=<MeanBackward0>)\n",
      "loss: tensor(103.0560, grad_fn=<MeanBackward0>)\n",
      "loss: tensor(103.0560, grad_fn=<MeanBackward0>)\n",
      "loss: tensor(103.0559, grad_fn=<MeanBackward0>)\n",
      "loss: tensor(103.0558, grad_fn=<MeanBackward0>)\n",
      "loss: tensor(103.0558, grad_fn=<MeanBackward0>)\n",
      "loss: tensor(103.0557, grad_fn=<MeanBackward0>)\n",
      "loss: tensor(103.0557, grad_fn=<MeanBackward0>)\n",
      "loss: tensor(103.0556, grad_fn=<MeanBackward0>)\n",
      "loss: tensor(103.0556, grad_fn=<MeanBackward0>)\n",
      "loss: tensor(103.0555, grad_fn=<MeanBackward0>)\n",
      "loss: tensor(103.0554, grad_fn=<MeanBackward0>)\n",
      "loss: tensor(103.0554, grad_fn=<MeanBackward0>)\n",
      "loss: tensor(103.0554, grad_fn=<MeanBackward0>)\n",
      "loss: tensor(103.0553, grad_fn=<MeanBackward0>)\n",
      "loss: tensor(103.0552, grad_fn=<MeanBackward0>)\n",
      "loss: tensor(103.0552, grad_fn=<MeanBackward0>)\n",
      "loss: tensor(103.0551, grad_fn=<MeanBackward0>)\n",
      "loss: tensor(103.0551, grad_fn=<MeanBackward0>)\n",
      "loss: tensor(103.0550, grad_fn=<MeanBackward0>)\n",
      "loss: tensor(103.0550, grad_fn=<MeanBackward0>)\n",
      "loss: tensor(103.0549, grad_fn=<MeanBackward0>)\n",
      "loss: tensor(103.0548, grad_fn=<MeanBackward0>)\n",
      "loss: tensor(103.0548, grad_fn=<MeanBackward0>)\n",
      "loss: tensor(103.0548, grad_fn=<MeanBackward0>)\n",
      "loss: tensor(103.0547, grad_fn=<MeanBackward0>)\n",
      "loss: tensor(103.0546, grad_fn=<MeanBackward0>)\n",
      "loss: tensor(103.0546, grad_fn=<MeanBackward0>)\n",
      "loss: tensor(103.0545, grad_fn=<MeanBackward0>)\n",
      "loss: tensor(103.0545, grad_fn=<MeanBackward0>)\n",
      "loss: tensor(103.0544, grad_fn=<MeanBackward0>)\n",
      "loss: tensor(103.0544, grad_fn=<MeanBackward0>)\n",
      "loss: tensor(103.0543, grad_fn=<MeanBackward0>)\n",
      "loss: tensor(103.0542, grad_fn=<MeanBackward0>)\n",
      "loss: tensor(103.0542, grad_fn=<MeanBackward0>)\n",
      "loss: tensor(103.0541, grad_fn=<MeanBackward0>)\n",
      "loss: tensor(103.0541, grad_fn=<MeanBackward0>)\n",
      "loss: tensor(103.0540, grad_fn=<MeanBackward0>)\n",
      "loss: tensor(103.0540, grad_fn=<MeanBackward0>)\n",
      "loss: tensor(103.0539, grad_fn=<MeanBackward0>)\n"
     ]
    },
    {
     "name": "stdout",
     "output_type": "stream",
     "text": [
      "loss: tensor(103.0539, grad_fn=<MeanBackward0>)\n",
      "loss: tensor(103.0538, grad_fn=<MeanBackward0>)\n",
      "loss: tensor(103.0538, grad_fn=<MeanBackward0>)\n",
      "loss: tensor(103.0537, grad_fn=<MeanBackward0>)\n",
      "loss: tensor(103.0537, grad_fn=<MeanBackward0>)\n",
      "loss: tensor(103.0536, grad_fn=<MeanBackward0>)\n",
      "loss: tensor(103.0536, grad_fn=<MeanBackward0>)\n",
      "loss: tensor(103.0535, grad_fn=<MeanBackward0>)\n",
      "loss: tensor(103.0534, grad_fn=<MeanBackward0>)\n",
      "loss: tensor(103.0534, grad_fn=<MeanBackward0>)\n",
      "loss: tensor(103.0533, grad_fn=<MeanBackward0>)\n",
      "loss: tensor(103.0533, grad_fn=<MeanBackward0>)\n",
      "loss: tensor(103.0532, grad_fn=<MeanBackward0>)\n",
      "loss: tensor(103.0532, grad_fn=<MeanBackward0>)\n",
      "loss: tensor(103.0531, grad_fn=<MeanBackward0>)\n",
      "loss: tensor(103.0531, grad_fn=<MeanBackward0>)\n",
      "loss: tensor(103.0530, grad_fn=<MeanBackward0>)\n",
      "loss: tensor(103.0529, grad_fn=<MeanBackward0>)\n",
      "loss: tensor(103.0529, grad_fn=<MeanBackward0>)\n",
      "loss: tensor(103.0529, grad_fn=<MeanBackward0>)\n",
      "loss: tensor(103.0528, grad_fn=<MeanBackward0>)\n",
      "loss: tensor(103.0527, grad_fn=<MeanBackward0>)\n",
      "loss: tensor(103.0527, grad_fn=<MeanBackward0>)\n",
      "loss: tensor(103.0526, grad_fn=<MeanBackward0>)\n",
      "loss: tensor(103.0526, grad_fn=<MeanBackward0>)\n",
      "loss: tensor(103.0525, grad_fn=<MeanBackward0>)\n",
      "loss: tensor(103.0525, grad_fn=<MeanBackward0>)\n",
      "loss: tensor(103.0524, grad_fn=<MeanBackward0>)\n",
      "loss: tensor(103.0523, grad_fn=<MeanBackward0>)\n",
      "loss: tensor(103.0523, grad_fn=<MeanBackward0>)\n",
      "loss: tensor(103.0523, grad_fn=<MeanBackward0>)\n",
      "loss: tensor(103.0522, grad_fn=<MeanBackward0>)\n",
      "loss: tensor(103.0521, grad_fn=<MeanBackward0>)\n",
      "loss: tensor(103.0521, grad_fn=<MeanBackward0>)\n",
      "loss: tensor(103.0520, grad_fn=<MeanBackward0>)\n",
      "loss: tensor(103.0520, grad_fn=<MeanBackward0>)\n",
      "loss: tensor(103.0519, grad_fn=<MeanBackward0>)\n",
      "loss: tensor(103.0519, grad_fn=<MeanBackward0>)\n",
      "loss: tensor(103.0518, grad_fn=<MeanBackward0>)\n",
      "loss: tensor(103.0518, grad_fn=<MeanBackward0>)\n",
      "loss: tensor(103.0517, grad_fn=<MeanBackward0>)\n",
      "loss: tensor(103.0517, grad_fn=<MeanBackward0>)\n",
      "loss: tensor(103.0516, grad_fn=<MeanBackward0>)\n",
      "loss: tensor(103.0515, grad_fn=<MeanBackward0>)\n",
      "loss: tensor(103.0515, grad_fn=<MeanBackward0>)\n",
      "loss: tensor(103.0515, grad_fn=<MeanBackward0>)\n",
      "loss: tensor(103.0514, grad_fn=<MeanBackward0>)\n",
      "loss: tensor(103.0513, grad_fn=<MeanBackward0>)\n",
      "loss: tensor(103.0513, grad_fn=<MeanBackward0>)\n",
      "loss: tensor(103.0512, grad_fn=<MeanBackward0>)\n",
      "loss: tensor(103.0511, grad_fn=<MeanBackward0>)\n",
      "loss: tensor(103.0511, grad_fn=<MeanBackward0>)\n",
      "loss: tensor(103.0510, grad_fn=<MeanBackward0>)\n",
      "loss: tensor(103.0510, grad_fn=<MeanBackward0>)\n",
      "loss: tensor(103.0509, grad_fn=<MeanBackward0>)\n",
      "loss: tensor(103.0509, grad_fn=<MeanBackward0>)\n",
      "loss: tensor(103.0508, grad_fn=<MeanBackward0>)\n",
      "loss: tensor(103.0508, grad_fn=<MeanBackward0>)\n",
      "loss: tensor(103.0507, grad_fn=<MeanBackward0>)\n",
      "loss: tensor(103.0507, grad_fn=<MeanBackward0>)\n",
      "loss: tensor(103.0506, grad_fn=<MeanBackward0>)\n",
      "loss: tensor(103.0506, grad_fn=<MeanBackward0>)\n",
      "loss: tensor(103.0505, grad_fn=<MeanBackward0>)\n",
      "loss: tensor(103.0504, grad_fn=<MeanBackward0>)\n",
      "loss: tensor(103.0504, grad_fn=<MeanBackward0>)\n",
      "loss: tensor(103.0503, grad_fn=<MeanBackward0>)\n",
      "loss: tensor(103.0503, grad_fn=<MeanBackward0>)\n",
      "loss: tensor(103.0502, grad_fn=<MeanBackward0>)\n",
      "loss: tensor(103.0502, grad_fn=<MeanBackward0>)\n",
      "loss: tensor(103.0501, grad_fn=<MeanBackward0>)\n",
      "loss: tensor(103.0501, grad_fn=<MeanBackward0>)\n",
      "loss: tensor(103.0500, grad_fn=<MeanBackward0>)\n",
      "loss: tensor(103.0500, grad_fn=<MeanBackward0>)\n",
      "loss: tensor(103.0499, grad_fn=<MeanBackward0>)\n",
      "loss: tensor(103.0499, grad_fn=<MeanBackward0>)\n",
      "loss: tensor(103.0498, grad_fn=<MeanBackward0>)\n",
      "loss: tensor(103.0497, grad_fn=<MeanBackward0>)\n",
      "loss: tensor(103.0497, grad_fn=<MeanBackward0>)\n",
      "loss: tensor(103.0496, grad_fn=<MeanBackward0>)\n",
      "loss: tensor(103.0496, grad_fn=<MeanBackward0>)\n",
      "loss: tensor(103.0495, grad_fn=<MeanBackward0>)\n",
      "loss: tensor(103.0495, grad_fn=<MeanBackward0>)\n",
      "loss: tensor(103.0494, grad_fn=<MeanBackward0>)\n",
      "loss: tensor(103.0494, grad_fn=<MeanBackward0>)\n",
      "loss: tensor(103.0493, grad_fn=<MeanBackward0>)\n",
      "loss: tensor(103.0493, grad_fn=<MeanBackward0>)\n",
      "loss: tensor(103.0492, grad_fn=<MeanBackward0>)\n",
      "loss: tensor(103.0492, grad_fn=<MeanBackward0>)\n",
      "loss: tensor(103.0491, grad_fn=<MeanBackward0>)\n",
      "loss: tensor(103.0491, grad_fn=<MeanBackward0>)\n",
      "loss: tensor(103.0490, grad_fn=<MeanBackward0>)\n",
      "loss: tensor(103.0489, grad_fn=<MeanBackward0>)\n",
      "loss: tensor(103.0489, grad_fn=<MeanBackward0>)\n",
      "loss: tensor(103.0488, grad_fn=<MeanBackward0>)\n",
      "loss: tensor(103.0488, grad_fn=<MeanBackward0>)\n",
      "loss: tensor(103.0488, grad_fn=<MeanBackward0>)\n",
      "loss: tensor(103.0487, grad_fn=<MeanBackward0>)\n",
      "loss: tensor(103.0486, grad_fn=<MeanBackward0>)\n",
      "loss: tensor(103.0485, grad_fn=<MeanBackward0>)\n",
      "loss: tensor(103.0485, grad_fn=<MeanBackward0>)\n",
      "loss: tensor(103.0484, grad_fn=<MeanBackward0>)\n",
      "loss: tensor(103.0484, grad_fn=<MeanBackward0>)\n",
      "loss: tensor(103.0483, grad_fn=<MeanBackward0>)\n",
      "loss: tensor(103.0483, grad_fn=<MeanBackward0>)\n",
      "loss: tensor(103.0482, grad_fn=<MeanBackward0>)\n",
      "loss: tensor(103.0482, grad_fn=<MeanBackward0>)\n",
      "loss: tensor(103.0481, grad_fn=<MeanBackward0>)\n",
      "loss: tensor(103.0481, grad_fn=<MeanBackward0>)\n",
      "loss: tensor(103.0480, grad_fn=<MeanBackward0>)\n",
      "loss: tensor(103.0480, grad_fn=<MeanBackward0>)\n",
      "loss: tensor(103.0479, grad_fn=<MeanBackward0>)\n",
      "loss: tensor(103.0479, grad_fn=<MeanBackward0>)\n",
      "loss: tensor(103.0478, grad_fn=<MeanBackward0>)\n",
      "loss: tensor(103.0477, grad_fn=<MeanBackward0>)\n",
      "loss: tensor(103.0477, grad_fn=<MeanBackward0>)\n",
      "loss: tensor(103.0476, grad_fn=<MeanBackward0>)\n",
      "loss: tensor(103.0476, grad_fn=<MeanBackward0>)\n",
      "loss: tensor(103.0475, grad_fn=<MeanBackward0>)\n",
      "loss: tensor(103.0474, grad_fn=<MeanBackward0>)\n",
      "loss: tensor(103.0474, grad_fn=<MeanBackward0>)\n",
      "loss: tensor(103.0474, grad_fn=<MeanBackward0>)\n",
      "loss: tensor(103.0473, grad_fn=<MeanBackward0>)\n",
      "loss: tensor(103.0472, grad_fn=<MeanBackward0>)\n",
      "loss: tensor(103.0472, grad_fn=<MeanBackward0>)\n",
      "loss: tensor(103.0472, grad_fn=<MeanBackward0>)\n",
      "loss: tensor(103.0471, grad_fn=<MeanBackward0>)\n",
      "loss: tensor(103.0471, grad_fn=<MeanBackward0>)\n",
      "loss: tensor(103.0470, grad_fn=<MeanBackward0>)\n",
      "loss: tensor(103.0469, grad_fn=<MeanBackward0>)\n",
      "loss: tensor(103.0469, grad_fn=<MeanBackward0>)\n",
      "loss: tensor(103.0468, grad_fn=<MeanBackward0>)\n",
      "loss: tensor(103.0468, grad_fn=<MeanBackward0>)\n",
      "loss: tensor(103.0467, grad_fn=<MeanBackward0>)\n",
      "loss: tensor(103.0467, grad_fn=<MeanBackward0>)\n",
      "loss: tensor(103.0466, grad_fn=<MeanBackward0>)\n",
      "loss: tensor(103.0465, grad_fn=<MeanBackward0>)\n",
      "loss: tensor(103.0465, grad_fn=<MeanBackward0>)\n",
      "loss: tensor(103.0464, grad_fn=<MeanBackward0>)\n",
      "loss: tensor(103.0464, grad_fn=<MeanBackward0>)\n",
      "loss: tensor(103.0463, grad_fn=<MeanBackward0>)\n",
      "loss: tensor(103.0463, grad_fn=<MeanBackward0>)\n",
      "loss: tensor(103.0462, grad_fn=<MeanBackward0>)\n",
      "loss: tensor(103.0462, grad_fn=<MeanBackward0>)\n",
      "loss: tensor(103.0461, grad_fn=<MeanBackward0>)\n",
      "loss: tensor(103.0461, grad_fn=<MeanBackward0>)\n",
      "loss: tensor(103.0460, grad_fn=<MeanBackward0>)\n",
      "loss: tensor(103.0460, grad_fn=<MeanBackward0>)\n",
      "loss: tensor(103.0459, grad_fn=<MeanBackward0>)\n",
      "loss: tensor(103.0459, grad_fn=<MeanBackward0>)\n",
      "loss: tensor(103.0458, grad_fn=<MeanBackward0>)\n",
      "loss: tensor(103.0458, grad_fn=<MeanBackward0>)\n",
      "loss: tensor(103.0457, grad_fn=<MeanBackward0>)\n",
      "loss: tensor(103.0457, grad_fn=<MeanBackward0>)\n",
      "loss: tensor(103.0456, grad_fn=<MeanBackward0>)\n",
      "loss: tensor(103.0455, grad_fn=<MeanBackward0>)\n",
      "loss: tensor(103.0455, grad_fn=<MeanBackward0>)\n",
      "loss: tensor(103.0454, grad_fn=<MeanBackward0>)\n",
      "loss: tensor(103.0454, grad_fn=<MeanBackward0>)\n",
      "loss: tensor(103.0453, grad_fn=<MeanBackward0>)\n",
      "loss: tensor(103.0453, grad_fn=<MeanBackward0>)\n",
      "loss: tensor(103.0452, grad_fn=<MeanBackward0>)\n",
      "loss: tensor(103.0452, grad_fn=<MeanBackward0>)\n",
      "loss: tensor(103.0451, grad_fn=<MeanBackward0>)\n",
      "loss: tensor(103.0451, grad_fn=<MeanBackward0>)\n",
      "loss: tensor(103.0450, grad_fn=<MeanBackward0>)\n",
      "loss: tensor(103.0450, grad_fn=<MeanBackward0>)\n",
      "loss: tensor(103.0449, grad_fn=<MeanBackward0>)\n",
      "loss: tensor(103.0449, grad_fn=<MeanBackward0>)\n",
      "loss: tensor(103.0448, grad_fn=<MeanBackward0>)\n",
      "loss: tensor(103.0448, grad_fn=<MeanBackward0>)\n",
      "loss: tensor(103.0447, grad_fn=<MeanBackward0>)\n",
      "loss: tensor(103.0446, grad_fn=<MeanBackward0>)\n",
      "loss: tensor(103.0446, grad_fn=<MeanBackward0>)\n",
      "loss: tensor(103.0445, grad_fn=<MeanBackward0>)\n",
      "loss: tensor(103.0445, grad_fn=<MeanBackward0>)\n",
      "loss: tensor(103.0444, grad_fn=<MeanBackward0>)\n",
      "loss: tensor(103.0444, grad_fn=<MeanBackward0>)\n",
      "loss: tensor(103.0443, grad_fn=<MeanBackward0>)\n",
      "loss: tensor(103.0443, grad_fn=<MeanBackward0>)\n"
     ]
    },
    {
     "name": "stdout",
     "output_type": "stream",
     "text": [
      "loss: tensor(103.0442, grad_fn=<MeanBackward0>)\n",
      "loss: tensor(103.0442, grad_fn=<MeanBackward0>)\n",
      "loss: tensor(103.0441, grad_fn=<MeanBackward0>)\n",
      "loss: tensor(103.0440, grad_fn=<MeanBackward0>)\n",
      "loss: tensor(103.0440, grad_fn=<MeanBackward0>)\n",
      "loss: tensor(103.0439, grad_fn=<MeanBackward0>)\n",
      "loss: tensor(103.0439, grad_fn=<MeanBackward0>)\n",
      "loss: tensor(103.0438, grad_fn=<MeanBackward0>)\n",
      "loss: tensor(103.0438, grad_fn=<MeanBackward0>)\n",
      "loss: tensor(103.0437, grad_fn=<MeanBackward0>)\n",
      "loss: tensor(103.0437, grad_fn=<MeanBackward0>)\n",
      "loss: tensor(103.0436, grad_fn=<MeanBackward0>)\n",
      "loss: tensor(103.0436, grad_fn=<MeanBackward0>)\n",
      "loss: tensor(103.0435, grad_fn=<MeanBackward0>)\n",
      "loss: tensor(103.0435, grad_fn=<MeanBackward0>)\n",
      "loss: tensor(103.0434, grad_fn=<MeanBackward0>)\n",
      "loss: tensor(103.0434, grad_fn=<MeanBackward0>)\n",
      "loss: tensor(103.0433, grad_fn=<MeanBackward0>)\n",
      "loss: tensor(103.0432, grad_fn=<MeanBackward0>)\n",
      "loss: tensor(103.0432, grad_fn=<MeanBackward0>)\n",
      "loss: tensor(103.0432, grad_fn=<MeanBackward0>)\n",
      "loss: tensor(103.0431, grad_fn=<MeanBackward0>)\n",
      "loss: tensor(103.0430, grad_fn=<MeanBackward0>)\n",
      "loss: tensor(103.0430, grad_fn=<MeanBackward0>)\n",
      "loss: tensor(103.0429, grad_fn=<MeanBackward0>)\n",
      "loss: tensor(103.0429, grad_fn=<MeanBackward0>)\n",
      "loss: tensor(103.0428, grad_fn=<MeanBackward0>)\n",
      "loss: tensor(103.0428, grad_fn=<MeanBackward0>)\n",
      "loss: tensor(103.0427, grad_fn=<MeanBackward0>)\n",
      "loss: tensor(103.0426, grad_fn=<MeanBackward0>)\n",
      "loss: tensor(103.0426, grad_fn=<MeanBackward0>)\n",
      "loss: tensor(103.0426, grad_fn=<MeanBackward0>)\n",
      "loss: tensor(103.0425, grad_fn=<MeanBackward0>)\n",
      "loss: tensor(103.0424, grad_fn=<MeanBackward0>)\n",
      "loss: tensor(103.0424, grad_fn=<MeanBackward0>)\n",
      "loss: tensor(103.0423, grad_fn=<MeanBackward0>)\n",
      "loss: tensor(103.0423, grad_fn=<MeanBackward0>)\n",
      "loss: tensor(103.0422, grad_fn=<MeanBackward0>)\n",
      "loss: tensor(103.0422, grad_fn=<MeanBackward0>)\n",
      "loss: tensor(103.0421, grad_fn=<MeanBackward0>)\n",
      "loss: tensor(103.0421, grad_fn=<MeanBackward0>)\n",
      "loss: tensor(103.0420, grad_fn=<MeanBackward0>)\n",
      "loss: tensor(103.0419, grad_fn=<MeanBackward0>)\n",
      "loss: tensor(103.0419, grad_fn=<MeanBackward0>)\n",
      "loss: tensor(103.0419, grad_fn=<MeanBackward0>)\n",
      "loss: tensor(103.0418, grad_fn=<MeanBackward0>)\n",
      "loss: tensor(103.0417, grad_fn=<MeanBackward0>)\n",
      "loss: tensor(103.0417, grad_fn=<MeanBackward0>)\n",
      "loss: tensor(103.0417, grad_fn=<MeanBackward0>)\n",
      "loss: tensor(103.0416, grad_fn=<MeanBackward0>)\n",
      "loss: tensor(103.0415, grad_fn=<MeanBackward0>)\n",
      "loss: tensor(103.0415, grad_fn=<MeanBackward0>)\n",
      "loss: tensor(103.0414, grad_fn=<MeanBackward0>)\n",
      "loss: tensor(103.0414, grad_fn=<MeanBackward0>)\n",
      "loss: tensor(103.0413, grad_fn=<MeanBackward0>)\n",
      "loss: tensor(103.0413, grad_fn=<MeanBackward0>)\n",
      "loss: tensor(103.0412, grad_fn=<MeanBackward0>)\n",
      "loss: tensor(103.0412, grad_fn=<MeanBackward0>)\n",
      "loss: tensor(103.0411, grad_fn=<MeanBackward0>)\n",
      "loss: tensor(103.0410, grad_fn=<MeanBackward0>)\n",
      "loss: tensor(103.0410, grad_fn=<MeanBackward0>)\n",
      "loss: tensor(103.0409, grad_fn=<MeanBackward0>)\n",
      "loss: tensor(103.0409, grad_fn=<MeanBackward0>)\n",
      "loss: tensor(103.0408, grad_fn=<MeanBackward0>)\n",
      "loss: tensor(103.0408, grad_fn=<MeanBackward0>)\n",
      "loss: tensor(103.0407, grad_fn=<MeanBackward0>)\n",
      "loss: tensor(103.0407, grad_fn=<MeanBackward0>)\n",
      "loss: tensor(103.0406, grad_fn=<MeanBackward0>)\n",
      "loss: tensor(103.0406, grad_fn=<MeanBackward0>)\n",
      "loss: tensor(103.0405, grad_fn=<MeanBackward0>)\n",
      "loss: tensor(103.0405, grad_fn=<MeanBackward0>)\n",
      "loss: tensor(103.0404, grad_fn=<MeanBackward0>)\n",
      "loss: tensor(103.0404, grad_fn=<MeanBackward0>)\n",
      "loss: tensor(103.0403, grad_fn=<MeanBackward0>)\n",
      "loss: tensor(103.0403, grad_fn=<MeanBackward0>)\n",
      "loss: tensor(103.0402, grad_fn=<MeanBackward0>)\n",
      "loss: tensor(103.0402, grad_fn=<MeanBackward0>)\n",
      "loss: tensor(103.0401, grad_fn=<MeanBackward0>)\n",
      "loss: tensor(103.0400, grad_fn=<MeanBackward0>)\n",
      "loss: tensor(103.0400, grad_fn=<MeanBackward0>)\n",
      "loss: tensor(103.0399, grad_fn=<MeanBackward0>)\n",
      "loss: tensor(103.0399, grad_fn=<MeanBackward0>)\n",
      "loss: tensor(103.0398, grad_fn=<MeanBackward0>)\n",
      "loss: tensor(103.0398, grad_fn=<MeanBackward0>)\n",
      "loss: tensor(103.0397, grad_fn=<MeanBackward0>)\n",
      "loss: tensor(103.0396, grad_fn=<MeanBackward0>)\n",
      "loss: tensor(103.0396, grad_fn=<MeanBackward0>)\n",
      "loss: tensor(103.0395, grad_fn=<MeanBackward0>)\n",
      "loss: tensor(103.0395, grad_fn=<MeanBackward0>)\n",
      "loss: tensor(103.0394, grad_fn=<MeanBackward0>)\n",
      "loss: tensor(103.0394, grad_fn=<MeanBackward0>)\n",
      "loss: tensor(103.0394, grad_fn=<MeanBackward0>)\n",
      "loss: tensor(103.0393, grad_fn=<MeanBackward0>)\n",
      "loss: tensor(103.0392, grad_fn=<MeanBackward0>)\n",
      "loss: tensor(103.0392, grad_fn=<MeanBackward0>)\n",
      "loss: tensor(103.0391, grad_fn=<MeanBackward0>)\n",
      "loss: tensor(103.0391, grad_fn=<MeanBackward0>)\n",
      "loss: tensor(103.0390, grad_fn=<MeanBackward0>)\n",
      "loss: tensor(103.0390, grad_fn=<MeanBackward0>)\n",
      "loss: tensor(103.0389, grad_fn=<MeanBackward0>)\n",
      "loss: tensor(103.0389, grad_fn=<MeanBackward0>)\n",
      "loss: tensor(103.0388, grad_fn=<MeanBackward0>)\n",
      "loss: tensor(103.0388, grad_fn=<MeanBackward0>)\n",
      "loss: tensor(103.0387, grad_fn=<MeanBackward0>)\n",
      "loss: tensor(103.0387, grad_fn=<MeanBackward0>)\n",
      "loss: tensor(103.0386, grad_fn=<MeanBackward0>)\n",
      "loss: tensor(103.0386, grad_fn=<MeanBackward0>)\n",
      "loss: tensor(103.0385, grad_fn=<MeanBackward0>)\n",
      "loss: tensor(103.0384, grad_fn=<MeanBackward0>)\n",
      "loss: tensor(103.0384, grad_fn=<MeanBackward0>)\n",
      "loss: tensor(103.0383, grad_fn=<MeanBackward0>)\n",
      "loss: tensor(103.0383, grad_fn=<MeanBackward0>)\n",
      "loss: tensor(103.0382, grad_fn=<MeanBackward0>)\n",
      "loss: tensor(103.0382, grad_fn=<MeanBackward0>)\n",
      "loss: tensor(103.0381, grad_fn=<MeanBackward0>)\n",
      "loss: tensor(103.0381, grad_fn=<MeanBackward0>)\n",
      "loss: tensor(103.0380, grad_fn=<MeanBackward0>)\n",
      "loss: tensor(103.0380, grad_fn=<MeanBackward0>)\n",
      "loss: tensor(103.0379, grad_fn=<MeanBackward0>)\n",
      "loss: tensor(103.0379, grad_fn=<MeanBackward0>)\n",
      "loss: tensor(103.0378, grad_fn=<MeanBackward0>)\n",
      "loss: tensor(103.0378, grad_fn=<MeanBackward0>)\n",
      "loss: tensor(103.0377, grad_fn=<MeanBackward0>)\n",
      "loss: tensor(103.0376, grad_fn=<MeanBackward0>)\n",
      "loss: tensor(103.0376, grad_fn=<MeanBackward0>)\n",
      "loss: tensor(103.0375, grad_fn=<MeanBackward0>)\n",
      "loss: tensor(103.0375, grad_fn=<MeanBackward0>)\n",
      "loss: tensor(103.0374, grad_fn=<MeanBackward0>)\n",
      "loss: tensor(103.0374, grad_fn=<MeanBackward0>)\n",
      "loss: tensor(103.0373, grad_fn=<MeanBackward0>)\n",
      "loss: tensor(103.0373, grad_fn=<MeanBackward0>)\n",
      "loss: tensor(103.0372, grad_fn=<MeanBackward0>)\n",
      "loss: tensor(103.0372, grad_fn=<MeanBackward0>)\n",
      "loss: tensor(103.0371, grad_fn=<MeanBackward0>)\n",
      "loss: tensor(103.0370, grad_fn=<MeanBackward0>)\n",
      "loss: tensor(103.0370, grad_fn=<MeanBackward0>)\n",
      "loss: tensor(103.0370, grad_fn=<MeanBackward0>)\n",
      "loss: tensor(103.0369, grad_fn=<MeanBackward0>)\n",
      "loss: tensor(103.0368, grad_fn=<MeanBackward0>)\n",
      "loss: tensor(103.0368, grad_fn=<MeanBackward0>)\n",
      "loss: tensor(103.0368, grad_fn=<MeanBackward0>)\n",
      "loss: tensor(103.0367, grad_fn=<MeanBackward0>)\n",
      "loss: tensor(103.0367, grad_fn=<MeanBackward0>)\n",
      "loss: tensor(103.0366, grad_fn=<MeanBackward0>)\n",
      "loss: tensor(103.0366, grad_fn=<MeanBackward0>)\n",
      "loss: tensor(103.0365, grad_fn=<MeanBackward0>)\n",
      "loss: tensor(103.0365, grad_fn=<MeanBackward0>)\n",
      "loss: tensor(103.0364, grad_fn=<MeanBackward0>)\n",
      "loss: tensor(103.0363, grad_fn=<MeanBackward0>)\n",
      "loss: tensor(103.0363, grad_fn=<MeanBackward0>)\n",
      "loss: tensor(103.0362, grad_fn=<MeanBackward0>)\n",
      "loss: tensor(103.0362, grad_fn=<MeanBackward0>)\n",
      "loss: tensor(103.0361, grad_fn=<MeanBackward0>)\n",
      "loss: tensor(103.0361, grad_fn=<MeanBackward0>)\n",
      "loss: tensor(103.0360, grad_fn=<MeanBackward0>)\n",
      "loss: tensor(103.0360, grad_fn=<MeanBackward0>)\n",
      "loss: tensor(103.0359, grad_fn=<MeanBackward0>)\n",
      "loss: tensor(103.0359, grad_fn=<MeanBackward0>)\n",
      "loss: tensor(103.0358, grad_fn=<MeanBackward0>)\n",
      "loss: tensor(103.0358, grad_fn=<MeanBackward0>)\n",
      "loss: tensor(103.0357, grad_fn=<MeanBackward0>)\n",
      "loss: tensor(103.0356, grad_fn=<MeanBackward0>)\n",
      "loss: tensor(103.0356, grad_fn=<MeanBackward0>)\n",
      "loss: tensor(103.0355, grad_fn=<MeanBackward0>)\n",
      "loss: tensor(103.0355, grad_fn=<MeanBackward0>)\n",
      "loss: tensor(103.0354, grad_fn=<MeanBackward0>)\n",
      "loss: tensor(103.0354, grad_fn=<MeanBackward0>)\n",
      "loss: tensor(103.0353, grad_fn=<MeanBackward0>)\n",
      "loss: tensor(103.0353, grad_fn=<MeanBackward0>)\n",
      "loss: tensor(103.0352, grad_fn=<MeanBackward0>)\n",
      "loss: tensor(103.0352, grad_fn=<MeanBackward0>)\n",
      "loss: tensor(103.0351, grad_fn=<MeanBackward0>)\n",
      "loss: tensor(103.0351, grad_fn=<MeanBackward0>)\n",
      "loss: tensor(103.0350, grad_fn=<MeanBackward0>)\n",
      "loss: tensor(103.0350, grad_fn=<MeanBackward0>)\n",
      "loss: tensor(103.0349, grad_fn=<MeanBackward0>)\n",
      "loss: tensor(103.0349, grad_fn=<MeanBackward0>)\n",
      "loss: tensor(103.0348, grad_fn=<MeanBackward0>)\n",
      "loss: tensor(103.0348, grad_fn=<MeanBackward0>)\n",
      "loss: tensor(103.0347, grad_fn=<MeanBackward0>)\n",
      "loss: tensor(103.0347, grad_fn=<MeanBackward0>)\n",
      "loss: tensor(103.0346, grad_fn=<MeanBackward0>)\n",
      "loss: tensor(103.0346, grad_fn=<MeanBackward0>)\n",
      "loss: tensor(103.0345, grad_fn=<MeanBackward0>)\n",
      "loss: tensor(103.0344, grad_fn=<MeanBackward0>)\n",
      "loss: tensor(103.0344, grad_fn=<MeanBackward0>)\n",
      "loss: tensor(103.0343, grad_fn=<MeanBackward0>)\n",
      "loss: tensor(103.0343, grad_fn=<MeanBackward0>)\n",
      "loss: tensor(103.0342, grad_fn=<MeanBackward0>)\n",
      "loss: tensor(103.0342, grad_fn=<MeanBackward0>)\n",
      "loss: tensor(103.0341, grad_fn=<MeanBackward0>)\n",
      "loss: tensor(103.0341, grad_fn=<MeanBackward0>)\n",
      "loss: tensor(103.0340, grad_fn=<MeanBackward0>)\n",
      "loss: tensor(103.0340, grad_fn=<MeanBackward0>)\n",
      "loss: tensor(103.0339, grad_fn=<MeanBackward0>)\n",
      "loss: tensor(103.0339, grad_fn=<MeanBackward0>)\n",
      "loss: tensor(103.0338, grad_fn=<MeanBackward0>)\n",
      "loss: tensor(103.0338, grad_fn=<MeanBackward0>)\n",
      "loss: tensor(103.0337, grad_fn=<MeanBackward0>)\n",
      "loss: tensor(103.0336, grad_fn=<MeanBackward0>)\n",
      "loss: tensor(103.0336, grad_fn=<MeanBackward0>)\n",
      "loss: tensor(103.0336, grad_fn=<MeanBackward0>)\n",
      "loss: tensor(103.0335, grad_fn=<MeanBackward0>)\n",
      "loss: tensor(103.0334, grad_fn=<MeanBackward0>)\n",
      "loss: tensor(103.0334, grad_fn=<MeanBackward0>)\n",
      "loss: tensor(103.0333, grad_fn=<MeanBackward0>)\n",
      "loss: tensor(103.0333, grad_fn=<MeanBackward0>)\n",
      "loss: tensor(103.0333, grad_fn=<MeanBackward0>)\n",
      "loss: tensor(103.0332, grad_fn=<MeanBackward0>)\n",
      "loss: tensor(103.0331, grad_fn=<MeanBackward0>)\n",
      "loss: tensor(103.0331, grad_fn=<MeanBackward0>)\n",
      "loss: tensor(103.0330, grad_fn=<MeanBackward0>)\n",
      "loss: tensor(103.0330, grad_fn=<MeanBackward0>)\n",
      "loss: tensor(103.0329, grad_fn=<MeanBackward0>)\n",
      "loss: tensor(103.0329, grad_fn=<MeanBackward0>)\n",
      "loss: tensor(103.0328, grad_fn=<MeanBackward0>)\n",
      "loss: tensor(103.0328, grad_fn=<MeanBackward0>)\n",
      "loss: tensor(103.0327, grad_fn=<MeanBackward0>)\n",
      "loss: tensor(103.0327, grad_fn=<MeanBackward0>)\n",
      "loss: tensor(103.0326, grad_fn=<MeanBackward0>)\n",
      "loss: tensor(103.0326, grad_fn=<MeanBackward0>)\n",
      "loss: tensor(103.0325, grad_fn=<MeanBackward0>)\n",
      "loss: tensor(103.0324, grad_fn=<MeanBackward0>)\n",
      "loss: tensor(103.0324, grad_fn=<MeanBackward0>)\n"
     ]
    },
    {
     "name": "stdout",
     "output_type": "stream",
     "text": [
      "loss: tensor(103.0323, grad_fn=<MeanBackward0>)\n",
      "loss: tensor(103.0323, grad_fn=<MeanBackward0>)\n",
      "loss: tensor(103.0322, grad_fn=<MeanBackward0>)\n",
      "loss: tensor(103.0322, grad_fn=<MeanBackward0>)\n",
      "loss: tensor(103.0321, grad_fn=<MeanBackward0>)\n",
      "loss: tensor(103.0321, grad_fn=<MeanBackward0>)\n",
      "loss: tensor(103.0320, grad_fn=<MeanBackward0>)\n",
      "loss: tensor(103.0320, grad_fn=<MeanBackward0>)\n",
      "loss: tensor(103.0319, grad_fn=<MeanBackward0>)\n",
      "loss: tensor(103.0319, grad_fn=<MeanBackward0>)\n",
      "loss: tensor(103.0318, grad_fn=<MeanBackward0>)\n",
      "loss: tensor(103.0318, grad_fn=<MeanBackward0>)\n",
      "loss: tensor(103.0317, grad_fn=<MeanBackward0>)\n",
      "loss: tensor(103.0317, grad_fn=<MeanBackward0>)\n",
      "loss: tensor(103.0316, grad_fn=<MeanBackward0>)\n",
      "loss: tensor(103.0315, grad_fn=<MeanBackward0>)\n",
      "loss: tensor(103.0315, grad_fn=<MeanBackward0>)\n",
      "loss: tensor(103.0314, grad_fn=<MeanBackward0>)\n",
      "loss: tensor(103.0314, grad_fn=<MeanBackward0>)\n",
      "loss: tensor(103.0313, grad_fn=<MeanBackward0>)\n",
      "loss: tensor(103.0313, grad_fn=<MeanBackward0>)\n",
      "loss: tensor(103.0312, grad_fn=<MeanBackward0>)\n",
      "loss: tensor(103.0312, grad_fn=<MeanBackward0>)\n",
      "loss: tensor(103.0311, grad_fn=<MeanBackward0>)\n",
      "loss: tensor(103.0311, grad_fn=<MeanBackward0>)\n",
      "loss: tensor(103.0311, grad_fn=<MeanBackward0>)\n",
      "loss: tensor(103.0310, grad_fn=<MeanBackward0>)\n",
      "loss: tensor(103.0309, grad_fn=<MeanBackward0>)\n",
      "loss: tensor(103.0309, grad_fn=<MeanBackward0>)\n",
      "loss: tensor(103.0308, grad_fn=<MeanBackward0>)\n",
      "loss: tensor(103.0308, grad_fn=<MeanBackward0>)\n",
      "loss: tensor(103.0307, grad_fn=<MeanBackward0>)\n",
      "loss: tensor(103.0307, grad_fn=<MeanBackward0>)\n",
      "loss: tensor(103.0306, grad_fn=<MeanBackward0>)\n",
      "loss: tensor(103.0305, grad_fn=<MeanBackward0>)\n",
      "loss: tensor(103.0305, grad_fn=<MeanBackward0>)\n",
      "loss: tensor(103.0305, grad_fn=<MeanBackward0>)\n",
      "loss: tensor(103.0304, grad_fn=<MeanBackward0>)\n",
      "loss: tensor(103.0304, grad_fn=<MeanBackward0>)\n",
      "loss: tensor(103.0303, grad_fn=<MeanBackward0>)\n",
      "loss: tensor(103.0302, grad_fn=<MeanBackward0>)\n",
      "loss: tensor(103.0302, grad_fn=<MeanBackward0>)\n",
      "loss: tensor(103.0301, grad_fn=<MeanBackward0>)\n",
      "loss: tensor(103.0301, grad_fn=<MeanBackward0>)\n",
      "loss: tensor(103.0300, grad_fn=<MeanBackward0>)\n",
      "loss: tensor(103.0300, grad_fn=<MeanBackward0>)\n",
      "loss: tensor(103.0300, grad_fn=<MeanBackward0>)\n",
      "loss: tensor(103.0299, grad_fn=<MeanBackward0>)\n",
      "loss: tensor(103.0298, grad_fn=<MeanBackward0>)\n",
      "loss: tensor(103.0298, grad_fn=<MeanBackward0>)\n",
      "loss: tensor(103.0298, grad_fn=<MeanBackward0>)\n",
      "loss: tensor(103.0297, grad_fn=<MeanBackward0>)\n",
      "loss: tensor(103.0296, grad_fn=<MeanBackward0>)\n",
      "loss: tensor(103.0296, grad_fn=<MeanBackward0>)\n",
      "loss: tensor(103.0295, grad_fn=<MeanBackward0>)\n",
      "loss: tensor(103.0295, grad_fn=<MeanBackward0>)\n",
      "loss: tensor(103.0294, grad_fn=<MeanBackward0>)\n",
      "loss: tensor(103.0294, grad_fn=<MeanBackward0>)\n",
      "loss: tensor(103.0293, grad_fn=<MeanBackward0>)\n",
      "loss: tensor(103.0293, grad_fn=<MeanBackward0>)\n",
      "loss: tensor(103.0292, grad_fn=<MeanBackward0>)\n",
      "loss: tensor(103.0292, grad_fn=<MeanBackward0>)\n",
      "loss: tensor(103.0291, grad_fn=<MeanBackward0>)\n",
      "loss: tensor(103.0290, grad_fn=<MeanBackward0>)\n",
      "loss: tensor(103.0290, grad_fn=<MeanBackward0>)\n",
      "loss: tensor(103.0289, grad_fn=<MeanBackward0>)\n",
      "loss: tensor(103.0289, grad_fn=<MeanBackward0>)\n",
      "loss: tensor(103.0289, grad_fn=<MeanBackward0>)\n",
      "loss: tensor(103.0288, grad_fn=<MeanBackward0>)\n",
      "loss: tensor(103.0287, grad_fn=<MeanBackward0>)\n",
      "loss: tensor(103.0287, grad_fn=<MeanBackward0>)\n",
      "loss: tensor(103.0286, grad_fn=<MeanBackward0>)\n",
      "loss: tensor(103.0286, grad_fn=<MeanBackward0>)\n",
      "loss: tensor(103.0285, grad_fn=<MeanBackward0>)\n",
      "loss: tensor(103.0285, grad_fn=<MeanBackward0>)\n",
      "loss: tensor(103.0284, grad_fn=<MeanBackward0>)\n",
      "loss: tensor(103.0284, grad_fn=<MeanBackward0>)\n",
      "loss: tensor(103.0283, grad_fn=<MeanBackward0>)\n",
      "loss: tensor(103.0283, grad_fn=<MeanBackward0>)\n",
      "loss: tensor(103.0282, grad_fn=<MeanBackward0>)\n",
      "loss: tensor(103.0282, grad_fn=<MeanBackward0>)\n",
      "loss: tensor(103.0281, grad_fn=<MeanBackward0>)\n",
      "loss: tensor(103.0281, grad_fn=<MeanBackward0>)\n",
      "loss: tensor(103.0280, grad_fn=<MeanBackward0>)\n",
      "loss: tensor(103.0280, grad_fn=<MeanBackward0>)\n",
      "loss: tensor(103.0279, grad_fn=<MeanBackward0>)\n",
      "loss: tensor(103.0279, grad_fn=<MeanBackward0>)\n",
      "loss: tensor(103.0278, grad_fn=<MeanBackward0>)\n",
      "loss: tensor(103.0277, grad_fn=<MeanBackward0>)\n",
      "loss: tensor(103.0277, grad_fn=<MeanBackward0>)\n",
      "loss: tensor(103.0276, grad_fn=<MeanBackward0>)\n",
      "loss: tensor(103.0276, grad_fn=<MeanBackward0>)\n",
      "loss: tensor(103.0275, grad_fn=<MeanBackward0>)\n",
      "loss: tensor(103.0275, grad_fn=<MeanBackward0>)\n",
      "loss: tensor(103.0274, grad_fn=<MeanBackward0>)\n",
      "loss: tensor(103.0274, grad_fn=<MeanBackward0>)\n",
      "loss: tensor(103.0273, grad_fn=<MeanBackward0>)\n",
      "loss: tensor(103.0273, grad_fn=<MeanBackward0>)\n",
      "loss: tensor(103.0272, grad_fn=<MeanBackward0>)\n",
      "loss: tensor(103.0272, grad_fn=<MeanBackward0>)\n",
      "loss: tensor(103.0271, grad_fn=<MeanBackward0>)\n",
      "loss: tensor(103.0271, grad_fn=<MeanBackward0>)\n",
      "loss: tensor(103.0270, grad_fn=<MeanBackward0>)\n",
      "loss: tensor(103.0270, grad_fn=<MeanBackward0>)\n",
      "loss: tensor(103.0269, grad_fn=<MeanBackward0>)\n",
      "loss: tensor(103.0269, grad_fn=<MeanBackward0>)\n",
      "loss: tensor(103.0268, grad_fn=<MeanBackward0>)\n",
      "loss: tensor(103.0268, grad_fn=<MeanBackward0>)\n",
      "loss: tensor(103.0267, grad_fn=<MeanBackward0>)\n",
      "loss: tensor(103.0267, grad_fn=<MeanBackward0>)\n",
      "loss: tensor(103.0266, grad_fn=<MeanBackward0>)\n",
      "loss: tensor(103.0266, grad_fn=<MeanBackward0>)\n",
      "loss: tensor(103.0265, grad_fn=<MeanBackward0>)\n",
      "loss: tensor(103.0265, grad_fn=<MeanBackward0>)\n",
      "loss: tensor(103.0264, grad_fn=<MeanBackward0>)\n",
      "loss: tensor(103.0263, grad_fn=<MeanBackward0>)\n",
      "loss: tensor(103.0263, grad_fn=<MeanBackward0>)\n",
      "loss: tensor(103.0262, grad_fn=<MeanBackward0>)\n",
      "loss: tensor(103.0262, grad_fn=<MeanBackward0>)\n",
      "loss: tensor(103.0262, grad_fn=<MeanBackward0>)\n",
      "loss: tensor(103.0261, grad_fn=<MeanBackward0>)\n",
      "loss: tensor(103.0261, grad_fn=<MeanBackward0>)\n",
      "loss: tensor(103.0260, grad_fn=<MeanBackward0>)\n",
      "loss: tensor(103.0260, grad_fn=<MeanBackward0>)\n",
      "loss: tensor(103.0259, grad_fn=<MeanBackward0>)\n",
      "loss: tensor(103.0258, grad_fn=<MeanBackward0>)\n",
      "loss: tensor(103.0258, grad_fn=<MeanBackward0>)\n",
      "loss: tensor(103.0257, grad_fn=<MeanBackward0>)\n",
      "loss: tensor(103.0257, grad_fn=<MeanBackward0>)\n",
      "loss: tensor(103.0256, grad_fn=<MeanBackward0>)\n",
      "loss: tensor(103.0256, grad_fn=<MeanBackward0>)\n",
      "loss: tensor(103.0255, grad_fn=<MeanBackward0>)\n",
      "loss: tensor(103.0255, grad_fn=<MeanBackward0>)\n",
      "loss: tensor(103.0254, grad_fn=<MeanBackward0>)\n",
      "loss: tensor(103.0254, grad_fn=<MeanBackward0>)\n",
      "loss: tensor(103.0253, grad_fn=<MeanBackward0>)\n",
      "loss: tensor(103.0253, grad_fn=<MeanBackward0>)\n",
      "loss: tensor(103.0253, grad_fn=<MeanBackward0>)\n",
      "loss: tensor(103.0252, grad_fn=<MeanBackward0>)\n",
      "loss: tensor(103.0251, grad_fn=<MeanBackward0>)\n",
      "loss: tensor(103.0251, grad_fn=<MeanBackward0>)\n",
      "loss: tensor(103.0250, grad_fn=<MeanBackward0>)\n",
      "loss: tensor(103.0250, grad_fn=<MeanBackward0>)\n",
      "loss: tensor(103.0249, grad_fn=<MeanBackward0>)\n",
      "loss: tensor(103.0249, grad_fn=<MeanBackward0>)\n",
      "loss: tensor(103.0248, grad_fn=<MeanBackward0>)\n",
      "loss: tensor(103.0248, grad_fn=<MeanBackward0>)\n",
      "loss: tensor(103.0247, grad_fn=<MeanBackward0>)\n",
      "loss: tensor(103.0247, grad_fn=<MeanBackward0>)\n",
      "loss: tensor(103.0246, grad_fn=<MeanBackward0>)\n",
      "loss: tensor(103.0245, grad_fn=<MeanBackward0>)\n",
      "loss: tensor(103.0245, grad_fn=<MeanBackward0>)\n",
      "loss: tensor(103.0245, grad_fn=<MeanBackward0>)\n",
      "loss: tensor(103.0244, grad_fn=<MeanBackward0>)\n",
      "loss: tensor(103.0243, grad_fn=<MeanBackward0>)\n",
      "loss: tensor(103.0243, grad_fn=<MeanBackward0>)\n",
      "loss: tensor(103.0243, grad_fn=<MeanBackward0>)\n",
      "loss: tensor(103.0242, grad_fn=<MeanBackward0>)\n",
      "loss: tensor(103.0241, grad_fn=<MeanBackward0>)\n",
      "loss: tensor(103.0241, grad_fn=<MeanBackward0>)\n",
      "loss: tensor(103.0240, grad_fn=<MeanBackward0>)\n",
      "loss: tensor(103.0240, grad_fn=<MeanBackward0>)\n",
      "loss: tensor(103.0239, grad_fn=<MeanBackward0>)\n",
      "loss: tensor(103.0239, grad_fn=<MeanBackward0>)\n",
      "loss: tensor(103.0238, grad_fn=<MeanBackward0>)\n",
      "loss: tensor(103.0238, grad_fn=<MeanBackward0>)\n",
      "loss: tensor(103.0237, grad_fn=<MeanBackward0>)\n",
      "loss: tensor(103.0237, grad_fn=<MeanBackward0>)\n",
      "loss: tensor(103.0236, grad_fn=<MeanBackward0>)\n",
      "loss: tensor(103.0236, grad_fn=<MeanBackward0>)\n",
      "loss: tensor(103.0235, grad_fn=<MeanBackward0>)\n",
      "loss: tensor(103.0235, grad_fn=<MeanBackward0>)\n",
      "loss: tensor(103.0234, grad_fn=<MeanBackward0>)\n",
      "loss: tensor(103.0234, grad_fn=<MeanBackward0>)\n",
      "loss: tensor(103.0233, grad_fn=<MeanBackward0>)\n",
      "loss: tensor(103.0233, grad_fn=<MeanBackward0>)\n",
      "loss: tensor(103.0232, grad_fn=<MeanBackward0>)\n",
      "loss: tensor(103.0231, grad_fn=<MeanBackward0>)\n",
      "loss: tensor(103.0231, grad_fn=<MeanBackward0>)\n",
      "loss: tensor(103.0231, grad_fn=<MeanBackward0>)\n",
      "loss: tensor(103.0230, grad_fn=<MeanBackward0>)\n",
      "loss: tensor(103.0229, grad_fn=<MeanBackward0>)\n",
      "loss: tensor(103.0229, grad_fn=<MeanBackward0>)\n",
      "loss: tensor(103.0228, grad_fn=<MeanBackward0>)\n",
      "loss: tensor(103.0228, grad_fn=<MeanBackward0>)\n",
      "loss: tensor(103.0228, grad_fn=<MeanBackward0>)\n",
      "loss: tensor(103.0227, grad_fn=<MeanBackward0>)\n",
      "loss: tensor(103.0226, grad_fn=<MeanBackward0>)\n",
      "loss: tensor(103.0226, grad_fn=<MeanBackward0>)\n",
      "loss: tensor(103.0225, grad_fn=<MeanBackward0>)\n",
      "loss: tensor(103.0225, grad_fn=<MeanBackward0>)\n",
      "loss: tensor(103.0225, grad_fn=<MeanBackward0>)\n",
      "loss: tensor(103.0224, grad_fn=<MeanBackward0>)\n",
      "loss: tensor(103.0223, grad_fn=<MeanBackward0>)\n",
      "loss: tensor(103.0223, grad_fn=<MeanBackward0>)\n",
      "loss: tensor(103.0222, grad_fn=<MeanBackward0>)\n",
      "loss: tensor(103.0222, grad_fn=<MeanBackward0>)\n",
      "loss: tensor(103.0221, grad_fn=<MeanBackward0>)\n"
     ]
    }
   ],
   "source": [
    "a = torch.rand(1, requires_grad=True)\n",
    "b = torch.rand(1, requires_grad=True)\n",
    "learning_rate = 0.0001\n",
    "print('Initial parameters:', [a, b])\n",
    "for i in range(1000):\n",
    "    predictions = x_train * a.expand_as(x_train) + b.expand_as(x_train)\n",
    "    loss = torch.mean((predictions - y_train) ** 2)\n",
    "    print('loss:', loss)\n",
    "    loss.backward()\n",
    "    a.data.add_(- learning_rate * a.grad.data)\n",
    "    b.data.add_(- learning_rate * b.grad.data)\n",
    "    a.grad.data.zero_()\n",
    "    b.grad.data.zero_()"
   ]
  },
  {
   "cell_type": "code",
   "execution_count": 72,
   "metadata": {},
   "outputs": [
    {
     "data": {
      "image/png": "[encoded data removed]",
      "text/plain": [
       "<Figure size 720x504 with 1 Axes>"
      ]
     },
     "metadata": {},
     "output_type": "display_data"
    }
   ],
   "source": [
    "x_data = x_train.data.numpy()\n",
    "plt.figure(figsize=(10, 7))\n",
    "xplot, = plt.plot(x_data, y_train.numpy(), 'o')# 逗号解元组\n",
    "yplot, = plt.plot(x_data, x_data * a.data.numpy() + b.data.numpy())\n",
    "plt.xlabel('X')\n",
    "plt.ylabel('Y')\n",
    "str1 = str(a.data.numpy()[0]) + 'x +' + str(b.data.numpy()[0])\n",
    "plt.legend([xplot, yplot],['Data', str1])\n",
    "plt.show()"
   ]
  },
  {
   "cell_type": "markdown",
   "metadata": {},
   "source": [
    "### 3. 测试阶段"
   ]
  },
  {
   "cell_type": "code",
   "execution_count": 73,
   "metadata": {},
   "outputs": [
    {
     "data": {
      "text/plain": [
       "tensor([88.2797, 89.2514, 90.2230, 91.1946, 92.1663, 93.1379, 94.1096, 95.0812,\n",
       "        96.0528, 97.0245])"
      ]
     },
     "execution_count": 73,
     "metadata": {},
     "output_type": "execute_result"
    }
   ],
   "source": [
    "predictions = x_test * a.data.numpy()[0] + b.data.numpy()[0]\n",
    "predictions"
   ]
  },
  {
   "cell_type": "code",
   "execution_count": 80,
   "metadata": {},
   "outputs": [
    {
     "data": {
      "image/png": "[encoded data removed]",
      "text/plain": [
       "<Figure size 720x504 with 1 Axes>"
      ]
     },
     "metadata": {},
     "output_type": "display_data"
    }
   ],
   "source": [
    "x_data = x_train.data.numpy()\n",
    "x_pred = x_test.data.numpy()\n",
    "plt.figure(figsize=(10, 7))\n",
    "plt.plot(x_data, y_train.data.numpy(), 'o')\n",
    "plt.plot(x_pred, y_test.data.numpy(), 's')\n",
    "x_data = np.r_[x_data, x_pred]\n",
    "plt.plot(x_data, x_data * a.data.numpy()[0] + b.data.numpy()[0])\n",
    "plt.xlabel('X')\n",
    "plt.ylabel('Y')\n",
    "plt.legend([xplot, yplot], ['Data', str1])\n",
    "plt.show()"
   ]
  }
 ],
 "metadata": {
  "kernelspec": {
   "display_name": "pytorch",
   "language": "python",
   "name": "pytorch"
  },
  "language_info": {
   "codemirror_mode": {
    "name": "ipython",
    "version": 3
   },
   "file_extension": ".py",
   "mimetype": "text/x-python",
   "name": "python",
   "nbconvert_exporter": "python",
   "pygments_lexer": "ipython3",
   "version": "3.6.2"
  }
 },
 "nbformat": 4,
 "nbformat_minor": 2
}
