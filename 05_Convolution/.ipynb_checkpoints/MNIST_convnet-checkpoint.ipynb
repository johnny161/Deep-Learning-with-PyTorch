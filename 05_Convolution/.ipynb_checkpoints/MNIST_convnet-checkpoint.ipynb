{
 "cells": [
  {
   "cell_type": "code",
   "execution_count": 2,
   "metadata": {
    "collapsed": true
   },
   "outputs": [],
   "source": [
    "# 导入所需要的包，请保证torchvision已经在你的环境中安装好.\n",
    "# 在Windows需要单独安装torchvision包，在命令行运行pip install torchvision即可\n",
    "import torch\n",
    "import torch.nn as nn\n",
    "from torch.autograd import Variable\n",
    "import torch.optim as optim\n",
    "import torch.nn.functional as F\n",
    "\n",
    "import torchvision.datasets as dsets\n",
    "import torchvision.transforms as transforms\n",
    "\n",
    "import matplotlib.pyplot as plt\n",
    "import numpy as np\n",
    "\n",
    "%matplotlib inline"
   ]
  },
  {
   "cell_type": "markdown",
   "metadata": {},
   "source": [
    "## 一、加载数据\n",
    "1. 首先，我们需要学习PyTorch自带的数据加载器，包括dataset，sampler，以及data loader这三个对象组成的套件。\n",
    "2. 当数据集很小，格式比较规则的时候，数据加载三套件的优势并不明显。但是当数据格式比较特殊，以及数据规模很大（内存无法同时加载所有数据）\n",
    "的时候，特别是，我们需要用不同的处理器来加载数据的时候，三套件的威力就会显现出来了。它会将数据加载、分布的任务自动完成。\n",
    "3. 在使用的时候，我们用dataset来装载数据集，用sampler来采样数据集。而对数据集的迭代、循环则主要通过data_loader来完成。\n",
    "4. 创建一个data_loader就需要一个dataset和一个datasampler，它基本实现的就是利用sampler自动从dataset种采样"
   ]
  },
  {
   "cell_type": "code",
   "execution_count": 3,
   "metadata": {
    "collapsed": true
   },
   "outputs": [],
   "source": [
    "# 定义超参数\n",
    "image_size = 28\n",
    "num_classes = 10\n",
    "num_epochs = 20\n",
    "batch_size = 64\n",
    "\n",
    "train_dataset = dsets.MNIST(root='./data',\n",
    "                           train=True,\n",
    "                           transform=transforms.ToTensor(),\n",
    "                           download=True)\n",
    "\n",
    "test_dataset = dsets.MNIST(root='./data',\n",
    "                          train=False,\n",
    "                          transform=transforms.ToTensor())\n",
    "\n",
    "train_loader = torch.utils.data.DataLoader(dataset=train_dataset,\n",
    "                                          batch_size=batch_size,\n",
    "                                          shuffle=True)\n",
    "\n",
    "'''我们希望将测试数据分成两部分，一部分作为校验数据，一部分作为测试数据。\n",
    "校验数据用于检测模型是否过拟合，并调整参数，测试数据检验整个模型的工作'''\n",
    "indices = range(len(test_dataset))\n",
    "indices_val = indices[:5000]\n",
    "indices_test = indices[5000:]\n",
    "\n",
    "# 根据这些下标，构造两个数据集的SubsetRandomSampler采样器，它会对下标进行采样\n",
    "sampler_val = torch.utils.data.sampler.SubsetRandomSampler(indices_val)\n",
    "sampler_test = torch.utils.data.sampler.SubsetRandomSampler(indices_test)\n",
    "\n",
    "validation_loader = torch.utils.data.DataLoader(dataset=test_dataset,\n",
    "                                                batch_size=batch_size,\n",
    "                                                sampler=sampler_val)\n",
    "test_loader = torch.utils.data.DataLoader(dataset=test_dataset,\n",
    "                                          batch_size=batch_size,\n",
    "                                          sampler=sampler_test)"
   ]
  },
  {
   "cell_type": "code",
   "execution_count": 4,
   "metadata": {},
   "outputs": [
    {
     "name": "stdout",
     "output_type": "stream",
     "text": [
      "训练集详情： Dataset MNIST\n",
      "    Number of datapoints: 60000\n",
      "    Root location: ./data\n",
      "    Split: Train\n",
      "    StandardTransform\n",
      "Transform: ToTensor()\n",
      "Img_size: (1, 28, 28)\n",
      "标签是： 0\n"
     ]
    },
    {
     "data": {
      "image/png": "[encoded data removed]",
      "text/plain": [
       "<Figure size 432x288 with 1 Axes>"
      ]
     },
     "metadata": {},
     "output_type": "display_data"
    }
   ],
   "source": [
    "#随便从数据集中读入一张图片，并绘制出来\n",
    "idx = 1000\n",
    "\n",
    "#dataset支持下标索引，其中提取出来的每一个元素为features，target格式，即属性和标签。[0]表示索引features\n",
    "muteimg = train_dataset[idx][0].numpy()\n",
    "#由于一般的图像包含rgb三个通道，而MINST数据集的图像都是灰度的，只有一个通道。因此，我们忽略通道，把图像看作一个灰度矩阵。\n",
    "#用imshow画图，会将灰度矩阵自动展现为彩色，不同灰度对应不同颜色：从黄到紫\n",
    "\n",
    "plt.imshow(muteimg[0,...])\n",
    "print('训练集详情：',train_dataset)\n",
    "print('Img_size:',muteimg.shape)\n",
    "print('标签是：',train_dataset[idx][1])"
   ]
  },
  {
   "cell_type": "markdown",
   "metadata": {},
   "source": [
    "## 二、基本的卷积神经网络\n",
    "### 2.1 构建网络\n",
    "1. 首先，我们构造ConvNet类，它是对类nn.Module的继承（即nn.Module是父类，ConvNet为子类。如果这些概念不熟悉，请参考面向对象编程）\n",
    "2. 然后，我们复写__init__，以及forward这两个函数。第一个为构造函数，每当类ConvNet被具体化一个实例的时候，就会调用，forward则是\n",
    "在运行神经网络正向的时候会被自动调用\n",
    "3. 自定义自己的方法\n",
    "\n",
    "另一需要理解的是，ConvNet其实也是一个大容器，它里面有Conv2d，MaxPool2d等组件"
   ]
  },
  {
   "cell_type": "code",
   "execution_count": 5,
   "metadata": {
    "collapsed": true
   },
   "outputs": [],
   "source": [
    "#定义卷积神经网络：4和8为人为指定的两个卷积层的厚度（feature map的数量）\n",
    "depth = [4, 8]\n",
    "class ConvNet(nn.Module):\n",
    "    def __init__(self):\n",
    "        # 首先调用父类相应的构造函数\n",
    "        super(ConvNet, self).__init__()\n",
    "        \n",
    "        # 其次构造ConvNet需要用到的各个神经模块。\n",
    "        self.conv1 = nn.Conv2d(1, depth[0], 5, padding = 2)\n",
    "        self.pool = nn.MaxPool2d(2, 2)\n",
    "        self.conv2 = nn.Conv2d(depth[0], depth[1], 5, padding = 2)\n",
    "        self.fc1 = nn.Linear(image_size // 4 * image_size // 4 * depth[1], 512)\n",
    "        self.fc2 = nn.Linear(512, num_classes)\n",
    "        \n",
    "    def forward(self, x):\n",
    "        #该函数完成神经网络真正的前向运算，我们会在这里把各个组件进行实际的拼装\n",
    "        #x的尺寸：(batch_size, image_channels, image_width, image_height)\n",
    "        x = F.relu(self.conv1(x))\n",
    "        x = self.pool(x)\n",
    "        x = F.relu(self.conv2(x))\n",
    "        x = self.pool(x)\n",
    "        x = x.view(-1, image_size // 4 * image_size // 4 * depth[1])\n",
    "        x = F.relu(self.fc1(x))\n",
    "        x = F.dropout(x, training=self.training)\n",
    "        x = self.fc2(x)\n",
    "        x = F.log_softmax(x, dim=0)\n",
    "        return x\n",
    "    \n",
    "    def retrieve_features(self, x):\n",
    "        feature_map1 = F.relu(self.conv1(x))\n",
    "        x = self.pool(feature_map1)\n",
    "        feature_map2 = F.relu(self.conv2(x))\n",
    "        return (feature_map1, feature_map2)"
   ]
  },
  {
   "cell_type": "markdown",
   "metadata": {},
   "source": [
    "### 2.2 训练这个卷积神经网络"
   ]
  },
  {
   "cell_type": "code",
   "execution_count": 6,
   "metadata": {
    "collapsed": true
   },
   "outputs": [],
   "source": [
    "def rightness(predictions, labels):\n",
    "    \"\"\"计算预测错误率的函数，其中predictions是模型给出的一组预测结果，batch_size行num_classes列的矩阵，labels是数据之中的正确答案\"\"\"\n",
    "    pred = torch.max(predictions.data, 1)[1] #按行取最大值 [1]是index [0]是值\n",
    "    rights = pred.eq(labels.data.view_as(pred)).sum()\n",
    "    return rights, len(labels)#返回正确的数量和这一次一共比较了多少元素"
   ]
  },
  {
   "cell_type": "code",
   "execution_count": 7,
   "metadata": {},
   "outputs": [
    {
     "name": "stdout",
     "output_type": "stream",
     "text": [
      "(tensor(487), 5000)\n",
      "训练周期：0[0/60000 (0%)]\tLoss：2.298612\t训练正确率：14.00%\t校验正确率：9.00%\n",
      "(tensor(1058), 5000)\n",
      "训练周期：0[6400/60000 (11%)]\tLoss：2.303717\t训练正确率：11.00%\t校验正确率：21.00%\n",
      "(tensor(1984), 5000)\n",
      "训练周期：0[12800/60000 (21%)]\tLoss：2.296443\t训练正确率：13.00%\t校验正确率：39.00%\n",
      "(tensor(2516), 5000)\n",
      "训练周期：0[19200/60000 (32%)]\tLoss：2.284404\t训练正确率：15.00%\t校验正确率：50.00%\n",
      "(tensor(2760), 5000)\n",
      "训练周期：0[25600/60000 (43%)]\tLoss：2.259588\t训练正确率：19.00%\t校验正确率：55.00%\n",
      "(tensor(2853), 5000)\n",
      "训练周期：0[32000/60000 (53%)]\tLoss：2.167889\t训练正确率：23.00%\t校验正确率：57.00%\n",
      "(tensor(3360), 5000)\n",
      "训练周期：0[38400/60000 (64%)]\tLoss：1.674481\t训练正确率：27.00%\t校验正确率：67.00%\n",
      "(tensor(3759), 5000)\n",
      "训练周期：0[44800/60000 (75%)]\tLoss：1.114595\t训练正确率：32.00%\t校验正确率：75.00%\n",
      "(tensor(3980), 5000)\n",
      "训练周期：0[51200/60000 (85%)]\tLoss：0.823886\t训练正确率：37.00%\t校验正确率：79.00%\n",
      "(tensor(4115), 5000)\n",
      "训练周期：0[57600/60000 (96%)]\tLoss：0.554128\t训练正确率：42.00%\t校验正确率：82.00%\n",
      "(tensor(4131), 5000)\n",
      "训练周期：1[0/60000 (0%)]\tLoss：0.674172\t训练正确率：76.00%\t校验正确率：82.00%\n",
      "(tensor(4202), 5000)\n",
      "训练周期：1[6400/60000 (11%)]\tLoss：0.509343\t训练正确率：79.00%\t校验正确率：84.00%\n",
      "(tensor(4260), 5000)\n",
      "训练周期：1[12800/60000 (21%)]\tLoss：0.355980\t训练正确率：80.00%\t校验正确率：85.00%\n",
      "(tensor(4336), 5000)\n",
      "训练周期：1[19200/60000 (32%)]\tLoss：0.514122\t训练正确率：81.00%\t校验正确率：86.00%\n",
      "(tensor(4339), 5000)\n",
      "训练周期：1[25600/60000 (43%)]\tLoss：0.306022\t训练正确率：82.00%\t校验正确率：86.00%\n",
      "(tensor(4407), 5000)\n",
      "训练周期：1[32000/60000 (53%)]\tLoss：0.436061\t训练正确率：83.00%\t校验正确率：88.00%\n",
      "(tensor(4452), 5000)\n",
      "训练周期：1[38400/60000 (64%)]\tLoss：0.377328\t训练正确率：83.00%\t校验正确率：89.00%\n",
      "(tensor(4501), 5000)\n",
      "训练周期：1[44800/60000 (75%)]\tLoss：0.485889\t训练正确率：84.00%\t校验正确率：90.00%\n",
      "(tensor(4503), 5000)\n",
      "训练周期：1[51200/60000 (85%)]\tLoss：0.448668\t训练正确率：84.00%\t校验正确率：90.00%\n",
      "(tensor(4516), 5000)\n",
      "训练周期：1[57600/60000 (96%)]\tLoss：0.215552\t训练正确率：85.00%\t校验正确率：90.00%\n",
      "(tensor(4528), 5000)\n",
      "训练周期：2[0/60000 (0%)]\tLoss：0.260246\t训练正确率：93.00%\t校验正确率：90.00%\n",
      "(tensor(4568), 5000)\n",
      "训练周期：2[6400/60000 (11%)]\tLoss：0.266035\t训练正确率：89.00%\t校验正确率：91.00%\n",
      "(tensor(4562), 5000)\n",
      "训练周期：2[12800/60000 (21%)]\tLoss：0.207151\t训练正确率：90.00%\t校验正确率：91.00%\n",
      "(tensor(4567), 5000)\n",
      "训练周期：2[19200/60000 (32%)]\tLoss：0.582892\t训练正确率：90.00%\t校验正确率：91.00%\n",
      "(tensor(4584), 5000)\n",
      "训练周期：2[25600/60000 (43%)]\tLoss：0.158115\t训练正确率：90.00%\t校验正确率：91.00%\n",
      "(tensor(4620), 5000)\n",
      "训练周期：2[32000/60000 (53%)]\tLoss：0.235069\t训练正确率：90.00%\t校验正确率：92.00%\n",
      "(tensor(4624), 5000)\n",
      "训练周期：2[38400/60000 (64%)]\tLoss：0.340602\t训练正确率：90.00%\t校验正确率：92.00%\n",
      "(tensor(4649), 5000)\n",
      "训练周期：2[44800/60000 (75%)]\tLoss：0.176378\t训练正确率：91.00%\t校验正确率：92.00%\n",
      "(tensor(4661), 5000)\n",
      "训练周期：2[51200/60000 (85%)]\tLoss：0.244040\t训练正确率：91.00%\t校验正确率：93.00%\n",
      "(tensor(4652), 5000)\n",
      "训练周期：2[57600/60000 (96%)]\tLoss：0.180022\t训练正确率：91.00%\t校验正确率：93.00%\n",
      "(tensor(4669), 5000)\n",
      "训练周期：3[0/60000 (0%)]\tLoss：0.247974\t训练正确率：87.00%\t校验正确率：93.00%\n",
      "(tensor(4685), 5000)\n",
      "训练周期：3[6400/60000 (11%)]\tLoss：0.106122\t训练正确率：92.00%\t校验正确率：93.00%\n",
      "(tensor(4698), 5000)\n",
      "训练周期：3[12800/60000 (21%)]\tLoss：0.281457\t训练正确率：92.00%\t校验正确率：93.00%\n",
      "(tensor(4691), 5000)\n",
      "训练周期：3[19200/60000 (32%)]\tLoss：0.125252\t训练正确率：92.00%\t校验正确率：93.00%\n",
      "(tensor(4703), 5000)\n",
      "训练周期：3[25600/60000 (43%)]\tLoss：0.094339\t训练正确率：92.00%\t校验正确率：94.00%\n",
      "(tensor(4707), 5000)\n",
      "训练周期：3[32000/60000 (53%)]\tLoss：0.162224\t训练正确率：92.00%\t校验正确率：94.00%\n",
      "(tensor(4697), 5000)\n",
      "训练周期：3[38400/60000 (64%)]\tLoss：0.183950\t训练正确率：93.00%\t校验正确率：93.00%\n",
      "(tensor(4726), 5000)\n",
      "训练周期：3[44800/60000 (75%)]\tLoss：0.111412\t训练正确率：93.00%\t校验正确率：94.00%\n",
      "(tensor(4723), 5000)\n",
      "训练周期：3[51200/60000 (85%)]\tLoss：0.103238\t训练正确率：93.00%\t校验正确率：94.00%\n",
      "(tensor(4707), 5000)\n",
      "训练周期：3[57600/60000 (96%)]\tLoss：0.142901\t训练正确率：93.00%\t校验正确率：94.00%\n",
      "(tensor(4740), 5000)\n",
      "训练周期：4[0/60000 (0%)]\tLoss：0.364402\t训练正确率：85.00%\t校验正确率：94.00%\n",
      "(tensor(4722), 5000)\n",
      "训练周期：4[6400/60000 (11%)]\tLoss：0.130112\t训练正确率：94.00%\t校验正确率：94.00%\n",
      "(tensor(4733), 5000)\n",
      "训练周期：4[12800/60000 (21%)]\tLoss：0.156573\t训练正确率：94.00%\t校验正确率：94.00%\n",
      "(tensor(4738), 5000)\n",
      "训练周期：4[19200/60000 (32%)]\tLoss：0.116740\t训练正确率：94.00%\t校验正确率：94.00%\n",
      "(tensor(4733), 5000)\n",
      "训练周期：4[25600/60000 (43%)]\tLoss：0.137616\t训练正确率：94.00%\t校验正确率：94.00%\n",
      "(tensor(4753), 5000)\n",
      "训练周期：4[32000/60000 (53%)]\tLoss：0.067684\t训练正确率：94.00%\t校验正确率：95.00%\n",
      "(tensor(4734), 5000)\n",
      "训练周期：4[38400/60000 (64%)]\tLoss：0.112835\t训练正确率：94.00%\t校验正确率：94.00%\n",
      "(tensor(4764), 5000)\n",
      "训练周期：4[44800/60000 (75%)]\tLoss：0.104542\t训练正确率：94.00%\t校验正确率：95.00%\n",
      "(tensor(4745), 5000)\n",
      "训练周期：4[51200/60000 (85%)]\tLoss：0.090707\t训练正确率：94.00%\t校验正确率：94.00%\n",
      "(tensor(4766), 5000)\n",
      "训练周期：4[57600/60000 (96%)]\tLoss：0.190297\t训练正确率：94.00%\t校验正确率：95.00%\n",
      "(tensor(4772), 5000)\n",
      "训练周期：5[0/60000 (0%)]\tLoss：0.106621\t训练正确率：96.00%\t校验正确率：95.00%\n",
      "(tensor(4768), 5000)\n",
      "训练周期：5[6400/60000 (11%)]\tLoss：0.159939\t训练正确率：95.00%\t校验正确率：95.00%\n",
      "(tensor(4782), 5000)\n",
      "训练周期：5[12800/60000 (21%)]\tLoss：0.115894\t训练正确率：95.00%\t校验正确率：95.00%\n",
      "(tensor(4776), 5000)\n",
      "训练周期：5[19200/60000 (32%)]\tLoss：0.070417\t训练正确率：95.00%\t校验正确率：95.00%\n",
      "(tensor(4778), 5000)\n",
      "训练周期：5[25600/60000 (43%)]\tLoss：0.094782\t训练正确率：95.00%\t校验正确率：95.00%\n",
      "(tensor(4813), 5000)\n",
      "训练周期：5[32000/60000 (53%)]\tLoss：0.091651\t训练正确率：95.00%\t校验正确率：96.00%\n",
      "(tensor(4777), 5000)\n",
      "训练周期：5[38400/60000 (64%)]\tLoss：0.075083\t训练正确率：95.00%\t校验正确率：95.00%\n",
      "(tensor(4793), 5000)\n",
      "训练周期：5[44800/60000 (75%)]\tLoss：0.057647\t训练正确率：95.00%\t校验正确率：95.00%\n",
      "(tensor(4799), 5000)\n",
      "训练周期：5[51200/60000 (85%)]\tLoss：0.103661\t训练正确率：95.00%\t校验正确率：95.00%\n",
      "(tensor(4797), 5000)\n",
      "训练周期：5[57600/60000 (96%)]\tLoss：0.135627\t训练正确率：95.00%\t校验正确率：95.00%\n",
      "(tensor(4800), 5000)\n",
      "训练周期：6[0/60000 (0%)]\tLoss：0.096483\t训练正确率：95.00%\t校验正确率：96.00%\n",
      "(tensor(4786), 5000)\n",
      "训练周期：6[6400/60000 (11%)]\tLoss：0.152427\t训练正确率：95.00%\t校验正确率：95.00%\n",
      "(tensor(4805), 5000)\n",
      "训练周期：6[12800/60000 (21%)]\tLoss：0.062172\t训练正确率：95.00%\t校验正确率：96.00%\n",
      "(tensor(4813), 5000)\n",
      "训练周期：6[19200/60000 (32%)]\tLoss：0.075885\t训练正确率：95.00%\t校验正确率：96.00%\n",
      "(tensor(4805), 5000)\n",
      "训练周期：6[25600/60000 (43%)]\tLoss：0.171229\t训练正确率：95.00%\t校验正确率：96.00%\n",
      "(tensor(4803), 5000)\n",
      "训练周期：6[32000/60000 (53%)]\tLoss：0.084441\t训练正确率：95.00%\t校验正确率：96.00%\n",
      "(tensor(4804), 5000)\n",
      "训练周期：6[38400/60000 (64%)]\tLoss：0.070226\t训练正确率：95.00%\t校验正确率：96.00%\n",
      "(tensor(4822), 5000)\n",
      "训练周期：6[44800/60000 (75%)]\tLoss：0.145994\t训练正确率：95.00%\t校验正确率：96.00%\n",
      "(tensor(4814), 5000)\n",
      "训练周期：6[51200/60000 (85%)]\tLoss：0.076827\t训练正确率：95.00%\t校验正确率：96.00%\n",
      "(tensor(4816), 5000)\n",
      "训练周期：6[57600/60000 (96%)]\tLoss：0.242355\t训练正确率：95.00%\t校验正确率：96.00%\n",
      "(tensor(4824), 5000)\n",
      "训练周期：7[0/60000 (0%)]\tLoss：0.244042\t训练正确率：93.00%\t校验正确率：96.00%\n",
      "(tensor(4820), 5000)\n",
      "训练周期：7[6400/60000 (11%)]\tLoss：0.170126\t训练正确率：96.00%\t校验正确率：96.00%\n",
      "(tensor(4803), 5000)\n",
      "训练周期：7[12800/60000 (21%)]\tLoss：0.058208\t训练正确率：96.00%\t校验正确率：96.00%\n",
      "(tensor(4817), 5000)\n",
      "训练周期：7[19200/60000 (32%)]\tLoss：0.068270\t训练正确率：96.00%\t校验正确率：96.00%\n",
      "(tensor(4814), 5000)\n",
      "训练周期：7[25600/60000 (43%)]\tLoss：0.211821\t训练正确率：96.00%\t校验正确率：96.00%\n",
      "(tensor(4817), 5000)\n",
      "训练周期：7[32000/60000 (53%)]\tLoss：0.077665\t训练正确率：96.00%\t校验正确率：96.00%\n",
      "(tensor(4818), 5000)\n",
      "训练周期：7[38400/60000 (64%)]\tLoss：0.082036\t训练正确率：96.00%\t校验正确率：96.00%\n",
      "(tensor(4821), 5000)\n",
      "训练周期：7[44800/60000 (75%)]\tLoss：0.077890\t训练正确率：96.00%\t校验正确率：96.00%\n",
      "(tensor(4843), 5000)\n",
      "训练周期：7[51200/60000 (85%)]\tLoss：0.134214\t训练正确率：96.00%\t校验正确率：96.00%\n",
      "(tensor(4802), 5000)\n",
      "训练周期：7[57600/60000 (96%)]\tLoss：0.304035\t训练正确率：96.00%\t校验正确率：96.00%\n",
      "(tensor(4828), 5000)\n",
      "训练周期：8[0/60000 (0%)]\tLoss：0.098674\t训练正确率：96.00%\t校验正确率：96.00%\n",
      "(tensor(4824), 5000)\n",
      "训练周期：8[6400/60000 (11%)]\tLoss：0.130641\t训练正确率：96.00%\t校验正确率：96.00%\n",
      "(tensor(4839), 5000)\n",
      "训练周期：8[12800/60000 (21%)]\tLoss：0.105831\t训练正确率：96.00%\t校验正确率：96.00%\n",
      "(tensor(4828), 5000)\n",
      "训练周期：8[19200/60000 (32%)]\tLoss：0.098358\t训练正确率：96.00%\t校验正确率：96.00%\n",
      "(tensor(4842), 5000)\n",
      "训练周期：8[25600/60000 (43%)]\tLoss：0.256762\t训练正确率：96.00%\t校验正确率：96.00%\n",
      "(tensor(4841), 5000)\n",
      "训练周期：8[32000/60000 (53%)]\tLoss：0.117110\t训练正确率：96.00%\t校验正确率：96.00%\n",
      "(tensor(4831), 5000)\n",
      "训练周期：8[38400/60000 (64%)]\tLoss：0.133753\t训练正确率：96.00%\t校验正确率：96.00%\n",
      "(tensor(4831), 5000)\n",
      "训练周期：8[44800/60000 (75%)]\tLoss：0.164362\t训练正确率：96.00%\t校验正确率：96.00%\n",
      "(tensor(4829), 5000)\n",
      "训练周期：8[51200/60000 (85%)]\tLoss：0.172929\t训练正确率：96.00%\t校验正确率：96.00%\n",
      "(tensor(4838), 5000)\n",
      "训练周期：8[57600/60000 (96%)]\tLoss：0.090471\t训练正确率：96.00%\t校验正确率：96.00%\n",
      "(tensor(4830), 5000)\n",
      "训练周期：9[0/60000 (0%)]\tLoss：0.187177\t训练正确率：92.00%\t校验正确率：96.00%\n",
      "(tensor(4847), 5000)\n",
      "训练周期：9[6400/60000 (11%)]\tLoss：0.022755\t训练正确率：96.00%\t校验正确率：96.00%\n",
      "(tensor(4845), 5000)\n",
      "训练周期：9[12800/60000 (21%)]\tLoss：0.076300\t训练正确率：96.00%\t校验正确率：96.00%\n",
      "(tensor(4837), 5000)\n",
      "训练周期：9[19200/60000 (32%)]\tLoss：0.066077\t训练正确率：96.00%\t校验正确率：96.00%\n",
      "(tensor(4841), 5000)\n",
      "训练周期：9[25600/60000 (43%)]\tLoss：0.146702\t训练正确率：96.00%\t校验正确率：96.00%\n"
     ]
    },
    {
     "name": "stdout",
     "output_type": "stream",
     "text": [
      "(tensor(4853), 5000)\n",
      "训练周期：9[32000/60000 (53%)]\tLoss：0.091865\t训练正确率：96.00%\t校验正确率：97.00%\n",
      "(tensor(4842), 5000)\n",
      "训练周期：9[38400/60000 (64%)]\tLoss：0.114647\t训练正确率：96.00%\t校验正确率：96.00%\n",
      "(tensor(4841), 5000)\n",
      "训练周期：9[44800/60000 (75%)]\tLoss：0.052002\t训练正确率：96.00%\t校验正确率：96.00%\n",
      "(tensor(4843), 5000)\n",
      "训练周期：9[51200/60000 (85%)]\tLoss：0.077453\t训练正确率：96.00%\t校验正确率：96.00%\n",
      "(tensor(4859), 5000)\n",
      "训练周期：9[57600/60000 (96%)]\tLoss：0.176573\t训练正确率：96.00%\t校验正确率：97.00%\n",
      "(tensor(4839), 5000)\n",
      "训练周期：10[0/60000 (0%)]\tLoss：0.164394\t训练正确率：93.00%\t校验正确率：96.00%\n",
      "(tensor(4844), 5000)\n",
      "训练周期：10[6400/60000 (11%)]\tLoss：0.016773\t训练正确率：96.00%\t校验正确率：96.00%\n",
      "(tensor(4855), 5000)\n",
      "训练周期：10[12800/60000 (21%)]\tLoss：0.055440\t训练正确率：96.00%\t校验正确率：97.00%\n",
      "(tensor(4844), 5000)\n",
      "训练周期：10[19200/60000 (32%)]\tLoss：0.160287\t训练正确率：96.00%\t校验正确率：96.00%\n",
      "(tensor(4843), 5000)\n",
      "训练周期：10[25600/60000 (43%)]\tLoss：0.111513\t训练正确率：96.00%\t校验正确率：96.00%\n",
      "(tensor(4854), 5000)\n",
      "训练周期：10[32000/60000 (53%)]\tLoss：0.084248\t训练正确率：96.00%\t校验正确率：97.00%\n",
      "(tensor(4850), 5000)\n",
      "训练周期：10[38400/60000 (64%)]\tLoss：0.074670\t训练正确率：96.00%\t校验正确率：97.00%\n",
      "(tensor(4852), 5000)\n",
      "训练周期：10[44800/60000 (75%)]\tLoss：0.260605\t训练正确率：96.00%\t校验正确率：97.00%\n",
      "(tensor(4843), 5000)\n",
      "训练周期：10[51200/60000 (85%)]\tLoss：0.103639\t训练正确率：96.00%\t校验正确率：96.00%\n",
      "(tensor(4844), 5000)\n",
      "训练周期：10[57600/60000 (96%)]\tLoss：0.031093\t训练正确率：96.00%\t校验正确率：96.00%\n",
      "(tensor(4848), 5000)\n",
      "训练周期：11[0/60000 (0%)]\tLoss：0.053958\t训练正确率：96.00%\t校验正确率：96.00%\n",
      "(tensor(4847), 5000)\n",
      "训练周期：11[6400/60000 (11%)]\tLoss：0.089464\t训练正确率：97.00%\t校验正确率：96.00%\n",
      "(tensor(4860), 5000)\n",
      "训练周期：11[12800/60000 (21%)]\tLoss：0.097977\t训练正确率：97.00%\t校验正确率：97.00%\n",
      "(tensor(4841), 5000)\n",
      "训练周期：11[19200/60000 (32%)]\tLoss：0.065630\t训练正确率：97.00%\t校验正确率：96.00%\n",
      "(tensor(4866), 5000)\n",
      "训练周期：11[25600/60000 (43%)]\tLoss：0.067357\t训练正确率：97.00%\t校验正确率：97.00%\n",
      "(tensor(4857), 5000)\n",
      "训练周期：11[32000/60000 (53%)]\tLoss：0.082139\t训练正确率：97.00%\t校验正确率：97.00%\n",
      "(tensor(4856), 5000)\n",
      "训练周期：11[38400/60000 (64%)]\tLoss：0.091815\t训练正确率：97.00%\t校验正确率：97.00%\n",
      "(tensor(4855), 5000)\n",
      "训练周期：11[44800/60000 (75%)]\tLoss：0.075218\t训练正确率：97.00%\t校验正确率：97.00%\n",
      "(tensor(4855), 5000)\n",
      "训练周期：11[51200/60000 (85%)]\tLoss：0.026093\t训练正确率：97.00%\t校验正确率：97.00%\n",
      "(tensor(4835), 5000)\n",
      "训练周期：11[57600/60000 (96%)]\tLoss：0.102585\t训练正确率：97.00%\t校验正确率：96.00%\n",
      "(tensor(4857), 5000)\n",
      "训练周期：12[0/60000 (0%)]\tLoss：0.051009\t训练正确率：98.00%\t校验正确率：97.00%\n",
      "(tensor(4854), 5000)\n",
      "训练周期：12[6400/60000 (11%)]\tLoss：0.074535\t训练正确率：97.00%\t校验正确率：97.00%\n",
      "(tensor(4860), 5000)\n",
      "训练周期：12[12800/60000 (21%)]\tLoss：0.031379\t训练正确率：97.00%\t校验正确率：97.00%\n",
      "(tensor(4869), 5000)\n",
      "训练周期：12[19200/60000 (32%)]\tLoss：0.026154\t训练正确率：97.00%\t校验正确率：97.00%\n",
      "(tensor(4854), 5000)\n",
      "训练周期：12[25600/60000 (43%)]\tLoss：0.079880\t训练正确率：97.00%\t校验正确率：97.00%\n",
      "(tensor(4858), 5000)\n",
      "训练周期：12[32000/60000 (53%)]\tLoss：0.055693\t训练正确率：97.00%\t校验正确率：97.00%\n",
      "(tensor(4870), 5000)\n",
      "训练周期：12[38400/60000 (64%)]\tLoss：0.051375\t训练正确率：97.00%\t校验正确率：97.00%\n",
      "(tensor(4854), 5000)\n",
      "训练周期：12[44800/60000 (75%)]\tLoss：0.101076\t训练正确率：97.00%\t校验正确率：97.00%\n",
      "(tensor(4862), 5000)\n",
      "训练周期：12[51200/60000 (85%)]\tLoss：0.085751\t训练正确率：97.00%\t校验正确率：97.00%\n",
      "(tensor(4855), 5000)\n",
      "训练周期：12[57600/60000 (96%)]\tLoss：0.051851\t训练正确率：97.00%\t校验正确率：97.00%\n",
      "(tensor(4852), 5000)\n",
      "训练周期：13[0/60000 (0%)]\tLoss：0.099839\t训练正确率：96.00%\t校验正确率：97.00%\n",
      "(tensor(4859), 5000)\n",
      "训练周期：13[6400/60000 (11%)]\tLoss：0.026968\t训练正确率：97.00%\t校验正确率：97.00%\n",
      "(tensor(4871), 5000)\n",
      "训练周期：13[12800/60000 (21%)]\tLoss：0.067919\t训练正确率：97.00%\t校验正确率：97.00%\n",
      "(tensor(4845), 5000)\n",
      "训练周期：13[19200/60000 (32%)]\tLoss：0.042331\t训练正确率：97.00%\t校验正确率：96.00%\n",
      "(tensor(4875), 5000)\n",
      "训练周期：13[25600/60000 (43%)]\tLoss：0.102556\t训练正确率：97.00%\t校验正确率：97.00%\n",
      "(tensor(4862), 5000)\n",
      "训练周期：13[32000/60000 (53%)]\tLoss：0.065314\t训练正确率：97.00%\t校验正确率：97.00%\n",
      "(tensor(4873), 5000)\n",
      "训练周期：13[38400/60000 (64%)]\tLoss：0.128307\t训练正确率：97.00%\t校验正确率：97.00%\n",
      "(tensor(4866), 5000)\n",
      "训练周期：13[44800/60000 (75%)]\tLoss：0.062517\t训练正确率：97.00%\t校验正确率：97.00%\n",
      "(tensor(4868), 5000)\n",
      "训练周期：13[51200/60000 (85%)]\tLoss：0.045702\t训练正确率：97.00%\t校验正确率：97.00%\n",
      "(tensor(4868), 5000)\n",
      "训练周期：13[57600/60000 (96%)]\tLoss：0.017055\t训练正确率：97.00%\t校验正确率：97.00%\n",
      "(tensor(4874), 5000)\n",
      "训练周期：14[0/60000 (0%)]\tLoss：0.069069\t训练正确率：98.00%\t校验正确率：97.00%\n",
      "(tensor(4858), 5000)\n",
      "训练周期：14[6400/60000 (11%)]\tLoss：0.094738\t训练正确率：97.00%\t校验正确率：97.00%\n",
      "(tensor(4869), 5000)\n",
      "训练周期：14[12800/60000 (21%)]\tLoss：0.129304\t训练正确率：97.00%\t校验正确率：97.00%\n",
      "(tensor(4878), 5000)\n",
      "训练周期：14[19200/60000 (32%)]\tLoss：0.014985\t训练正确率：97.00%\t校验正确率：97.00%\n",
      "(tensor(4858), 5000)\n",
      "训练周期：14[25600/60000 (43%)]\tLoss：0.030010\t训练正确率：97.00%\t校验正确率：97.00%\n",
      "(tensor(4869), 5000)\n",
      "训练周期：14[32000/60000 (53%)]\tLoss：0.088351\t训练正确率：97.00%\t校验正确率：97.00%\n",
      "(tensor(4869), 5000)\n",
      "训练周期：14[38400/60000 (64%)]\tLoss：0.179688\t训练正确率：97.00%\t校验正确率：97.00%\n",
      "(tensor(4871), 5000)\n",
      "训练周期：14[44800/60000 (75%)]\tLoss：0.213700\t训练正确率：97.00%\t校验正确率：97.00%\n",
      "(tensor(4866), 5000)\n",
      "训练周期：14[51200/60000 (85%)]\tLoss：0.123767\t训练正确率：97.00%\t校验正确率：97.00%\n",
      "(tensor(4877), 5000)\n",
      "训练周期：14[57600/60000 (96%)]\tLoss：0.032053\t训练正确率：97.00%\t校验正确率：97.00%\n",
      "(tensor(4868), 5000)\n",
      "训练周期：15[0/60000 (0%)]\tLoss：0.087444\t训练正确率：96.00%\t校验正确率：97.00%\n",
      "(tensor(4872), 5000)\n",
      "训练周期：15[6400/60000 (11%)]\tLoss：0.013601\t训练正确率：97.00%\t校验正确率：97.00%\n",
      "(tensor(4872), 5000)\n",
      "训练周期：15[12800/60000 (21%)]\tLoss：0.046226\t训练正确率：97.00%\t校验正确率：97.00%\n",
      "(tensor(4868), 5000)\n",
      "训练周期：15[19200/60000 (32%)]\tLoss：0.029059\t训练正确率：97.00%\t校验正确率：97.00%\n",
      "(tensor(4879), 5000)\n",
      "训练周期：15[25600/60000 (43%)]\tLoss：0.108389\t训练正确率：97.00%\t校验正确率：97.00%\n",
      "(tensor(4872), 5000)\n",
      "训练周期：15[32000/60000 (53%)]\tLoss：0.039106\t训练正确率：97.00%\t校验正确率：97.00%\n",
      "(tensor(4865), 5000)\n",
      "训练周期：15[38400/60000 (64%)]\tLoss：0.092442\t训练正确率：97.00%\t校验正确率：97.00%\n",
      "(tensor(4856), 5000)\n",
      "训练周期：15[44800/60000 (75%)]\tLoss：0.056012\t训练正确率：97.00%\t校验正确率：97.00%\n",
      "(tensor(4867), 5000)\n",
      "训练周期：15[51200/60000 (85%)]\tLoss：0.029953\t训练正确率：97.00%\t校验正确率：97.00%\n",
      "(tensor(4870), 5000)\n",
      "训练周期：15[57600/60000 (96%)]\tLoss：0.072166\t训练正确率：97.00%\t校验正确率：97.00%\n",
      "(tensor(4859), 5000)\n",
      "训练周期：16[0/60000 (0%)]\tLoss：0.144079\t训练正确率：95.00%\t校验正确率：97.00%\n",
      "(tensor(4881), 5000)\n",
      "训练周期：16[6400/60000 (11%)]\tLoss：0.126368\t训练正确率：97.00%\t校验正确率：97.00%\n",
      "(tensor(4868), 5000)\n",
      "训练周期：16[12800/60000 (21%)]\tLoss：0.084580\t训练正确率：97.00%\t校验正确率：97.00%\n",
      "(tensor(4874), 5000)\n",
      "训练周期：16[19200/60000 (32%)]\tLoss：0.048918\t训练正确率：97.00%\t校验正确率：97.00%\n",
      "(tensor(4868), 5000)\n",
      "训练周期：16[25600/60000 (43%)]\tLoss：0.087345\t训练正确率：97.00%\t校验正确率：97.00%\n",
      "(tensor(4874), 5000)\n",
      "训练周期：16[32000/60000 (53%)]\tLoss：0.094309\t训练正确率：97.00%\t校验正确率：97.00%\n",
      "(tensor(4875), 5000)\n",
      "训练周期：16[38400/60000 (64%)]\tLoss：0.027666\t训练正确率：97.00%\t校验正确率：97.00%\n",
      "(tensor(4878), 5000)\n",
      "训练周期：16[44800/60000 (75%)]\tLoss：0.066267\t训练正确率：97.00%\t校验正确率：97.00%\n",
      "(tensor(4882), 5000)\n",
      "训练周期：16[51200/60000 (85%)]\tLoss：0.026692\t训练正确率：97.00%\t校验正确率：97.00%\n",
      "(tensor(4891), 5000)\n",
      "训练周期：16[57600/60000 (96%)]\tLoss：0.050496\t训练正确率：97.00%\t校验正确率：97.00%\n",
      "(tensor(4888), 5000)\n",
      "训练周期：17[0/60000 (0%)]\tLoss：0.120974\t训练正确率：95.00%\t校验正确率：97.00%\n",
      "(tensor(4886), 5000)\n",
      "训练周期：17[6400/60000 (11%)]\tLoss：0.074980\t训练正确率：98.00%\t校验正确率：97.00%\n",
      "(tensor(4879), 5000)\n",
      "训练周期：17[12800/60000 (21%)]\tLoss：0.046483\t训练正确率：97.00%\t校验正确率：97.00%\n",
      "(tensor(4868), 5000)\n",
      "训练周期：17[19200/60000 (32%)]\tLoss：0.053451\t训练正确率：97.00%\t校验正确率：97.00%\n",
      "(tensor(4882), 5000)\n",
      "训练周期：17[25600/60000 (43%)]\tLoss：0.012359\t训练正确率：97.00%\t校验正确率：97.00%\n",
      "(tensor(4883), 5000)\n",
      "训练周期：17[32000/60000 (53%)]\tLoss：0.053673\t训练正确率：97.00%\t校验正确率：97.00%\n",
      "(tensor(4885), 5000)\n",
      "训练周期：17[38400/60000 (64%)]\tLoss：0.029274\t训练正确率：97.00%\t校验正确率：97.00%\n",
      "(tensor(4882), 5000)\n",
      "训练周期：17[44800/60000 (75%)]\tLoss：0.010537\t训练正确率：97.00%\t校验正确率：97.00%\n",
      "(tensor(4882), 5000)\n",
      "训练周期：17[51200/60000 (85%)]\tLoss：0.053828\t训练正确率：97.00%\t校验正确率：97.00%\n",
      "(tensor(4881), 5000)\n",
      "训练周期：17[57600/60000 (96%)]\tLoss：0.119906\t训练正确率：97.00%\t校验正确率：97.00%\n",
      "(tensor(4872), 5000)\n",
      "训练周期：18[0/60000 (0%)]\tLoss：0.069809\t训练正确率：98.00%\t校验正确率：97.00%\n",
      "(tensor(4886), 5000)\n",
      "训练周期：18[6400/60000 (11%)]\tLoss：0.047757\t训练正确率：97.00%\t校验正确率：97.00%\n",
      "(tensor(4886), 5000)\n",
      "训练周期：18[12800/60000 (21%)]\tLoss：0.344530\t训练正确率：97.00%\t校验正确率：97.00%\n",
      "(tensor(4886), 5000)\n",
      "训练周期：18[19200/60000 (32%)]\tLoss：0.015998\t训练正确率：97.00%\t校验正确率：97.00%\n",
      "(tensor(4890), 5000)\n",
      "训练周期：18[25600/60000 (43%)]\tLoss：0.036623\t训练正确率：97.00%\t校验正确率：97.00%\n",
      "(tensor(4889), 5000)\n",
      "训练周期：18[32000/60000 (53%)]\tLoss：0.071486\t训练正确率：97.00%\t校验正确率：97.00%\n",
      "(tensor(4885), 5000)\n",
      "训练周期：18[38400/60000 (64%)]\tLoss：0.061570\t训练正确率：97.00%\t校验正确率：97.00%\n",
      "(tensor(4881), 5000)\n",
      "训练周期：18[44800/60000 (75%)]\tLoss：0.272034\t训练正确率：97.00%\t校验正确率：97.00%\n",
      "(tensor(4893), 5000)\n",
      "训练周期：18[51200/60000 (85%)]\tLoss：0.081447\t训练正确率：97.00%\t校验正确率：97.00%\n"
     ]
    },
    {
     "name": "stdout",
     "output_type": "stream",
     "text": [
      "(tensor(4887), 5000)\n",
      "训练周期：18[57600/60000 (96%)]\tLoss：0.079732\t训练正确率：97.00%\t校验正确率：97.00%\n",
      "(tensor(4887), 5000)\n",
      "训练周期：19[0/60000 (0%)]\tLoss：0.046076\t训练正确率：98.00%\t校验正确率：97.00%\n",
      "(tensor(4894), 5000)\n",
      "训练周期：19[6400/60000 (11%)]\tLoss：0.033255\t训练正确率：98.00%\t校验正确率：97.00%\n",
      "(tensor(4897), 5000)\n",
      "训练周期：19[12800/60000 (21%)]\tLoss：0.098154\t训练正确率：98.00%\t校验正确率：97.00%\n",
      "(tensor(4889), 5000)\n",
      "训练周期：19[19200/60000 (32%)]\tLoss：0.066936\t训练正确率：98.00%\t校验正确率：97.00%\n",
      "(tensor(4891), 5000)\n",
      "训练周期：19[25600/60000 (43%)]\tLoss：0.073761\t训练正确率：97.00%\t校验正确率：97.00%\n",
      "(tensor(4891), 5000)\n",
      "训练周期：19[32000/60000 (53%)]\tLoss：0.034781\t训练正确率：98.00%\t校验正确率：97.00%\n",
      "(tensor(4891), 5000)\n",
      "训练周期：19[38400/60000 (64%)]\tLoss：0.012161\t训练正确率：97.00%\t校验正确率：97.00%\n",
      "(tensor(4872), 5000)\n",
      "训练周期：19[44800/60000 (75%)]\tLoss：0.056150\t训练正确率：97.00%\t校验正确率：97.00%\n",
      "(tensor(4886), 5000)\n",
      "训练周期：19[51200/60000 (85%)]\tLoss：0.017608\t训练正确率：98.00%\t校验正确率：97.00%\n",
      "(tensor(4881), 5000)\n",
      "训练周期：19[57600/60000 (96%)]\tLoss：0.226978\t训练正确率：98.00%\t校验正确率：97.00%\n"
     ]
    }
   ],
   "source": [
    "net = ConvNet() #新建一个卷积神经网络的实例，此时ConvNet的__init__函数就会被自动调用\n",
    "\n",
    "criterion = nn.CrossEntropyLoss()\n",
    "optimizer = optim.SGD(net.parameters(), lr=0.001, momentum=0.9)\n",
    "\n",
    "record = [] #记录准确率等数值的容器\n",
    "weights = [] #每若干步就记录一次卷积核\n",
    "\n",
    "#开始训练循环\n",
    "for epoch in range(num_epochs):\n",
    "    train_rights = []#记录训练数据集准确率的容器\n",
    "    \n",
    "    for batch_idx, (data, target) in enumerate(train_loader):\n",
    "        data, target = data.clone().requires_grad_(True), target.clone().detach()\n",
    "        net.train() # 给网络模型做标记，标志说模型正在训练集上训练，\n",
    "                    #这种区分主要是为了打开关闭net的training标志，从而决定是否运行dropout\n",
    "        \n",
    "        output = net(data)\n",
    "        loss = criterion(output, target)\n",
    "        optimizer.zero_grad()\n",
    "        loss.backward()\n",
    "        optimizer.step()\n",
    "        right = rightness(output, target)\n",
    "        train_rights.append(right)\n",
    "        \n",
    "        if batch_idx % 100 == 0: #每100个batch执行一次打印操作\n",
    "            net.eval()\n",
    "            val_rights = []\n",
    "            \n",
    "            '''开始在校验数据集上做循环，计算校验集上面的准确度'''\n",
    "            for (data, target) in validation_loader:\n",
    "                data, target = data.clone().requires_grad_(True), target.clone().detach()\n",
    "                output = net(data)\n",
    "                right = rightness(output, target)\n",
    "                val_rights.append(right)\n",
    "                \n",
    "            # 分别计算在目前已经计算过的测试数据集，以及全部校验集上模型的表现：分类准确率\n",
    "            train_r = (sum([tup[0] for tup in train_rights]), sum([tup[1] for tup in train_rights]))\n",
    "            val_r = (sum([tup[0] for tup in val_rights]), sum([tup[1] for tup in val_rights]))\n",
    "            # 打印准确率等数值，其中正确率为本训练周期Epoch开始后到目前撮的正确率的平均值\n",
    "            print(val_r)\n",
    "            print('训练周期：{}[{}/{} ({:.0f}%)]\\tLoss：{:.6f}\\t训练正确率：{:.2f}%\\t校验正确率：{:.2f}%'.format(\n",
    "                epoch, batch_idx * batch_size, len(train_loader.dataset),\n",
    "                100. * batch_idx / len(train_loader),\n",
    "                loss.data,\n",
    "                100. * train_r[0] / train_r[1],\n",
    "                100. * val_r[0] / val_r[1]))\n",
    "            \n",
    "            #将准确率和权重等数值加载到容器中，以方便后续处理\n",
    "            record.append((100 - 100. * train_r[0] / train_r[1], 100 - 100. *  val_r[0] / val_r[1]))\n",
    "            # weights记录了训练周期中所有卷积核的演化过程。\n",
    "            weights.append([net.conv1.weight.data.clone(), net.conv1.bias.data.clone(),\n",
    "                            net.conv2.weight.data.clone(), net.conv2.bias.data.clone()])"
   ]
  },
  {
   "cell_type": "code",
   "execution_count": 8,
   "metadata": {},
   "outputs": [
    {
     "data": {
      "text/plain": [
       "Text(0, 0.5, 'Error rate')"
      ]
     },
     "execution_count": 8,
     "metadata": {},
     "output_type": "execute_result"
    },
    {
     "data": {
      "image/png": "[encoded data removed]",
      "text/plain": [
       "<Figure size 720x504 with 1 Axes>"
      ]
     },
     "metadata": {},
     "output_type": "display_data"
    }
   ],
   "source": [
    "#绘制训练过程的误差曲线，训练集和校验集上的错误率。\n",
    "plt.figure(figsize = (10, 7))\n",
    "plt.plot(record)\n",
    "plt.xlabel('Steps')\n",
    "plt.ylabel('Error rate')"
   ]
  },
  {
   "cell_type": "markdown",
   "metadata": {},
   "source": [
    "### 2.3 在测试集上进行分类"
   ]
  },
  {
   "cell_type": "code",
   "execution_count": 9,
   "metadata": {},
   "outputs": [
    {
     "name": "stdout",
     "output_type": "stream",
     "text": [
      "99.1\n"
     ]
    }
   ],
   "source": [
    "#在测试集上分批运行，并计算总的正确率\n",
    "net.eval() #标志模型当前为运行阶段\n",
    "vals = [] #记录准确率所用列表\n",
    "\n",
    "for data, target in test_loader:\n",
    "    data, target = data.clone().detach().requires_grad_(True), target.clone().detach()\n",
    "    output = net(data)\n",
    "    val = rightness(output, target)\n",
    "    vals.append(val)\n",
    "\n",
    "#计算准确率\n",
    "rights = (sum([tup[0] for tup in vals]), sum([tup[1] for tup in vals]))\n",
    "right_rate = 100. * rights[0].numpy() / rights[1]\n",
    "print(right_rate)"
   ]
  },
  {
   "cell_type": "markdown",
   "metadata": {},
   "source": [
    "## 三、解剖卷积神经网络\n",
    "我们可以将训练好的卷积神经网络net进行解剖。我们主要关注一下几个问题：\n",
    "1. 第一层卷积核训练得到了什么；\n",
    "2. 第一层卷积核是如何在训练的过程中随着时间的演化而发生变化\n",
    "3. 在输入特定图像的时候，第一层卷积核所对应的4个featuremap是什么样子\n",
    "4. 第二层卷积核都是什么东西？\n",
    "5. 对于给定输入图像，第二层卷积核所对应的那些featuremaps都是什么样？"
   ]
  },
  {
   "cell_type": "markdown",
   "metadata": {},
   "source": [
    "### 3.1 第一层卷积核、演化与特征图\n",
    "#### 第一层卷积核"
   ]
  },
  {
   "cell_type": "code",
   "execution_count": 10,
   "metadata": {},
   "outputs": [
    {
     "name": "stdout",
     "output_type": "stream",
     "text": [
      "(4, 1, 5, 5)\n"
     ]
    },
    {
     "data": {
      "image/png": "[encoded data removed]",
      "text/plain": [
       "<Figure size 720x504 with 4 Axes>"
      ]
     },
     "metadata": {},
     "output_type": "display_data"
    }
   ],
   "source": [
    "#提取第一层卷积层的卷积核\n",
    "plt.figure(figsize = (10, 7))\n",
    "print(net.conv1.weight.data.numpy().shape)\n",
    "for i in range(4):\n",
    "    plt.subplot(1, 4, i+1)\n",
    "    plt.axis('off')\n",
    "    plt.imshow(net.conv1.weight.data.numpy()[i,0,...])"
   ]
  },
  {
   "cell_type": "markdown",
   "metadata": {},
   "source": [
    "#### 滤波器的演化"
   ]
  },
  {
   "cell_type": "code",
   "execution_count": 11,
   "metadata": {},
   "outputs": [
    {
     "data": {
      "image/png": "[encoded data removed]",
      "text/plain": [
       "<Figure size 720x504 with 4 Axes>"
      ]
     },
     "metadata": {},
     "output_type": "display_data"
    },
    {
     "data": {
      "image/png": "[encoded data removed]",
      "text/plain": [
       "<Figure size 720x504 with 4 Axes>"
      ]
     },
     "metadata": {},
     "output_type": "display_data"
    },
    {
     "data": {
      "image/png": "[encoded data removed]",
      "text/plain": [
       "<Figure size 720x504 with 4 Axes>"
      ]
     },
     "metadata": {},
     "output_type": "display_data"
    },
    {
     "data": {
      "image/png": "[encoded data removed]",
      "text/plain": [
       "<Figure size 720x504 with 4 Axes>"
      ]
     },
     "metadata": {},
     "output_type": "display_data"
    },
    {
     "data": {
      "image/png": "[encoded data removed]",
      "text/plain": [
       "<Figure size 720x504 with 4 Axes>"
      ]
     },
     "metadata": {},
     "output_type": "display_data"
    },
    {
     "data": {
      "image/png": "[encoded data removed]",
      "text/plain": [
       "<Figure size 720x504 with 4 Axes>"
      ]
     },
     "metadata": {},
     "output_type": "display_data"
    },
    {
     "data": {
      "image/png": "[encoded data removed]",
      "text/plain": [
       "<Figure size 720x504 with 4 Axes>"
      ]
     },
     "metadata": {},
     "output_type": "display_data"
    },
    {
     "data": {
      "image/png": "[encoded data removed]",
      "text/plain": [
       "<Figure size 720x504 with 4 Axes>"
      ]
     },
     "metadata": {},
     "output_type": "display_data"
    },
    {
     "data": {
      "image/png": "[encoded data removed]",
      "text/plain": [
       "<Figure size 720x504 with 4 Axes>"
      ]
     },
     "metadata": {},
     "output_type": "display_data"
    },
    {
     "data": {
      "image/png": "[encoded data removed]",
      "text/plain": [
       "<Figure size 720x504 with 4 Axes>"
      ]
     },
     "metadata": {},
     "output_type": "display_data"
    },
    {
     "data": {
      "image/png": "[encoded data removed]",
      "text/plain": [
       "<Figure size 720x504 with 4 Axes>"
      ]
     },
     "metadata": {},
     "output_type": "display_data"
    },
    {
     "data": {
      "image/png": "[encoded data removed]",
      "text/plain": [
       "<Figure size 720x504 with 4 Axes>"
      ]
     },
     "metadata": {},
     "output_type": "display_data"
    },
    {
     "data": {
      "image/png": "[encoded data removed]",
      "text/plain": [
       "<Figure size 720x504 with 4 Axes>"
      ]
     },
     "metadata": {},
     "output_type": "display_data"
    },
    {
     "data": {
      "image/png": "[encoded data removed]",
      "text/plain": [
       "<Figure size 720x504 with 4 Axes>"
      ]
     },
     "metadata": {},
     "output_type": "display_data"
    },
    {
     "data": {
      "image/png": "[encoded data removed]",
      "text/plain": [
       "<Figure size 720x504 with 4 Axes>"
      ]
     },
     "metadata": {},
     "output_type": "display_data"
    },
    {
     "data": {
      "image/png": "[encoded data removed]",
      "text/plain": [
       "<Figure size 720x504 with 4 Axes>"
      ]
     },
     "metadata": {},
     "output_type": "display_data"
    },
    {
     "data": {
      "image/png": "[encoded data removed]",
      "text/plain": [
       "<Figure size 720x504 with 4 Axes>"
      ]
     },
     "metadata": {},
     "output_type": "display_data"
    },
    {
     "data": {
      "image/png": "[encoded data removed]",
      "text/plain": [
       "<Figure size 720x504 with 4 Axes>"
      ]
     },
     "metadata": {},
     "output_type": "display_data"
    },
    {
     "data": {
      "image/png": "[encoded data removed]",
      "text/plain": [
       "<Figure size 720x504 with 4 Axes>"
      ]
     },
     "metadata": {},
     "output_type": "display_data"
    },
    {
     "data": {
      "image/png": "[encoded data removed]",
      "text/plain": [
       "<Figure size 720x504 with 4 Axes>"
      ]
     },
     "metadata": {},
     "output_type": "display_data"
    }
   ],
   "source": [
    "# 将记录在容器中的卷积核权重历史演化数据打印出来，每个epoch一次\n",
    "i = 0\n",
    "for tup in weights:\n",
    "    if i % 10 == 0:\n",
    "        layer1 = tup[0] # conv1.weight\n",
    "        fig = plt.figure(figsize = (10, 7))\n",
    "        for j in range(4):\n",
    "            plt.subplot(1, 4, j+1)\n",
    "            plt.axis('off')\n",
    "            plt.imshow(layer1.numpy()[j, 0, ...])\n",
    "    i += 1"
   ]
  },
  {
   "cell_type": "markdown",
   "metadata": {},
   "source": [
    "#### 绘制第一层特征图"
   ]
  },
  {
   "cell_type": "code",
   "execution_count": 12,
   "metadata": {},
   "outputs": [
    {
     "name": "stdout",
     "output_type": "stream",
     "text": [
      "标签是： 9\n"
     ]
    },
    {
     "data": {
      "image/png": "[encoded data removed]",
      "text/plain": [
       "<Figure size 432x288 with 1 Axes>"
      ]
     },
     "metadata": {},
     "output_type": "display_data"
    }
   ],
   "source": [
    "#随便从测试集中读入一张图片，并检验模型的分类结果，并绘制出来\n",
    "idx = 4000\n",
    "muteimg = test_dataset[idx][0].numpy()\n",
    "plt.imshow(muteimg[0,...])\n",
    "print('标签是：',test_dataset[idx][1])"
   ]
  },
  {
   "cell_type": "code",
   "execution_count": 13,
   "metadata": {},
   "outputs": [
    {
     "data": {
      "image/png": "[encoded data removed]",
      "text/plain": [
       "<Figure size 720x504 with 4 Axes>"
      ]
     },
     "metadata": {},
     "output_type": "display_data"
    }
   ],
   "source": [
    "#调用net的retrieve_features方法可以抽取出喂入当前数据后吐出来的所有特征图（第一个卷积和第二个卷积层）\n",
    "\n",
    "#首先定义读入的图片\n",
    "\n",
    "#它是从test_dataset中提取第idx个批次的第0个图，其次unsqueeze的作用是在最前面添加一维，\n",
    "#目的是为了让这个input_x的tensor是四维的，这样才能输入给net。补充的那一维表示batch。\n",
    "input_x = test_dataset[idx][0].unsqueeze(0) \n",
    "feature_maps = net.retrieve_features(input_x) #feature_maps是有两个元素的列表，分别表示第一层和第二层卷积的所有特征图\n",
    "\n",
    "plt.figure(figsize = (10, 7))\n",
    "\n",
    "#有四个特征图，循环把它们打印出来\n",
    "for i in range(4):\n",
    "    plt.subplot(1,4,i + 1)\n",
    "    plt.axis('off')\n",
    "    plt.imshow(feature_maps[0][0, i, ...].data.numpy())"
   ]
  },
  {
   "cell_type": "markdown",
   "metadata": {},
   "source": [
    "### 3.2 绘制第二层卷积核与特征图"
   ]
  },
  {
   "cell_type": "code",
   "execution_count": 14,
   "metadata": {},
   "outputs": [
    {
     "data": {
      "image/png": "[encoded data removed]",
      "text/plain": [
       "<Figure size 1080x720 with 32 Axes>"
      ]
     },
     "metadata": {},
     "output_type": "display_data"
    }
   ],
   "source": [
    "# 绘制第二层的卷积核，每一列对应一个卷积核，一共8个卷积核\n",
    "plt.figure(figsize = (15, 10))\n",
    "for i in range(4):\n",
    "    for j in range(8):\n",
    "        plt.subplot(4, 8, i * 8 + j + 1)\n",
    "        plt.axis('off')\n",
    "        plt.imshow(net.conv2.weight.data.numpy()[j, i,...])"
   ]
  },
  {
   "cell_type": "code",
   "execution_count": 15,
   "metadata": {},
   "outputs": [
    {
     "data": {
      "image/png": "[encoded data removed]",
      "text/plain": [
       "<Figure size 720x504 with 8 Axes>"
      ]
     },
     "metadata": {},
     "output_type": "display_data"
    }
   ],
   "source": [
    "# 绘制第二层的特征图，一共八个\n",
    "plt.figure(figsize = (10, 7))\n",
    "for i in range(8):\n",
    "    plt.subplot(2, 4, i+1)\n",
    "    plt.axis('off')\n",
    "    plt.imshow(feature_maps[1][0, i, ...].data.numpy())"
   ]
  },
  {
   "cell_type": "markdown",
   "metadata": {},
   "source": [
    "### 3.3 卷积神经网络的鲁棒性试验\n",
    "\n",
    "该试验设计如下：我们随机挑选一张测试图像，把它往左平移w个单位，然后：\n",
    "1. 考察分类结果是否变化\n",
    "2. 考察两层卷积对应的featuremap们有何变化### 3.3 卷积神经网络的鲁棒性试验\n",
    "\n",
    "该试验设计如下：我们随机挑选一张测试图像，把它往左平移w个单位，然后：\n",
    "1. 考察分类结果是否变化\n",
    "2. 考察两层卷积对应的featuremap们有何变化"
   ]
  },
  {
   "cell_type": "code",
   "execution_count": 39,
   "metadata": {},
   "outputs": [
    {
     "name": "stdout",
     "output_type": "stream",
     "text": [
      "tensor([9])\n"
     ]
    },
    {
     "data": {
      "image/png": "[encoded data removed]",
      "text/plain": [
       "<Figure size 432x288 with 1 Axes>"
      ]
     },
     "metadata": {},
     "output_type": "display_data"
    },
    {
     "data": {
      "image/png": "[encoded data removed]",
      "text/plain": [
       "<Figure size 720x504 with 4 Axes>"
      ]
     },
     "metadata": {},
     "output_type": "display_data"
    },
    {
     "data": {
      "image/png": "[encoded data removed]",
      "text/plain": [
       "<Figure size 720x504 with 8 Axes>"
      ]
     },
     "metadata": {},
     "output_type": "display_data"
    }
   ],
   "source": [
    "# 提取中test_dataset中的第idx个批次的第0个数据(1是标签)的第0个通道对应的图像，定义为a。\n",
    "a = test_dataset[idx][0][0]\n",
    "\n",
    "# 平移后的新图像将放到b中。根据a给b赋值。\n",
    "b = torch.zeros(a.size()) #全0的28*28的矩阵\n",
    "w = 3 #平移的长度为3个像素\n",
    "\n",
    "# 对于b中的任意像素i,j，它等于a中的i,j+w这个位置的像素\n",
    "for i in range(a.size()[0]):\n",
    "    for j in range(a.size()[1] - w):\n",
    "        b[i][j] = a[i][j + w]\n",
    "        \n",
    "# 将b画出来\n",
    "muteimg = b.numpy()\n",
    "plt.axis('off')\n",
    "plt.imshow(muteimg)\n",
    "\n",
    "# 把b喂给神经网络，得到分类结果pred（prediction是预测的每一个类别的概率的对数值），并把结果打印出\n",
    "prediction = net(b.unsqueeze(0).unsqueeze(0))\n",
    "pred  = torch.max(prediction, 1)[1]\n",
    "print(pred)\n",
    "\n",
    "#提取b对应的featuremap结果\n",
    "feature_maps = net.retrieve_features(b.unsqueeze(0).unsqueeze(0))\n",
    "\n",
    "plt.figure(figsize = (10, 7))\n",
    "for i in range(4):\n",
    "    plt.subplot(1, 4, i+1)\n",
    "    plt.axis('off')\n",
    "    plt.imshow(feature_maps[0][0, i, ...].data.numpy())\n",
    "    \n",
    "plt.figure(figsize = (10, 7))\n",
    "for i in range(8):\n",
    "    plt.subplot(2, 4, i+1)\n",
    "    plt.axis('off')\n",
    "    plt.imshow(feature_maps[1][0, i, ...].data.numpy())"
   ]
  }
 ],
 "metadata": {
  "kernelspec": {
   "display_name": "pytorch",
   "language": "python",
   "name": "pytorch"
  },
  "language_info": {
   "codemirror_mode": {
    "name": "ipython",
    "version": 3
   },
   "file_extension": ".py",
   "mimetype": "text/x-python",
   "name": "python",
   "nbconvert_exporter": "python",
   "pygments_lexer": "ipython3",
   "version": "3.6.2"
  }
 },
 "nbformat": 4,
 "nbformat_minor": 2
}
