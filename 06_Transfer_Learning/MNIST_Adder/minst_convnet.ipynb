{
 "cells": [
  {
   "cell_type": "markdown",
   "metadata": {},
   "source": [
    "# 手写数字识别卷积神经网络\n",
    "\n",
    "本文件是为了配合“迁移学习”内容而编写的文件，它的作用是将训练手写识别卷积神经网络，并将其保存在硬盘上以便迁移学习的时候能够读取该文件\n",
    "本文件是集智AI学园http://campus.swarma.org 出品的“火炬上的深度学习”第IV课的配套源代码"
   ]
  },
  {
   "cell_type": "code",
   "execution_count": 1,
   "metadata": {
    "collapsed": true
   },
   "outputs": [],
   "source": [
    "# 导入所需要的包，请保证torchvision已经在你的环境中安装好\n",
    "import torch\n",
    "import torch.nn as nn\n",
    "from torch.autograd import Variable\n",
    "import torch.optim as optim\n",
    "import torch.nn.functional as F\n",
    "\n",
    "import torchvision.datasets as dsets\n",
    "import torchvision.transforms as transforms\n",
    "\n",
    "import matplotlib.pyplot as plt\n",
    "import numpy as np\n",
    "\n",
    "%matplotlib inline"
   ]
  },
  {
   "cell_type": "code",
   "execution_count": 3,
   "metadata": {},
   "outputs": [
    {
     "name": "stdout",
     "output_type": "stream",
     "text": [
      "Downloading http://yann.lecun.com/exdb/mnist/train-images-idx3-ubyte.gz to ./data\\MNIST\\raw\\train-images-idx3-ubyte.gz\n"
     ]
    },
    {
     "name": "stderr",
     "output_type": "stream",
     "text": [
      "100.1%"
     ]
    },
    {
     "name": "stdout",
     "output_type": "stream",
     "text": [
      "Extracting ./data\\MNIST\\raw\\train-images-idx3-ubyte.gz to ./data\\MNIST\\raw\n",
      "Downloading http://yann.lecun.com/exdb/mnist/train-labels-idx1-ubyte.gz to ./data\\MNIST\\raw\\train-labels-idx1-ubyte.gz\n"
     ]
    },
    {
     "name": "stderr",
     "output_type": "stream",
     "text": [
      "113.5%"
     ]
    },
    {
     "name": "stdout",
     "output_type": "stream",
     "text": [
      "Extracting ./data\\MNIST\\raw\\train-labels-idx1-ubyte.gz to ./data\\MNIST\\raw\n",
      "Downloading http://yann.lecun.com/exdb/mnist/t10k-images-idx3-ubyte.gz to ./data\\MNIST\\raw\\t10k-images-idx3-ubyte.gz\n"
     ]
    },
    {
     "name": "stderr",
     "output_type": "stream",
     "text": [
      "100.4%"
     ]
    },
    {
     "name": "stdout",
     "output_type": "stream",
     "text": [
      "Extracting ./data\\MNIST\\raw\\t10k-images-idx3-ubyte.gz to ./data\\MNIST\\raw\n",
      "Downloading http://yann.lecun.com/exdb/mnist/t10k-labels-idx1-ubyte.gz to ./data\\MNIST\\raw\\t10k-labels-idx1-ubyte.gz\n"
     ]
    },
    {
     "name": "stderr",
     "output_type": "stream",
     "text": [
      "180.4%"
     ]
    },
    {
     "name": "stdout",
     "output_type": "stream",
     "text": [
      "Extracting ./data\\MNIST\\raw\\t10k-labels-idx1-ubyte.gz to ./data\\MNIST\\raw\n",
      "Processing...\n",
      "Done!\n"
     ]
    }
   ],
   "source": [
    "\n",
    "# Hyper Parameters \n",
    "image_size = 28  #图像的总尺寸28*28\n",
    "num_classes = 10  #标签的种类数\n",
    "num_epochs = 20  #训练的总循环周期\n",
    "batch_size = 64\n",
    "learning_rate = 0.001\n",
    "\n",
    "# 加载MINIST数据，如果没有下载过，就会在当前路径下新建/data子目录，并把文件存放其中\n",
    "\n",
    "train_dataset = dsets.MNIST(root='./data',  #文件存放路径\n",
    "                            train=True,   #提取训练集\n",
    "                            transform=transforms.ToTensor(),  #将图像转化为Tensor\n",
    "                            download=True)\n",
    "\n",
    "test_dataset = dsets.MNIST(root='./data', \n",
    "                           train=False, \n",
    "                           transform=transforms.ToTensor())\n",
    "\n",
    "# 训练数据集的加载器，自动将数据分割成batch，顺序随机打乱\n",
    "train_loader = torch.utils.data.DataLoader(dataset=train_dataset, \n",
    "                                           batch_size=batch_size, \n",
    "                                           shuffle=True)\n",
    "# 测试数据集的加载器，自动将数据分割成batch\n",
    "permutes = np.random.permutation(range(len(test_dataset)))\n",
    "indices_val = permutes[:5000]\n",
    "indices_test = permutes[5000:]\n",
    "sampler_val = torch.utils.data.sampler.SubsetRandomSampler(indices_val)\n",
    "sampler_test = torch.utils.data.sampler.SubsetRandomSampler(indices_test)\n",
    "validation_loader = torch.utils.data.DataLoader(dataset =train_dataset,\n",
    "                                                batch_size = batch_size,\n",
    "                                                shuffle = False,\n",
    "                                                sampler = sampler_val\n",
    "                                               )\n",
    "test_loader = torch.utils.data.DataLoader(dataset=test_dataset, \n",
    "                                          batch_size=batch_size, \n",
    "                                          shuffle=False,\n",
    "                                          sampler = sampler_test\n",
    "                                         )"
   ]
  },
  {
   "cell_type": "code",
   "execution_count": 4,
   "metadata": {
    "collapsed": true
   },
   "outputs": [],
   "source": [
    "#定义卷积神经网络：4和8为人为指定的两个卷积层的厚度\n",
    "depth = [4, 8]\n",
    "class ConvNet(nn.Module):\n",
    "    def __init__(self):\n",
    "        super(ConvNet, self).__init__()\n",
    "        self.conv1 = nn.Conv2d(1, 4, 5, padding = 2) #输入通道为1，输出通道为4，窗口大小为5，padding为2\n",
    "        self.pool = nn.MaxPool2d(2, 2) #一个窗口为2*2的pooling运算\n",
    "        self.conv2 = nn.Conv2d(depth[0], depth[1], 5, padding = 2) #第二层卷积，输入通道为depth[0], 输出通道为depth[1]，窗口wei15，padding为2\n",
    "        self.fc1 = nn.Linear(image_size // 4 * image_size // 4 * depth[1] , 512) #一个线性连接层，输入尺寸为最后一层立方体的平铺，输出层512个节点\n",
    "        self.fc2 = nn.Linear(512, num_classes) #最后一层线性分类单元，输入为\n",
    "\n",
    "    def forward(self, x):\n",
    "        #神经网络完成一步前馈运算的过程，从输入到输出\n",
    "        x = F.relu(self.conv1(x))\n",
    "        x = self.pool(x)\n",
    "        x = F.relu(self.conv2(x))\n",
    "        x = self.pool(x)\n",
    "        # 将立体的Tensor全部转换成一维的Tensor。两次pooling操作，所以图像维度减少了1/4\n",
    "        x = x.view(-1, image_size // 4 * image_size // 4 * depth[1])\n",
    "        x = F.relu(self.fc1(x)) #全链接，激活函数\n",
    "        x = F.dropout(x, training=self.training) #以默认为0.5的概率对这一层进行dropout操作\n",
    "        x = self.fc2(x) #全链接，激活函数\n",
    "        x = F.log_softmax(x, dim = 1) #log_softmax可以理解为概率对数值\n",
    "        return x\n",
    "    \n",
    "    def retrieve_features(self, x):\n",
    "        #提取卷积神经网络的特征图的函数，返回feature_map1, feature_map2为前两层卷积层的特征图\n",
    "        feature_map1 = F.relu(self.conv1(x))\n",
    "        x = self.pool(feature_map1)\n",
    "        feature_map2 = F.relu(self.conv2(x))\n",
    "        return (feature_map1, feature_map2)\n",
    "    "
   ]
  },
  {
   "cell_type": "code",
   "execution_count": 5,
   "metadata": {},
   "outputs": [
    {
     "name": "stdout",
     "output_type": "stream",
     "text": [
      "训练周期: 0 [0/60000 (0%)]\tLoss: 2.310695\t训练正确率: 12.50%\t校验正确率: 11.06%\n",
      "训练周期: 0 [800/60000 (11%)]\tLoss: 2.293825\t训练正确率: 13.57%\t校验正确率: 27.92%\n",
      "训练周期: 0 [1600/60000 (21%)]\tLoss: 2.263970\t训练正确率: 17.09%\t校验正确率: 31.66%\n",
      "训练周期: 0 [2400/60000 (32%)]\tLoss: 2.207286\t训练正确率: 19.95%\t校验正确率: 36.80%\n",
      "训练周期: 0 [3200/60000 (43%)]\tLoss: 1.783102\t训练正确率: 25.33%\t校验正确率: 65.08%\n",
      "训练周期: 0 [4000/60000 (53%)]\tLoss: 1.104822\t训练正确率: 32.82%\t校验正确率: 78.40%\n",
      "训练周期: 0 [4800/60000 (64%)]\tLoss: 0.817422\t训练正确率: 39.96%\t校验正确率: 84.12%\n",
      "训练周期: 0 [5600/60000 (75%)]\tLoss: 0.534223\t训练正确率: 45.91%\t校验正确率: 87.72%\n",
      "训练周期: 0 [6400/60000 (85%)]\tLoss: 0.562122\t训练正确率: 50.73%\t校验正确率: 88.82%\n",
      "训练周期: 0 [7200/60000 (96%)]\tLoss: 0.641377\t训练正确率: 54.61%\t校验正确率: 89.64%\n",
      "训练周期: 1 [0/60000 (0%)]\tLoss: 0.380129\t训练正确率: 87.50%\t校验正确率: 90.00%\n",
      "训练周期: 1 [800/60000 (11%)]\tLoss: 0.379836\t训练正确率: 87.10%\t校验正确率: 90.30%\n",
      "训练周期: 1 [1600/60000 (21%)]\tLoss: 0.325265\t训练正确率: 87.77%\t校验正确率: 91.40%\n",
      "训练周期: 1 [2400/60000 (32%)]\tLoss: 0.453496\t训练正确率: 88.30%\t校验正确率: 91.26%\n",
      "训练周期: 1 [3200/60000 (43%)]\tLoss: 0.382892\t训练正确率: 88.59%\t校验正确率: 91.30%\n",
      "训练周期: 1 [4000/60000 (53%)]\tLoss: 0.375090\t训练正确率: 88.88%\t校验正确率: 92.52%\n",
      "训练周期: 1 [4800/60000 (64%)]\tLoss: 0.320430\t训练正确率: 89.16%\t校验正确率: 92.54%\n",
      "训练周期: 1 [5600/60000 (75%)]\tLoss: 0.227632\t训练正确率: 89.46%\t校验正确率: 92.34%\n",
      "训练周期: 1 [6400/60000 (85%)]\tLoss: 0.176045\t训练正确率: 89.73%\t校验正确率: 92.84%\n",
      "训练周期: 1 [7200/60000 (96%)]\tLoss: 0.222001\t训练正确率: 89.89%\t校验正确率: 93.68%\n",
      "训练周期: 2 [0/60000 (0%)]\tLoss: 0.335797\t训练正确率: 93.75%\t校验正确率: 93.78%\n",
      "训练周期: 2 [800/60000 (11%)]\tLoss: 0.298611\t训练正确率: 91.38%\t校验正确率: 93.86%\n",
      "训练周期: 2 [1600/60000 (21%)]\tLoss: 0.162824\t训练正确率: 91.85%\t校验正确率: 93.96%\n",
      "训练周期: 2 [2400/60000 (32%)]\tLoss: 0.181203\t训练正确率: 91.92%\t校验正确率: 93.70%\n",
      "训练周期: 2 [3200/60000 (43%)]\tLoss: 0.224682\t训练正确率: 92.20%\t校验正确率: 94.26%\n",
      "训练周期: 2 [4000/60000 (53%)]\tLoss: 0.258178\t训练正确率: 92.39%\t校验正确率: 94.52%\n",
      "训练周期: 2 [4800/60000 (64%)]\tLoss: 0.192443\t训练正确率: 92.48%\t校验正确率: 94.76%\n",
      "训练周期: 2 [5600/60000 (75%)]\tLoss: 0.151261\t训练正确率: 92.62%\t校验正确率: 94.88%\n",
      "训练周期: 2 [6400/60000 (85%)]\tLoss: 0.237406\t训练正确率: 92.70%\t校验正确率: 94.36%\n",
      "训练周期: 2 [7200/60000 (96%)]\tLoss: 0.140384\t训练正确率: 92.87%\t校验正确率: 95.04%\n",
      "训练周期: 3 [0/60000 (0%)]\tLoss: 0.148180\t训练正确率: 95.31%\t校验正确率: 95.28%\n",
      "训练周期: 3 [800/60000 (11%)]\tLoss: 0.096728\t训练正确率: 93.41%\t校验正确率: 95.18%\n",
      "训练周期: 3 [1600/60000 (21%)]\tLoss: 0.144808\t训练正确率: 93.69%\t校验正确率: 95.54%\n",
      "训练周期: 3 [2400/60000 (32%)]\tLoss: 0.105194\t训练正确率: 93.84%\t校验正确率: 95.18%\n",
      "训练周期: 3 [3200/60000 (43%)]\tLoss: 0.118769\t训练正确率: 93.85%\t校验正确率: 95.70%\n",
      "训练周期: 3 [4000/60000 (53%)]\tLoss: 0.163106\t训练正确率: 93.92%\t校验正确率: 95.40%\n",
      "训练周期: 3 [4800/60000 (64%)]\tLoss: 0.293718\t训练正确率: 93.95%\t校验正确率: 95.50%\n",
      "训练周期: 3 [5600/60000 (75%)]\tLoss: 0.149651\t训练正确率: 94.09%\t校验正确率: 95.88%\n",
      "训练周期: 3 [6400/60000 (85%)]\tLoss: 0.123116\t训练正确率: 94.17%\t校验正确率: 95.82%\n",
      "训练周期: 3 [7200/60000 (96%)]\tLoss: 0.275720\t训练正确率: 94.21%\t校验正确率: 95.96%\n",
      "训练周期: 4 [0/60000 (0%)]\tLoss: 0.106494\t训练正确率: 96.88%\t校验正确率: 95.74%\n",
      "训练周期: 4 [800/60000 (11%)]\tLoss: 0.051335\t训练正确率: 95.44%\t校验正确率: 96.04%\n",
      "训练周期: 4 [1600/60000 (21%)]\tLoss: 0.326608\t训练正确率: 94.99%\t校验正确率: 95.98%\n",
      "训练周期: 4 [2400/60000 (32%)]\tLoss: 0.160472\t训练正确率: 94.90%\t校验正确率: 96.00%\n",
      "训练周期: 4 [3200/60000 (43%)]\tLoss: 0.177291\t训练正确率: 94.88%\t校验正确率: 96.14%\n",
      "训练周期: 4 [4000/60000 (53%)]\tLoss: 0.144788\t训练正确率: 94.96%\t校验正确率: 96.00%\n",
      "训练周期: 4 [4800/60000 (64%)]\tLoss: 0.142092\t训练正确率: 95.00%\t校验正确率: 96.32%\n",
      "训练周期: 4 [5600/60000 (75%)]\tLoss: 0.129132\t训练正确率: 95.08%\t校验正确率: 96.40%\n",
      "训练周期: 4 [6400/60000 (85%)]\tLoss: 0.180097\t训练正确率: 95.11%\t校验正确率: 96.38%\n",
      "训练周期: 4 [7200/60000 (96%)]\tLoss: 0.096298\t训练正确率: 95.20%\t校验正确率: 96.26%\n",
      "训练周期: 5 [0/60000 (0%)]\tLoss: 0.115579\t训练正确率: 95.31%\t校验正确率: 96.18%\n",
      "训练周期: 5 [800/60000 (11%)]\tLoss: 0.253499\t训练正确率: 95.42%\t校验正确率: 96.56%\n",
      "训练周期: 5 [1600/60000 (21%)]\tLoss: 0.180201\t训练正确率: 95.33%\t校验正确率: 96.52%\n",
      "训练周期: 5 [2400/60000 (32%)]\tLoss: 0.051465\t训练正确率: 95.61%\t校验正确率: 96.38%\n",
      "训练周期: 5 [3200/60000 (43%)]\tLoss: 0.118603\t训练正确率: 95.66%\t校验正确率: 96.42%\n",
      "训练周期: 5 [4000/60000 (53%)]\tLoss: 0.113998\t训练正确率: 95.62%\t校验正确率: 96.64%\n",
      "训练周期: 5 [4800/60000 (64%)]\tLoss: 0.100127\t训练正确率: 95.67%\t校验正确率: 96.44%\n",
      "训练周期: 5 [5600/60000 (75%)]\tLoss: 0.071534\t训练正确率: 95.70%\t校验正确率: 96.72%\n",
      "训练周期: 5 [6400/60000 (85%)]\tLoss: 0.235649\t训练正确率: 95.68%\t校验正确率: 96.60%\n",
      "训练周期: 5 [7200/60000 (96%)]\tLoss: 0.156777\t训练正确率: 95.67%\t校验正确率: 96.86%\n",
      "训练周期: 6 [0/60000 (0%)]\tLoss: 0.087622\t训练正确率: 96.88%\t校验正确率: 96.84%\n",
      "训练周期: 6 [800/60000 (11%)]\tLoss: 0.166938\t训练正确率: 96.04%\t校验正确率: 96.66%\n",
      "训练周期: 6 [1600/60000 (21%)]\tLoss: 0.209049\t训练正确率: 96.02%\t校验正确率: 96.78%\n",
      "训练周期: 6 [2400/60000 (32%)]\tLoss: 0.103027\t训练正确率: 96.00%\t校验正确率: 96.70%\n",
      "训练周期: 6 [3200/60000 (43%)]\tLoss: 0.145488\t训练正确率: 96.07%\t校验正确率: 96.82%\n",
      "训练周期: 6 [4000/60000 (53%)]\tLoss: 0.065650\t训练正确率: 96.14%\t校验正确率: 97.00%\n",
      "训练周期: 6 [4800/60000 (64%)]\tLoss: 0.052442\t训练正确率: 96.18%\t校验正确率: 96.96%\n",
      "训练周期: 6 [5600/60000 (75%)]\tLoss: 0.107744\t训练正确率: 96.23%\t校验正确率: 97.10%\n",
      "训练周期: 6 [6400/60000 (85%)]\tLoss: 0.082552\t训练正确率: 96.21%\t校验正确率: 96.80%\n",
      "训练周期: 6 [7200/60000 (96%)]\tLoss: 0.015517\t训练正确率: 96.20%\t校验正确率: 96.86%\n",
      "训练周期: 7 [0/60000 (0%)]\tLoss: 0.170381\t训练正确率: 95.31%\t校验正确率: 97.24%\n",
      "训练周期: 7 [800/60000 (11%)]\tLoss: 0.064856\t训练正确率: 96.75%\t校验正确率: 97.24%\n",
      "训练周期: 7 [1600/60000 (21%)]\tLoss: 0.072062\t训练正确率: 96.64%\t校验正确率: 97.20%\n",
      "训练周期: 7 [2400/60000 (32%)]\tLoss: 0.125497\t训练正确率: 96.59%\t校验正确率: 97.12%\n",
      "训练周期: 7 [3200/60000 (43%)]\tLoss: 0.157553\t训练正确率: 96.59%\t校验正确率: 97.24%\n",
      "训练周期: 7 [4000/60000 (53%)]\tLoss: 0.108797\t训练正确率: 96.60%\t校验正确率: 97.18%\n",
      "训练周期: 7 [4800/60000 (64%)]\tLoss: 0.077876\t训练正确率: 96.56%\t校验正确率: 97.36%\n",
      "训练周期: 7 [5600/60000 (75%)]\tLoss: 0.037273\t训练正确率: 96.51%\t校验正确率: 97.24%\n",
      "训练周期: 7 [6400/60000 (85%)]\tLoss: 0.065531\t训练正确率: 96.54%\t校验正确率: 97.24%\n",
      "训练周期: 7 [7200/60000 (96%)]\tLoss: 0.134651\t训练正确率: 96.52%\t校验正确率: 97.18%\n",
      "训练周期: 8 [0/60000 (0%)]\tLoss: 0.092592\t训练正确率: 95.31%\t校验正确率: 97.36%\n",
      "训练周期: 8 [800/60000 (11%)]\tLoss: 0.095342\t训练正确率: 96.43%\t校验正确率: 97.04%\n",
      "训练周期: 8 [1600/60000 (21%)]\tLoss: 0.061677\t训练正确率: 96.49%\t校验正确率: 96.90%\n",
      "训练周期: 8 [2400/60000 (32%)]\tLoss: 0.088797\t训练正确率: 96.40%\t校验正确率: 97.48%\n",
      "训练周期: 8 [3200/60000 (43%)]\tLoss: 0.045784\t训练正确率: 96.46%\t校验正确率: 97.20%\n",
      "训练周期: 8 [4000/60000 (53%)]\tLoss: 0.156858\t训练正确率: 96.56%\t校验正确率: 97.32%\n",
      "训练周期: 8 [4800/60000 (64%)]\tLoss: 0.149669\t训练正确率: 96.58%\t校验正确率: 97.44%\n",
      "训练周期: 8 [5600/60000 (75%)]\tLoss: 0.187674\t训练正确率: 96.59%\t校验正确率: 97.38%\n",
      "训练周期: 8 [6400/60000 (85%)]\tLoss: 0.075215\t训练正确率: 96.67%\t校验正确率: 97.48%\n",
      "训练周期: 8 [7200/60000 (96%)]\tLoss: 0.023124\t训练正确率: 96.73%\t校验正确率: 97.36%\n",
      "训练周期: 9 [0/60000 (0%)]\tLoss: 0.091605\t训练正确率: 96.88%\t校验正确率: 97.42%\n",
      "训练周期: 9 [800/60000 (11%)]\tLoss: 0.041647\t训练正确率: 96.69%\t校验正确率: 97.32%\n",
      "训练周期: 9 [1600/60000 (21%)]\tLoss: 0.022906\t训练正确率: 96.70%\t校验正确率: 97.36%\n",
      "训练周期: 9 [2400/60000 (32%)]\tLoss: 0.051629\t训练正确率: 96.80%\t校验正确率: 97.44%\n",
      "训练周期: 9 [3200/60000 (43%)]\tLoss: 0.087750\t训练正确率: 96.82%\t校验正确率: 97.58%\n",
      "训练周期: 9 [4000/60000 (53%)]\tLoss: 0.085598\t训练正确率: 96.93%\t校验正确率: 97.58%\n",
      "训练周期: 9 [4800/60000 (64%)]\tLoss: 0.048746\t训练正确率: 96.99%\t校验正确率: 97.46%\n",
      "训练周期: 9 [5600/60000 (75%)]\tLoss: 0.063250\t训练正确率: 96.96%\t校验正确率: 97.68%\n",
      "训练周期: 9 [6400/60000 (85%)]\tLoss: 0.141112\t训练正确率: 96.99%\t校验正确率: 97.72%\n",
      "训练周期: 9 [7200/60000 (96%)]\tLoss: 0.073360\t训练正确率: 96.99%\t校验正确率: 97.84%\n",
      "训练周期: 10 [0/60000 (0%)]\tLoss: 0.024962\t训练正确率: 100.00%\t校验正确率: 97.68%\n",
      "训练周期: 10 [800/60000 (11%)]\tLoss: 0.326526\t训练正确率: 97.29%\t校验正确率: 97.82%\n",
      "训练周期: 10 [1600/60000 (21%)]\tLoss: 0.040254\t训练正确率: 97.18%\t校验正确率: 97.94%\n",
      "训练周期: 10 [2400/60000 (32%)]\tLoss: 0.154905\t训练正确率: 97.16%\t校验正确率: 97.72%\n",
      "训练周期: 10 [3200/60000 (43%)]\tLoss: 0.045024\t训练正确率: 97.11%\t校验正确率: 97.90%\n",
      "训练周期: 10 [4000/60000 (53%)]\tLoss: 0.072520\t训练正确率: 97.13%\t校验正确率: 97.94%\n",
      "训练周期: 10 [4800/60000 (64%)]\tLoss: 0.145856\t训练正确率: 97.14%\t校验正确率: 97.80%\n",
      "训练周期: 10 [5600/60000 (75%)]\tLoss: 0.036489\t训练正确率: 97.13%\t校验正确率: 97.84%\n",
      "训练周期: 10 [6400/60000 (85%)]\tLoss: 0.029267\t训练正确率: 97.12%\t校验正确率: 97.92%\n",
      "训练周期: 10 [7200/60000 (96%)]\tLoss: 0.129931\t训练正确率: 97.13%\t校验正确率: 97.74%\n",
      "训练周期: 11 [0/60000 (0%)]\tLoss: 0.051294\t训练正确率: 96.88%\t校验正确率: 97.88%\n",
      "训练周期: 11 [800/60000 (11%)]\tLoss: 0.068370\t训练正确率: 97.15%\t校验正确率: 97.86%\n",
      "训练周期: 11 [1600/60000 (21%)]\tLoss: 0.028809\t训练正确率: 97.29%\t校验正确率: 97.94%\n",
      "训练周期: 11 [2400/60000 (32%)]\tLoss: 0.024958\t训练正确率: 97.21%\t校验正确率: 97.86%\n",
      "训练周期: 11 [3200/60000 (43%)]\tLoss: 0.246855\t训练正确率: 97.24%\t校验正确率: 97.88%\n",
      "训练周期: 11 [4000/60000 (53%)]\tLoss: 0.057515\t训练正确率: 97.18%\t校验正确率: 97.90%\n",
      "训练周期: 11 [4800/60000 (64%)]\tLoss: 0.119411\t训练正确率: 97.21%\t校验正确率: 98.06%\n",
      "训练周期: 11 [5600/60000 (75%)]\tLoss: 0.218868\t训练正确率: 97.21%\t校验正确率: 97.86%\n"
     ]
    },
    {
     "name": "stdout",
     "output_type": "stream",
     "text": [
      "训练周期: 11 [6400/60000 (85%)]\tLoss: 0.049122\t训练正确率: 97.23%\t校验正确率: 98.10%\n",
      "训练周期: 11 [7200/60000 (96%)]\tLoss: 0.031089\t训练正确率: 97.28%\t校验正确率: 98.18%\n",
      "训练周期: 12 [0/60000 (0%)]\tLoss: 0.089008\t训练正确率: 96.88%\t校验正确率: 98.04%\n",
      "训练周期: 12 [800/60000 (11%)]\tLoss: 0.061546\t训练正确率: 97.37%\t校验正确率: 98.20%\n",
      "训练周期: 12 [1600/60000 (21%)]\tLoss: 0.037016\t训练正确率: 97.37%\t校验正确率: 98.02%\n",
      "训练周期: 12 [2400/60000 (32%)]\tLoss: 0.085749\t训练正确率: 97.58%\t校验正确率: 98.00%\n",
      "训练周期: 12 [3200/60000 (43%)]\tLoss: 0.026387\t训练正确率: 97.48%\t校验正确率: 98.10%\n",
      "训练周期: 12 [4000/60000 (53%)]\tLoss: 0.203794\t训练正确率: 97.53%\t校验正确率: 98.02%\n",
      "训练周期: 12 [4800/60000 (64%)]\tLoss: 0.021496\t训练正确率: 97.55%\t校验正确率: 97.88%\n",
      "训练周期: 12 [5600/60000 (75%)]\tLoss: 0.111330\t训练正确率: 97.52%\t校验正确率: 98.00%\n",
      "训练周期: 12 [6400/60000 (85%)]\tLoss: 0.042787\t训练正确率: 97.49%\t校验正确率: 97.98%\n",
      "训练周期: 12 [7200/60000 (96%)]\tLoss: 0.023610\t训练正确率: 97.51%\t校验正确率: 98.08%\n",
      "训练周期: 13 [0/60000 (0%)]\tLoss: 0.075813\t训练正确率: 96.88%\t校验正确率: 98.14%\n",
      "训练周期: 13 [800/60000 (11%)]\tLoss: 0.116814\t训练正确率: 97.62%\t校验正确率: 98.14%\n",
      "训练周期: 13 [1600/60000 (21%)]\tLoss: 0.044336\t训练正确率: 97.57%\t校验正确率: 98.04%\n",
      "训练周期: 13 [2400/60000 (32%)]\tLoss: 0.077663\t训练正确率: 97.60%\t校验正确率: 98.22%\n",
      "训练周期: 13 [3200/60000 (43%)]\tLoss: 0.147840\t训练正确率: 97.60%\t校验正确率: 98.00%\n",
      "训练周期: 13 [4000/60000 (53%)]\tLoss: 0.060850\t训练正确率: 97.57%\t校验正确率: 98.32%\n",
      "训练周期: 13 [4800/60000 (64%)]\tLoss: 0.029715\t训练正确率: 97.58%\t校验正确率: 98.16%\n",
      "训练周期: 13 [5600/60000 (75%)]\tLoss: 0.039431\t训练正确率: 97.62%\t校验正确率: 98.28%\n",
      "训练周期: 13 [6400/60000 (85%)]\tLoss: 0.022950\t训练正确率: 97.62%\t校验正确率: 98.04%\n",
      "训练周期: 13 [7200/60000 (96%)]\tLoss: 0.076059\t训练正确率: 97.63%\t校验正确率: 98.22%\n",
      "训练周期: 14 [0/60000 (0%)]\tLoss: 0.034997\t训练正确率: 98.44%\t校验正确率: 98.16%\n",
      "训练周期: 14 [800/60000 (11%)]\tLoss: 0.040820\t训练正确率: 97.88%\t校验正确率: 98.24%\n",
      "训练周期: 14 [1600/60000 (21%)]\tLoss: 0.054039\t训练正确率: 97.78%\t校验正确率: 98.14%\n",
      "训练周期: 14 [2400/60000 (32%)]\tLoss: 0.061594\t训练正确率: 97.79%\t校验正确率: 98.30%\n",
      "训练周期: 14 [3200/60000 (43%)]\tLoss: 0.172372\t训练正确率: 97.81%\t校验正确率: 98.38%\n",
      "训练周期: 14 [4000/60000 (53%)]\tLoss: 0.019461\t训练正确率: 97.74%\t校验正确率: 98.20%\n",
      "训练周期: 14 [4800/60000 (64%)]\tLoss: 0.021941\t训练正确率: 97.70%\t校验正确率: 98.42%\n",
      "训练周期: 14 [5600/60000 (75%)]\tLoss: 0.028515\t训练正确率: 97.67%\t校验正确率: 98.36%\n",
      "训练周期: 14 [6400/60000 (85%)]\tLoss: 0.097060\t训练正确率: 97.68%\t校验正确率: 98.36%\n",
      "训练周期: 14 [7200/60000 (96%)]\tLoss: 0.106198\t训练正确率: 97.64%\t校验正确率: 98.32%\n",
      "训练周期: 15 [0/60000 (0%)]\tLoss: 0.062261\t训练正确率: 98.44%\t校验正确率: 98.30%\n",
      "训练周期: 15 [800/60000 (11%)]\tLoss: 0.034117\t训练正确率: 97.79%\t校验正确率: 98.26%\n",
      "训练周期: 15 [1600/60000 (21%)]\tLoss: 0.144068\t训练正确率: 97.78%\t校验正确率: 98.30%\n",
      "训练周期: 15 [2400/60000 (32%)]\tLoss: 0.203574\t训练正确率: 97.82%\t校验正确率: 98.42%\n",
      "训练周期: 15 [3200/60000 (43%)]\tLoss: 0.046304\t训练正确率: 97.87%\t校验正确率: 98.40%\n",
      "训练周期: 15 [4000/60000 (53%)]\tLoss: 0.011936\t训练正确率: 97.87%\t校验正确率: 98.26%\n",
      "训练周期: 15 [4800/60000 (64%)]\tLoss: 0.055743\t训练正确率: 97.80%\t校验正确率: 98.42%\n",
      "训练周期: 15 [5600/60000 (75%)]\tLoss: 0.070627\t训练正确率: 97.83%\t校验正确率: 98.56%\n",
      "训练周期: 15 [6400/60000 (85%)]\tLoss: 0.084882\t训练正确率: 97.81%\t校验正确率: 98.46%\n",
      "训练周期: 15 [7200/60000 (96%)]\tLoss: 0.039367\t训练正确率: 97.80%\t校验正确率: 98.46%\n",
      "训练周期: 16 [0/60000 (0%)]\tLoss: 0.025585\t训练正确率: 100.00%\t校验正确率: 98.36%\n",
      "训练周期: 16 [800/60000 (11%)]\tLoss: 0.296222\t训练正确率: 97.85%\t校验正确率: 98.38%\n",
      "训练周期: 16 [1600/60000 (21%)]\tLoss: 0.037022\t训练正确率: 97.83%\t校验正确率: 98.50%\n",
      "训练周期: 16 [2400/60000 (32%)]\tLoss: 0.043804\t训练正确率: 97.79%\t校验正确率: 98.52%\n",
      "训练周期: 16 [3200/60000 (43%)]\tLoss: 0.090210\t训练正确率: 97.82%\t校验正确率: 98.46%\n",
      "训练周期: 16 [4000/60000 (53%)]\tLoss: 0.029625\t训练正确率: 97.88%\t校验正确率: 98.62%\n",
      "训练周期: 16 [4800/60000 (64%)]\tLoss: 0.135731\t训练正确率: 97.93%\t校验正确率: 98.38%\n",
      "训练周期: 16 [5600/60000 (75%)]\tLoss: 0.014954\t训练正确率: 97.97%\t校验正确率: 98.38%\n",
      "训练周期: 16 [6400/60000 (85%)]\tLoss: 0.069818\t训练正确率: 97.94%\t校验正确率: 98.48%\n",
      "训练周期: 16 [7200/60000 (96%)]\tLoss: 0.018319\t训练正确率: 97.94%\t校验正确率: 98.54%\n",
      "训练周期: 17 [0/60000 (0%)]\tLoss: 0.122976\t训练正确率: 95.31%\t校验正确率: 98.36%\n",
      "训练周期: 17 [800/60000 (11%)]\tLoss: 0.022069\t训练正确率: 98.25%\t校验正确率: 98.52%\n",
      "训练周期: 17 [1600/60000 (21%)]\tLoss: 0.015973\t训练正确率: 98.10%\t校验正确率: 98.36%\n",
      "训练周期: 17 [2400/60000 (32%)]\tLoss: 0.012419\t训练正确率: 98.12%\t校验正确率: 98.54%\n",
      "训练周期: 17 [3200/60000 (43%)]\tLoss: 0.014946\t训练正确率: 98.11%\t校验正确率: 98.54%\n",
      "训练周期: 17 [4000/60000 (53%)]\tLoss: 0.081320\t训练正确率: 98.10%\t校验正确率: 98.48%\n",
      "训练周期: 17 [4800/60000 (64%)]\tLoss: 0.255572\t训练正确率: 98.04%\t校验正确率: 98.56%\n",
      "训练周期: 17 [5600/60000 (75%)]\tLoss: 0.054500\t训练正确率: 98.02%\t校验正确率: 98.46%\n",
      "训练周期: 17 [6400/60000 (85%)]\tLoss: 0.043324\t训练正确率: 98.00%\t校验正确率: 98.64%\n",
      "训练周期: 17 [7200/60000 (96%)]\tLoss: 0.063795\t训练正确率: 97.99%\t校验正确率: 98.66%\n",
      "训练周期: 18 [0/60000 (0%)]\tLoss: 0.113886\t训练正确率: 93.75%\t校验正确率: 98.58%\n",
      "训练周期: 18 [800/60000 (11%)]\tLoss: 0.008148\t训练正确率: 97.99%\t校验正确率: 98.62%\n",
      "训练周期: 18 [1600/60000 (21%)]\tLoss: 0.108961\t训练正确率: 98.12%\t校验正确率: 98.60%\n",
      "训练周期: 18 [2400/60000 (32%)]\tLoss: 0.027104\t训练正确率: 98.09%\t校验正确率: 98.52%\n",
      "训练周期: 18 [3200/60000 (43%)]\tLoss: 0.069593\t训练正确率: 98.09%\t校验正确率: 98.62%\n",
      "训练周期: 18 [4000/60000 (53%)]\tLoss: 0.086869\t训练正确率: 98.06%\t校验正确率: 98.58%\n",
      "训练周期: 18 [4800/60000 (64%)]\tLoss: 0.029663\t训练正确率: 98.06%\t校验正确率: 98.58%\n",
      "训练周期: 18 [5600/60000 (75%)]\tLoss: 0.053081\t训练正确率: 98.08%\t校验正确率: 98.56%\n",
      "训练周期: 18 [6400/60000 (85%)]\tLoss: 0.080131\t训练正确率: 98.06%\t校验正确率: 98.58%\n",
      "训练周期: 18 [7200/60000 (96%)]\tLoss: 0.074665\t训练正确率: 98.09%\t校验正确率: 98.62%\n",
      "训练周期: 19 [0/60000 (0%)]\tLoss: 0.105450\t训练正确率: 98.44%\t校验正确率: 98.60%\n",
      "训练周期: 19 [800/60000 (11%)]\tLoss: 0.023789\t训练正确率: 98.28%\t校验正确率: 98.56%\n",
      "训练周期: 19 [1600/60000 (21%)]\tLoss: 0.174978\t训练正确率: 98.37%\t校验正确率: 98.68%\n",
      "训练周期: 19 [2400/60000 (32%)]\tLoss: 0.093770\t训练正确率: 98.30%\t校验正确率: 98.54%\n",
      "训练周期: 19 [3200/60000 (43%)]\tLoss: 0.061117\t训练正确率: 98.21%\t校验正确率: 98.80%\n",
      "训练周期: 19 [4000/60000 (53%)]\tLoss: 0.029298\t训练正确率: 98.16%\t校验正确率: 98.64%\n",
      "训练周期: 19 [4800/60000 (64%)]\tLoss: 0.089262\t训练正确率: 98.20%\t校验正确率: 98.70%\n",
      "训练周期: 19 [5600/60000 (75%)]\tLoss: 0.062325\t训练正确率: 98.19%\t校验正确率: 98.60%\n",
      "训练周期: 19 [6400/60000 (85%)]\tLoss: 0.049229\t训练正确率: 98.17%\t校验正确率: 98.70%\n",
      "训练周期: 19 [7200/60000 (96%)]\tLoss: 0.012241\t训练正确率: 98.19%\t校验正确率: 98.64%\n"
     ]
    }
   ],
   "source": [
    "def rightness(predictions, labels):\n",
    "    \"\"\"计算预测错误率的函数，其中predictions是模型给出的一组预测结果，batch_size行10列的矩阵，labels是数据之中的正确答案\"\"\"\n",
    "    pred = torch.max(predictions.data, 1)[1] # 对于任意一行（一个样本）的输出值的第1个维度，求最大，得到每一行的最大元素的下标\n",
    "    rights = pred.eq(labels.data.view_as(pred)).sum() #将下标与labels中包含的类别进行比较，并累计得到比较正确的数量\n",
    "    return rights, len(labels) #返回正确的数量和这一次一共比较了多少元素\n",
    "net = ConvNet() #新建一个卷积神经网络的实例\n",
    "\n",
    "criterion = nn.CrossEntropyLoss() #Loss函数的定义\n",
    "optimizer = optim.SGD(net.parameters(), lr=0.001, momentum=0.9) #定义优化器\n",
    "\n",
    "record = [] #记录准确率等数值的容器\n",
    "weights = [] #每若干步就记录一次卷积核\n",
    "\n",
    "#开始训练循环\n",
    "for epoch in range(num_epochs):\n",
    "    \n",
    "    train_rights = [] #记录训练数据集准确率的容器\n",
    "    for batch_idx, (data, target) in enumerate(train_loader):  #针对容器中的每一个批进行循环\n",
    "        data, target = data.clone().detach().requires_grad_(True), target.clone().detach() #将Tensor转化为Variable，data为图像，target为标签\n",
    "        net.train() # 给网络模型做标记，标志说模型在训练集上训练\n",
    "        output = net(data) #完成一次预测\n",
    "        loss = criterion(output, target) #计算误差\n",
    "        optimizer.zero_grad() #清空梯度\n",
    "        loss.backward() #反向传播\n",
    "        optimizer.step() #一步随机梯度下降\n",
    "        right = rightness(output, target) #计算准确率所需数值，返回正确的数值为（正确样例数，总样本数）\n",
    "        train_rights.append(right) #将计算结果装到列表容器中\n",
    "\n",
    "    \n",
    "        if batch_idx % 100 == 0: #每间隔100个batch执行一次\n",
    "            \n",
    "            #train_r为一个二元组，分别记录训练集中分类正确的数量和该集合中总的样本数\n",
    "            train_r = (sum([tup[0] for tup in train_rights]), sum([tup[1] for tup in train_rights]))\n",
    "            \n",
    "            net.eval() # 给网络模型做标记，标志说模型在训练集上训练\n",
    "            val_rights = [] #记录校验数据集准确率的容器\n",
    "            for (data, target) in validation_loader:\n",
    "                data, target = data.clone().detach().requires_grad_(True), target.clone().detach() \n",
    "                output = net(data) #完成一次预测\n",
    "                right = rightness(output, target) #计算准确率所需数值，返回正确的数值为（正确样例数，总样本数）\n",
    "                val_rights.append(right)\n",
    "            \n",
    "            #val_r为一个二元组，分别记录校验集中分类正确的数量和该集合中总的样本数\n",
    "            val_r = (sum([tup[0] for tup in val_rights]), sum([tup[1] for tup in val_rights]))\n",
    "            \n",
    "            #打印准确率等数值，其中正确率为本训练周期Epoch开始后到目前撮的正确率的平均值\n",
    "            print('训练周期: {} [{}/{} ({:.0f}%)]\\tLoss: {:.6f}\\t训练正确率: {:.2f}%\\t校验正确率: {:.2f}%'.format(\n",
    "                epoch, batch_idx * len(data), len(train_loader.dataset),\n",
    "                100. * batch_idx / len(train_loader),\n",
    "                loss.data, \n",
    "                100. * train_r[0].numpy() / train_r[1], \n",
    "                100. * val_r[0].numpy() / val_r[1]))\n",
    "            \n",
    "            #将准确率和权重等数值加载到容器中，以方便后续处理\n",
    "            record.append((100 - 100. * train_r[0].numpy() / train_r[1], 100 - 100. * val_r[0].numpy() / val_r[1]))\n",
    "            weights.append([net.conv1.weight.data.clone(), net.conv1.bias.data.clone(), \n",
    "                            net.conv2.weight.data.clone(), net.conv2.bias.data.clone()])\n",
    "            "
   ]
  },
  {
   "cell_type": "markdown",
   "metadata": {},
   "source": [
    "## 保存模型"
   ]
  },
  {
   "cell_type": "code",
   "execution_count": 6,
   "metadata": {},
   "outputs": [
    {
     "name": "stderr",
     "output_type": "stream",
     "text": [
      "Z:\\Anaconda\\envs\\pytorch\\lib\\site-packages\\torch\\serialization.py:256: UserWarning: Couldn't retrieve source code for container of type ConvNet. It won't be checked for correctness upon loading.\n",
      "  \"type \" + obj.__name__ + \". It won't be checked \"\n"
     ]
    }
   ],
   "source": [
    "# 在这里保存已经训练好的神经网络\n",
    "torch.save(net, 'minst_conv_checkpoint') #后面的字符串为保存文件的路径"
   ]
  },
  {
   "cell_type": "code",
   "execution_count": 7,
   "metadata": {},
   "outputs": [
    {
     "data": {
      "image/png": "[encoded data removed]",
      "text/plain": [
       "<Figure size 720x504 with 4 Axes>"
      ]
     },
     "metadata": {},
     "output_type": "display_data"
    }
   ],
   "source": [
    "#提取第一层卷积层的卷积核\n",
    "plt.figure(figsize = (10, 7))\n",
    "for i in range(4):\n",
    "    plt.subplot(1,4,i + 1)\n",
    "    plt.imshow(net.conv1.weight.data.numpy()[i,0,...])\n"
   ]
  },
  {
   "cell_type": "code",
   "execution_count": 8,
   "metadata": {},
   "outputs": [
    {
     "data": {
      "image/png": "[encoded data removed]",
      "text/plain": [
       "<Figure size 1080x720 with 32 Axes>"
      ]
     },
     "metadata": {},
     "output_type": "display_data"
    }
   ],
   "source": [
    "# 绘制第二层的卷积核\n",
    "plt.figure(figsize = (15, 10))\n",
    "for i in range(4):\n",
    "    for j in range(8):\n",
    "        plt.subplot(4, 8, i * 8 + j + 1)\n",
    "        plt.imshow(net.conv2.weight.data.numpy()[j, i,...])"
   ]
  }
 ],
 "metadata": {
  "kernelspec": {
   "display_name": "pytorch",
   "language": "python",
   "name": "pytorch"
  },
  "language_info": {
   "codemirror_mode": {
    "name": "ipython",
    "version": 3
   },
   "file_extension": ".py",
   "mimetype": "text/x-python",
   "name": "python",
   "nbconvert_exporter": "python",
   "pygments_lexer": "ipython3",
   "version": "3.6.2"
  }
 },
 "nbformat": 4,
 "nbformat_minor": 2
}
